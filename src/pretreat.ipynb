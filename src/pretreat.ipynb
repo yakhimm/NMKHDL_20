{
 "cells": [
  {
   "cell_type": "markdown",
   "metadata": {},
   "source": [
    "# KHÁM PHÁ DỮ LIỆU VÀ TIỀN XỬ LÝ"
   ]
  },
  {
   "cell_type": "markdown",
   "metadata": {},
   "source": [
    "## 1. KHÁM PHÁ DỮ LIỆU"
   ]
  },
  {
   "cell_type": "code",
   "execution_count": null,
   "metadata": {},
   "outputs": [],
   "source": [
    "# Import các thư viện cần thiết\n",
    "import pandas as pd\n",
    "import numpy as np\n",
    "import warnings"
   ]
  },
  {
   "cell_type": "markdown",
   "metadata": {},
   "source": [
    "### Đọc dữ liêu tập tin đã crawl về\n",
    "Đọc từ đường dẫn file `crawl/air_quality/crawldata/air_datas.json` và lưu vào `df`"
   ]
  },
  {
   "cell_type": "code",
   "execution_count": null,
   "metadata": {},
   "outputs": [],
   "source": [
    "path = 'crawl/air_quality/crawldata/air_datas.json'\n",
    "df = pd.read_json(path)\n",
    "df.head()"
   ]
  },
  {
   "cell_type": "markdown",
   "metadata": {},
   "source": [
    "### Kiểm tra dữ liệu có bao nhiêu dòng, bao nhiêu cột\n",
    "Ta tính số dòng và số cột của DataFrame `df` và lưu vào biến `shape` (tuple). "
   ]
  },
  {
   "cell_type": "code",
   "execution_count": null,
   "metadata": {},
   "outputs": [],
   "source": [
    "shape = df.shape\n",
    "shape"
   ]
  },
  {
   "cell_type": "markdown",
   "metadata": {},
   "source": [
    "### Mỗi dòng có ý nghĩa gì? Có vấn đề các dòng có ý nghĩa khác nhau không?\n",
    "\n",
    "Mỗi dòng trong DataFrame `df` cho biết dữ liệu mức độ ô nhiễm của một thành phố trong một quốc gia trên thế giới \n",
    "\n",
    "### Dữ liệu có các dòng bị lặp không?"
   ]
  },
  {
   "cell_type": "code",
   "execution_count": null,
   "metadata": {},
   "outputs": [],
   "source": [
    "id = list(df.index)\n",
    "num_duplicated_rows = len(id)-len(set(id))\n",
    "if(num_duplicated_rows == 0):\n",
    "    print(\"Dữ liệu không bị lặp\")\n",
    "else: \n",
    "    print(\"Dữ liệu bị lặp \" + str(id) + \" dòng\")"
   ]
  },
  {
   "cell_type": "markdown",
   "metadata": {},
   "source": [
    "### Mỗi cột có ý nghĩa gì?\n"
   ]
  },
  {
   "cell_type": "code",
   "execution_count": null,
   "metadata": {},
   "outputs": [],
   "source": [
    "df.columns"
   ]
  },
  {
   "cell_type": "markdown",
   "metadata": {},
   "source": [
    "\n",
    "### Mỗi cột hiện đang có kiểu dữ liệu gì? Có cột nào có kiểu dữ liệu chưa phù hợp để có thể xử lý tiếp không?"
   ]
  },
  {
   "cell_type": "code",
   "execution_count": null,
   "metadata": {},
   "outputs": [],
   "source": [
    "df.info()"
   ]
  },
  {
   "cell_type": "markdown",
   "metadata": {},
   "source": [
    "## 2. TIỀN XỬ LÝ"
   ]
  },
  {
   "cell_type": "markdown",
   "metadata": {},
   "source": [
    "### Nhận xét\n",
    "- Các cột chủ yếu đều có dạng `numeric`. Tuy nhiên ta có thể thấy được các cột có kiểu dữ kiệu là object (chủ yếu) do đó ta cần phải xử lý đưa kiểu dữ liệu cột về đúng định dạng. \n",
    "- Ta đưa về dtype = `np.float64`"
   ]
  },
  {
   "cell_type": "code",
   "execution_count": null,
   "metadata": {},
   "outputs": [],
   "source": [
    "df = df.replace(' - ', np.nan)\n",
    "warnings.simplefilter(\"ignore\", category = FutureWarning)\n",
    "df.iloc[:, 3:19] = df.iloc[:, 3:19].astype(np.float64)\n",
    "df.info()"
   ]
  },
  {
   "cell_type": "markdown",
   "metadata": {},
   "source": [
    "### Với mỗi cột có kiểu dữ liệu dạng số, các giá trị được phân bố như thế nào?\n",
    "\n",
    "Với các cột điểm, Ta sẽ tính:\n",
    "- Tỉ lệ % (từ 0 đến 100) các giá trị thiếu \n",
    "- Giá trị min\n",
    "- Giá trị lower quartile (phân vị 25)\n",
    "- Giá trị median (phân vị 50)\n",
    "- Giá trị upper quartile (phân vị 75)\n",
    "- Giá trị max\n",
    "\n",
    "\n",
    "Bạn sẽ lưu kết quả vào DataFrame `num_col_info_df`, trong đó: \n",
    "- Tên của các cột là:\n",
    "  - Cột năm: Mức độ ô nhiễm được trong năm 2021\n",
    "  - Cột tháng: Mức độ ô nhiễm được dự đoán trong tháng của năm 2022\n",
    "- Tên của các dòng là: \"missing_ratio\", \"min\", \"lower_quartile\", \"median\", \"upper_quartile\", \"max\"\n",
    "\n",
    "Để dễ nhìn, tất cả các giá trị ta đều làm tròn với 1 chữ số thập phân bằng phương thức `.round(1)`."
   ]
  },
  {
   "cell_type": "code",
   "execution_count": null,
   "metadata": {},
   "outputs": [],
   "source": [
    "def get(col):\n",
    "    NaNValue = col.isna().sum()\n",
    "    valu1 = col.dropna()\n",
    "    x = []\n",
    "    x.append((NaNValue/len(col))*100)\n",
    "    x.append(np.percentile(valu1, 0))\n",
    "    x.append(np.percentile(valu1, 25))\n",
    "    x.append(np.percentile(valu1, 50))\n",
    "    x.append(np.percentile(valu1, 75))\n",
    "    x.append(np.percentile(valu1, 100))\n",
    "    return np.array(x).round(1)\n",
    "\n",
    "index_info=[\"missing_ratio\", \"min\", \"lower_quartile\", \"median\", \"upper_quartile\", \"max\"]\n",
    "dict_info = {}\n",
    "for i in df.columns:\n",
    "    if df[i].dtype in [np.float32, np.float64]:\n",
    "        dict_info[i] = get(df[i])   \n",
    "num_col_info_df =pd.DataFrame(dict_info,index_info)\n",
    "num_col_info_df"
   ]
  },
  {
   "cell_type": "markdown",
   "metadata": {},
   "source": [
    "### Tiền xử lý các cột của dữ liệu\n",
    "Trước khi ghi dữ liệu tiền xử lý ra file csv, ta thấy cột city có thể tách làm 2 cột riêng là cột city và cột country để dễ dàng thực hiện cho các thao tác sau này."
   ]
  },
  {
   "cell_type": "code",
   "execution_count": null,
   "metadata": {},
   "outputs": [],
   "source": [
    "split_city_df = df['City'].str.split(', ')\n",
    "df['City'] = split_city_df.str[0]\n",
    "df.insert(2, 'Country', split_city_df.str[1], True)\n",
    "df.head()"
   ]
  },
  {
   "cell_type": "markdown",
   "metadata": {},
   "source": [
    "Nhìn chung do cách crawl data về không phù hợp nên các dòng dữ liệu bị sắp xếp lộn xộn, do đó ta sẽ sử dụng sort_values để sắp lại theo thứ tự tăng dần cột Rank"
   ]
  },
  {
   "cell_type": "code",
   "execution_count": null,
   "metadata": {},
   "outputs": [],
   "source": [
    "df.sort_values(by = ['Rank'], inplace = True)"
   ]
  },
  {
   "cell_type": "markdown",
   "metadata": {},
   "source": [
    "### Sau đó ta hãy ghi df ra file `airdata6years.csv` vào folder data"
   ]
  },
  {
   "cell_type": "code",
   "execution_count": null,
   "metadata": {},
   "outputs": [],
   "source": [
    "df.to_csv('./../data/airdata6years.csv')"
   ]
  }
 ],
 "metadata": {
  "kernelspec": {
   "display_name": "Python 3 (ipykernel)",
   "language": "python",
   "name": "python3"
  },
  "language_info": {
   "codemirror_mode": {
    "name": "ipython",
    "version": 3
   },
   "file_extension": ".py",
   "mimetype": "text/x-python",
   "name": "python",
   "nbconvert_exporter": "python",
   "pygments_lexer": "ipython3",
   "version": "3.8.13"
  },
  "vscode": {
   "interpreter": {
    "hash": "65a440aeac0c89e2af7569e0aa53b64434c4b69eb6285e2b0d174d9bca190d54"
   }
  }
 },
 "nbformat": 4,
 "nbformat_minor": 2
}
