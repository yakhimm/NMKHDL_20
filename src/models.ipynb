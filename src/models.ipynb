{
 "cells": [
  {
   "attachments": {},
   "cell_type": "markdown",
   "metadata": {},
   "source": [
    "# MÔ HÌNH HÓA DỮ LIỆU\n",
    "- **VỀ DỮ LIỆU:** Dữ liệu được thu thập thêm từ thông tin chi tiết của các địa điểm của một quốc gia. Có các cột là giá trị các thông tin chi tiết đó. Và có một cột target chính là kết quả mà ta sẽ suy ra từ bộ dữ liệu input. Dữ liệu có thể được cập nhật theo ngày tháng, do đó dữ liệu sẽ gần như vô hạn. Tuy nhiên, ta chỉ dùng một ngày cố định, thường sẽ dùng today().\n",
    "- **VỀ MÔ HÌNH:** Ta sẽ chọn 2 mô hình:\n",
    "  - Mô hình gom nhóm Random Forest.\n",
    "  - Mô hình hồi quy tuyến tính Logitis Regression."
   ]
  },
  {
   "cell_type": "code",
   "execution_count": 1,
   "metadata": {},
   "outputs": [],
   "source": [
    "import pandas as pd\n",
    "import numpy as np\n",
    "import warnings\n",
    "import matplotlib.pyplot as plt\n",
    "import seaborn as sns\n",
    "\n",
    "# Các thư viện hỗ trợ thêm\n",
    "from sklearn.impute import SimpleImputer\n",
    "from sklearn.model_selection import train_test_split\n",
    "from sklearn import metrics\n",
    "from sklearn.metrics import confusion_matrix"
   ]
  },
  {
   "attachments": {},
   "cell_type": "markdown",
   "metadata": {},
   "source": [
    "Đọc file input dữ liệu:\n",
    "\n",
    "- Ta có thể lấy dữ liệu gần nhất, dữ liệu today()\n",
    "- Ta có thể lấy dữ liệu các ngày đã thu thập."
   ]
  },
  {
   "cell_type": "code",
   "execution_count": 2,
   "metadata": {},
   "outputs": [
    {
     "data": {
      "text/html": [
       "<div>\n",
       "<style scoped>\n",
       "    .dataframe tbody tr th:only-of-type {\n",
       "        vertical-align: middle;\n",
       "    }\n",
       "\n",
       "    .dataframe tbody tr th {\n",
       "        vertical-align: top;\n",
       "    }\n",
       "\n",
       "    .dataframe thead th {\n",
       "        text-align: right;\n",
       "    }\n",
       "</style>\n",
       "<table border=\"1\" class=\"dataframe\">\n",
       "  <thead>\n",
       "    <tr style=\"text-align: right;\">\n",
       "      <th></th>\n",
       "      <th>Thời tiết</th>\n",
       "      <th>Nhiệt độ</th>\n",
       "      <th>Độ ẩm</th>\n",
       "      <th>Gió</th>\n",
       "      <th>Áp suất</th>\n",
       "      <th>PM2.5</th>\n",
       "      <th>PM10</th>\n",
       "      <th>O3</th>\n",
       "      <th>NO2</th>\n",
       "      <th>SO2</th>\n",
       "      <th>CO</th>\n",
       "      <th>target</th>\n",
       "    </tr>\n",
       "  </thead>\n",
       "  <tbody>\n",
       "    <tr>\n",
       "      <th>0</th>\n",
       "      <td>Trời quang</td>\n",
       "      <td>11°C</td>\n",
       "      <td>52%</td>\n",
       "      <td>8.8 km/h</td>\n",
       "      <td>1017 mbar</td>\n",
       "      <td>61.3</td>\n",
       "      <td>185.3</td>\n",
       "      <td>2</td>\n",
       "      <td>52.2</td>\n",
       "      <td>10.4</td>\n",
       "      <td>1160.0</td>\n",
       "      <td>Không lành mạnh</td>\n",
       "    </tr>\n",
       "    <tr>\n",
       "      <th>1</th>\n",
       "      <td>Trời quang</td>\n",
       "      <td>12°C</td>\n",
       "      <td>44%</td>\n",
       "      <td>9.4 km/h</td>\n",
       "      <td>1016 mbar</td>\n",
       "      <td>139.2</td>\n",
       "      <td>245.5</td>\n",
       "      <td>4.5</td>\n",
       "      <td>44.6</td>\n",
       "      <td>8.8</td>\n",
       "      <td>1150.0</td>\n",
       "      <td>Không lành mạnh</td>\n",
       "    </tr>\n",
       "    <tr>\n",
       "      <th>2</th>\n",
       "      <td>Nhiều mây</td>\n",
       "      <td>-4°C</td>\n",
       "      <td>45%</td>\n",
       "      <td>5 km/h</td>\n",
       "      <td>1036 mbar</td>\n",
       "      <td>157</td>\n",
       "      <td>416.5</td>\n",
       "      <td>9</td>\n",
       "      <td>59</td>\n",
       "      <td>27.5</td>\n",
       "      <td>NaN</td>\n",
       "      <td>Rất không lành mạnh</td>\n",
       "    </tr>\n",
       "    <tr>\n",
       "      <th>3</th>\n",
       "      <td>Sương mù</td>\n",
       "      <td>12°C</td>\n",
       "      <td>87%</td>\n",
       "      <td>7.4 km/h</td>\n",
       "      <td>1016 mbar</td>\n",
       "      <td>123.9</td>\n",
       "      <td>222.3</td>\n",
       "      <td>23</td>\n",
       "      <td>54.8</td>\n",
       "      <td>NaN</td>\n",
       "      <td>NaN</td>\n",
       "      <td>Không lành mạnh</td>\n",
       "    </tr>\n",
       "    <tr>\n",
       "      <th>4</th>\n",
       "      <td>Trời quang</td>\n",
       "      <td>12°C</td>\n",
       "      <td>56%</td>\n",
       "      <td>7.1 km/h</td>\n",
       "      <td>1016 mbar</td>\n",
       "      <td>83.3*</td>\n",
       "      <td>NaN</td>\n",
       "      <td>NaN</td>\n",
       "      <td>NaN</td>\n",
       "      <td>NaN</td>\n",
       "      <td>NaN</td>\n",
       "      <td>Không lành mạnh</td>\n",
       "    </tr>\n",
       "  </tbody>\n",
       "</table>\n",
       "</div>"
      ],
      "text/plain": [
       "    Thời tiết Nhiệt độ Độ ẩm       Gió    Áp suất  PM2.5   PM10   O3   NO2   \\\n",
       "0  Trời quang     11°C   52%  8.8 km/h  1017 mbar    61.3  185.3    2  52.2   \n",
       "1  Trời quang     12°C   44%  9.4 km/h  1016 mbar   139.2  245.5  4.5  44.6   \n",
       "2   Nhiều mây     -4°C   45%    5 km/h  1036 mbar     157  416.5    9    59   \n",
       "3    Sương mù     12°C   87%  7.4 km/h  1016 mbar   123.9  222.3   23  54.8   \n",
       "4  Trời quang     12°C   56%  7.1 km/h  1016 mbar   83.3*    NaN  NaN   NaN   \n",
       "\n",
       "   SO2      CO                target  \n",
       "0  10.4  1160.0      Không lành mạnh  \n",
       "1   8.8  1150.0      Không lành mạnh  \n",
       "2  27.5     NaN  Rất không lành mạnh  \n",
       "3   NaN     NaN      Không lành mạnh  \n",
       "4   NaN     NaN      Không lành mạnh  "
      ]
     },
     "execution_count": 2,
     "metadata": {},
     "output_type": "execute_result"
    }
   ],
   "source": [
    "from os import walk\n",
    "filenames = next(walk('./data/data'), (None, None, []))[2]  # [] if no file\n",
    "\n",
    "# Nếu muốn train trên bộ dữ liệu là ngày hôm nay today()\n",
    "# filename = filenames[-1]\n",
    "# df = pd.read_csv(f'./data/data/{filename}')\n",
    "\n",
    "# Nếu muốn test trên bộ dữ liệu là các ngày mà ta thu thập...\n",
    "cnt = 0\n",
    "for filename in filenames:    \n",
    "    if cnt == 0:\n",
    "        df = pd.read_csv(f'./data/data/{filename}')\n",
    "    else:\n",
    "        df = pd.concat([df, pd.read_csv(f'./data/data/{filename}')])\n",
    "    cnt += 1\n",
    "df.head()"
   ]
  },
  {
   "cell_type": "code",
   "execution_count": 3,
   "metadata": {},
   "outputs": [
    {
     "data": {
      "text/plain": [
       "Tốt                                      1732\n",
       "Trung bình                                743\n",
       "Không lành mạnh cho các nhóm nhạy cảm     250\n",
       "Không lành mạnh                           238\n",
       "Rất không lành mạnh                        34\n",
       "Nguy hiểm                                  20\n",
       "Name: target, dtype: int64"
      ]
     },
     "execution_count": 3,
     "metadata": {},
     "output_type": "execute_result"
    }
   ],
   "source": [
    "df['target'].value_counts()"
   ]
  },
  {
   "attachments": {},
   "cell_type": "markdown",
   "metadata": {},
   "source": [
    "Quy các kiểu dữ liệu `string` về thành `int` để có thể tính mean"
   ]
  },
  {
   "cell_type": "code",
   "execution_count": 4,
   "metadata": {},
   "outputs": [
    {
     "data": {
      "text/html": [
       "<div>\n",
       "<style scoped>\n",
       "    .dataframe tbody tr th:only-of-type {\n",
       "        vertical-align: middle;\n",
       "    }\n",
       "\n",
       "    .dataframe tbody tr th {\n",
       "        vertical-align: top;\n",
       "    }\n",
       "\n",
       "    .dataframe thead th {\n",
       "        text-align: right;\n",
       "    }\n",
       "</style>\n",
       "<table border=\"1\" class=\"dataframe\">\n",
       "  <thead>\n",
       "    <tr style=\"text-align: right;\">\n",
       "      <th></th>\n",
       "      <th>Thời tiết</th>\n",
       "      <th>Nhiệt độ</th>\n",
       "      <th>Độ ẩm</th>\n",
       "      <th>Gió</th>\n",
       "      <th>Áp suất</th>\n",
       "      <th>PM2.5</th>\n",
       "      <th>PM10</th>\n",
       "      <th>O3</th>\n",
       "      <th>NO2</th>\n",
       "      <th>SO2</th>\n",
       "      <th>CO</th>\n",
       "      <th>target</th>\n",
       "    </tr>\n",
       "  </thead>\n",
       "  <tbody>\n",
       "    <tr>\n",
       "      <th>0</th>\n",
       "      <td>2</td>\n",
       "      <td>11°C</td>\n",
       "      <td>52%</td>\n",
       "      <td>8.8 km/h</td>\n",
       "      <td>1017 mbar</td>\n",
       "      <td>61.3</td>\n",
       "      <td>185.3</td>\n",
       "      <td>2</td>\n",
       "      <td>52.2</td>\n",
       "      <td>10.4</td>\n",
       "      <td>1160.0</td>\n",
       "      <td>3</td>\n",
       "    </tr>\n",
       "    <tr>\n",
       "      <th>1</th>\n",
       "      <td>2</td>\n",
       "      <td>12°C</td>\n",
       "      <td>44%</td>\n",
       "      <td>9.4 km/h</td>\n",
       "      <td>1016 mbar</td>\n",
       "      <td>139.2</td>\n",
       "      <td>245.5</td>\n",
       "      <td>4.5</td>\n",
       "      <td>44.6</td>\n",
       "      <td>8.8</td>\n",
       "      <td>1150.0</td>\n",
       "      <td>3</td>\n",
       "    </tr>\n",
       "    <tr>\n",
       "      <th>2</th>\n",
       "      <td>1</td>\n",
       "      <td>-4°C</td>\n",
       "      <td>45%</td>\n",
       "      <td>5 km/h</td>\n",
       "      <td>1036 mbar</td>\n",
       "      <td>157</td>\n",
       "      <td>416.5</td>\n",
       "      <td>9</td>\n",
       "      <td>59</td>\n",
       "      <td>27.5</td>\n",
       "      <td>NaN</td>\n",
       "      <td>5</td>\n",
       "    </tr>\n",
       "    <tr>\n",
       "      <th>3</th>\n",
       "      <td>5</td>\n",
       "      <td>12°C</td>\n",
       "      <td>87%</td>\n",
       "      <td>7.4 km/h</td>\n",
       "      <td>1016 mbar</td>\n",
       "      <td>123.9</td>\n",
       "      <td>222.3</td>\n",
       "      <td>23</td>\n",
       "      <td>54.8</td>\n",
       "      <td>NaN</td>\n",
       "      <td>NaN</td>\n",
       "      <td>3</td>\n",
       "    </tr>\n",
       "    <tr>\n",
       "      <th>4</th>\n",
       "      <td>2</td>\n",
       "      <td>12°C</td>\n",
       "      <td>56%</td>\n",
       "      <td>7.1 km/h</td>\n",
       "      <td>1016 mbar</td>\n",
       "      <td>83.3*</td>\n",
       "      <td>NaN</td>\n",
       "      <td>NaN</td>\n",
       "      <td>NaN</td>\n",
       "      <td>NaN</td>\n",
       "      <td>NaN</td>\n",
       "      <td>3</td>\n",
       "    </tr>\n",
       "  </tbody>\n",
       "</table>\n",
       "</div>"
      ],
      "text/plain": [
       "   Thời tiết Nhiệt độ Độ ẩm       Gió    Áp suất  PM2.5   PM10   O3   NO2   \\\n",
       "0          2     11°C   52%  8.8 km/h  1017 mbar    61.3  185.3    2  52.2   \n",
       "1          2     12°C   44%  9.4 km/h  1016 mbar   139.2  245.5  4.5  44.6   \n",
       "2          1     -4°C   45%    5 km/h  1036 mbar     157  416.5    9    59   \n",
       "3          5     12°C   87%  7.4 km/h  1016 mbar   123.9  222.3   23  54.8   \n",
       "4          2     12°C   56%  7.1 km/h  1016 mbar   83.3*    NaN  NaN   NaN   \n",
       "\n",
       "   SO2      CO   target  \n",
       "0  10.4  1160.0       3  \n",
       "1   8.8  1150.0       3  \n",
       "2  27.5     NaN       5  \n",
       "3   NaN     NaN       3  \n",
       "4   NaN     NaN       3  "
      ]
     },
     "execution_count": 4,
     "metadata": {},
     "output_type": "execute_result"
    }
   ],
   "source": [
    "weather = ['Nhiều mây', 'Trời quang', 'Mưa', 'Mây rải rác', 'Sương mù', 'Ít mây', 'Tuyết', 'Mưa rào', 'Giông bão']\n",
    "target = ['Tốt', 'Trung bình', 'Không lành mạnh', 'Không lành mạnh cho các nhóm nhạy cảm', \n",
    "          'Rất không lành mạnh', 'Nguy hiểm']\n",
    "df = df.replace(weather, np.arange(len(weather)) + 1)\n",
    "df = df.replace(target, np.arange(len(target)) + 1)\n",
    "df.head()"
   ]
  },
  {
   "attachments": {},
   "cell_type": "markdown",
   "metadata": {},
   "source": [
    "Format lại các thông tin trong dữ liệu"
   ]
  },
  {
   "cell_type": "code",
   "execution_count": 5,
   "metadata": {},
   "outputs": [],
   "source": [
    "with warnings.catch_warnings():\n",
    "    warnings.simplefilter(\"ignore\")\n",
    "    df['Nhiệt độ'] = df['Nhiệt độ'].str.replace('°C', '')\n",
    "    df['Độ ẩm'] = df['Độ ẩm'].str.replace('%', '')\n",
    "    df['Gió'] = df['Gió'].str.replace(' km/h', '')\n",
    "    df['Áp suất'] = df['Áp suất'].str.replace(' mbar', '')\n",
    "    df[' PM2.5 '] = df[' PM2.5 '].str.replace('*', '')\n",
    "    df[' PM10 '] = df[' PM10 '].str.replace('*', '')\n",
    "    df[' O3 '] = df[' O3 '].str.replace('*', '')\n",
    "    df[' NO2 '] = df[' NO2 '].str.replace('*', '')\n",
    "    df[' SO2 '] = df[' SO2 '].str.replace('*', '')\n",
    "    df[' CO '] = df[' CO '].str.replace('*', '')"
   ]
  },
  {
   "cell_type": "code",
   "execution_count": 6,
   "metadata": {},
   "outputs": [
    {
     "data": {
      "text/html": [
       "<div>\n",
       "<style scoped>\n",
       "    .dataframe tbody tr th:only-of-type {\n",
       "        vertical-align: middle;\n",
       "    }\n",
       "\n",
       "    .dataframe tbody tr th {\n",
       "        vertical-align: top;\n",
       "    }\n",
       "\n",
       "    .dataframe thead th {\n",
       "        text-align: right;\n",
       "    }\n",
       "</style>\n",
       "<table border=\"1\" class=\"dataframe\">\n",
       "  <thead>\n",
       "    <tr style=\"text-align: right;\">\n",
       "      <th></th>\n",
       "      <th>Thời tiết</th>\n",
       "      <th>Nhiệt độ</th>\n",
       "      <th>Độ ẩm</th>\n",
       "      <th>Gió</th>\n",
       "      <th>Áp suất</th>\n",
       "      <th>PM2.5</th>\n",
       "      <th>PM10</th>\n",
       "      <th>O3</th>\n",
       "      <th>NO2</th>\n",
       "      <th>SO2</th>\n",
       "      <th>CO</th>\n",
       "      <th>target</th>\n",
       "    </tr>\n",
       "  </thead>\n",
       "  <tbody>\n",
       "    <tr>\n",
       "      <th>0</th>\n",
       "      <td>2.0</td>\n",
       "      <td>11.0</td>\n",
       "      <td>52.0</td>\n",
       "      <td>8.8</td>\n",
       "      <td>1017.0</td>\n",
       "      <td>61.3</td>\n",
       "      <td>185.3</td>\n",
       "      <td>2.0</td>\n",
       "      <td>52.2</td>\n",
       "      <td>10.4</td>\n",
       "      <td>NaN</td>\n",
       "      <td>3.0</td>\n",
       "    </tr>\n",
       "    <tr>\n",
       "      <th>1</th>\n",
       "      <td>2.0</td>\n",
       "      <td>12.0</td>\n",
       "      <td>44.0</td>\n",
       "      <td>9.4</td>\n",
       "      <td>1016.0</td>\n",
       "      <td>139.2</td>\n",
       "      <td>245.5</td>\n",
       "      <td>4.5</td>\n",
       "      <td>44.6</td>\n",
       "      <td>8.8</td>\n",
       "      <td>NaN</td>\n",
       "      <td>3.0</td>\n",
       "    </tr>\n",
       "    <tr>\n",
       "      <th>2</th>\n",
       "      <td>1.0</td>\n",
       "      <td>-4.0</td>\n",
       "      <td>45.0</td>\n",
       "      <td>5.0</td>\n",
       "      <td>1036.0</td>\n",
       "      <td>157.0</td>\n",
       "      <td>416.5</td>\n",
       "      <td>9.0</td>\n",
       "      <td>59.0</td>\n",
       "      <td>27.5</td>\n",
       "      <td>NaN</td>\n",
       "      <td>5.0</td>\n",
       "    </tr>\n",
       "    <tr>\n",
       "      <th>3</th>\n",
       "      <td>5.0</td>\n",
       "      <td>12.0</td>\n",
       "      <td>87.0</td>\n",
       "      <td>7.4</td>\n",
       "      <td>1016.0</td>\n",
       "      <td>123.9</td>\n",
       "      <td>222.3</td>\n",
       "      <td>23.0</td>\n",
       "      <td>54.8</td>\n",
       "      <td>NaN</td>\n",
       "      <td>NaN</td>\n",
       "      <td>3.0</td>\n",
       "    </tr>\n",
       "    <tr>\n",
       "      <th>4</th>\n",
       "      <td>2.0</td>\n",
       "      <td>12.0</td>\n",
       "      <td>56.0</td>\n",
       "      <td>7.1</td>\n",
       "      <td>1016.0</td>\n",
       "      <td>83.3</td>\n",
       "      <td>NaN</td>\n",
       "      <td>NaN</td>\n",
       "      <td>NaN</td>\n",
       "      <td>NaN</td>\n",
       "      <td>NaN</td>\n",
       "      <td>3.0</td>\n",
       "    </tr>\n",
       "  </tbody>\n",
       "</table>\n",
       "</div>"
      ],
      "text/plain": [
       "   Thời tiết  Nhiệt độ  Độ ẩm  Gió  Áp suất   PM2.5    PM10    O3    NO2   \\\n",
       "0        2.0      11.0   52.0  8.8   1017.0     61.3   185.3   2.0   52.2   \n",
       "1        2.0      12.0   44.0  9.4   1016.0    139.2   245.5   4.5   44.6   \n",
       "2        1.0      -4.0   45.0  5.0   1036.0    157.0   416.5   9.0   59.0   \n",
       "3        5.0      12.0   87.0  7.4   1016.0    123.9   222.3  23.0   54.8   \n",
       "4        2.0      12.0   56.0  7.1   1016.0     83.3     NaN   NaN    NaN   \n",
       "\n",
       "    SO2    CO   target  \n",
       "0   10.4   NaN     3.0  \n",
       "1    8.8   NaN     3.0  \n",
       "2   27.5   NaN     5.0  \n",
       "3    NaN   NaN     3.0  \n",
       "4    NaN   NaN     3.0  "
      ]
     },
     "execution_count": 6,
     "metadata": {},
     "output_type": "execute_result"
    }
   ],
   "source": [
    "df = df.astype(np.float64)\n",
    "df.head()"
   ]
  },
  {
   "attachments": {},
   "cell_type": "markdown",
   "metadata": {},
   "source": [
    "Như đã thấy thì dữ liệu của mô hình có các giá trị NaN. Ta không thể drop các giá trị đó hoặc thay bằng 0, có nhiều cách để thay thế giá trị NaN, tuy nhiên ở đây chúng ta sẽ thay các giá trị NaN bằng mean."
   ]
  },
  {
   "cell_type": "code",
   "execution_count": 7,
   "metadata": {},
   "outputs": [],
   "source": [
    "X = df.iloc[:, :-1]\n",
    "Y = df['target']\n",
    "\n",
    "imputer = SimpleImputer(missing_values = np.nan, strategy = 'median')\n",
    "imputer = imputer.fit(X)\n",
    "X = imputer.transform(X)"
   ]
  },
  {
   "attachments": {},
   "cell_type": "markdown",
   "metadata": {},
   "source": [
    "Từ dữ liệu ta sẽ tạo ra tập train và tập test"
   ]
  },
  {
   "cell_type": "code",
   "execution_count": 8,
   "metadata": {},
   "outputs": [],
   "source": [
    "X_train, X_test, y_train, y_test = train_test_split(X, Y, test_size = 0.3)"
   ]
  },
  {
   "attachments": {},
   "cell_type": "markdown",
   "metadata": {},
   "source": [
    "## MÔ HÌNH 1: **RANDOM FOREST**\n",
    "- X sẽ là các cột dữ liệu thông tin về thời tiết và không khí.\n",
    "- Y sẽ là các kết quả thực tế đo được."
   ]
  },
  {
   "cell_type": "code",
   "execution_count": 9,
   "metadata": {},
   "outputs": [],
   "source": [
    "#Import Random Forest Model\n",
    "from sklearn.ensemble import RandomForestClassifier"
   ]
  },
  {
   "attachments": {},
   "cell_type": "markdown",
   "metadata": {},
   "source": [
    "Sau đó fix dữ liệu train với model"
   ]
  },
  {
   "cell_type": "code",
   "execution_count": 10,
   "metadata": {},
   "outputs": [
    {
     "data": {
      "text/html": [
       "<style>#sk-container-id-1 {color: black;background-color: white;}#sk-container-id-1 pre{padding: 0;}#sk-container-id-1 div.sk-toggleable {background-color: white;}#sk-container-id-1 label.sk-toggleable__label {cursor: pointer;display: block;width: 100%;margin-bottom: 0;padding: 0.3em;box-sizing: border-box;text-align: center;}#sk-container-id-1 label.sk-toggleable__label-arrow:before {content: \"▸\";float: left;margin-right: 0.25em;color: #696969;}#sk-container-id-1 label.sk-toggleable__label-arrow:hover:before {color: black;}#sk-container-id-1 div.sk-estimator:hover label.sk-toggleable__label-arrow:before {color: black;}#sk-container-id-1 div.sk-toggleable__content {max-height: 0;max-width: 0;overflow: hidden;text-align: left;background-color: #f0f8ff;}#sk-container-id-1 div.sk-toggleable__content pre {margin: 0.2em;color: black;border-radius: 0.25em;background-color: #f0f8ff;}#sk-container-id-1 input.sk-toggleable__control:checked~div.sk-toggleable__content {max-height: 200px;max-width: 100%;overflow: auto;}#sk-container-id-1 input.sk-toggleable__control:checked~label.sk-toggleable__label-arrow:before {content: \"▾\";}#sk-container-id-1 div.sk-estimator input.sk-toggleable__control:checked~label.sk-toggleable__label {background-color: #d4ebff;}#sk-container-id-1 div.sk-label input.sk-toggleable__control:checked~label.sk-toggleable__label {background-color: #d4ebff;}#sk-container-id-1 input.sk-hidden--visually {border: 0;clip: rect(1px 1px 1px 1px);clip: rect(1px, 1px, 1px, 1px);height: 1px;margin: -1px;overflow: hidden;padding: 0;position: absolute;width: 1px;}#sk-container-id-1 div.sk-estimator {font-family: monospace;background-color: #f0f8ff;border: 1px dotted black;border-radius: 0.25em;box-sizing: border-box;margin-bottom: 0.5em;}#sk-container-id-1 div.sk-estimator:hover {background-color: #d4ebff;}#sk-container-id-1 div.sk-parallel-item::after {content: \"\";width: 100%;border-bottom: 1px solid gray;flex-grow: 1;}#sk-container-id-1 div.sk-label:hover label.sk-toggleable__label {background-color: #d4ebff;}#sk-container-id-1 div.sk-serial::before {content: \"\";position: absolute;border-left: 1px solid gray;box-sizing: border-box;top: 0;bottom: 0;left: 50%;z-index: 0;}#sk-container-id-1 div.sk-serial {display: flex;flex-direction: column;align-items: center;background-color: white;padding-right: 0.2em;padding-left: 0.2em;position: relative;}#sk-container-id-1 div.sk-item {position: relative;z-index: 1;}#sk-container-id-1 div.sk-parallel {display: flex;align-items: stretch;justify-content: center;background-color: white;position: relative;}#sk-container-id-1 div.sk-item::before, #sk-container-id-1 div.sk-parallel-item::before {content: \"\";position: absolute;border-left: 1px solid gray;box-sizing: border-box;top: 0;bottom: 0;left: 50%;z-index: -1;}#sk-container-id-1 div.sk-parallel-item {display: flex;flex-direction: column;z-index: 1;position: relative;background-color: white;}#sk-container-id-1 div.sk-parallel-item:first-child::after {align-self: flex-end;width: 50%;}#sk-container-id-1 div.sk-parallel-item:last-child::after {align-self: flex-start;width: 50%;}#sk-container-id-1 div.sk-parallel-item:only-child::after {width: 0;}#sk-container-id-1 div.sk-dashed-wrapped {border: 1px dashed gray;margin: 0 0.4em 0.5em 0.4em;box-sizing: border-box;padding-bottom: 0.4em;background-color: white;}#sk-container-id-1 div.sk-label label {font-family: monospace;font-weight: bold;display: inline-block;line-height: 1.2em;}#sk-container-id-1 div.sk-label-container {text-align: center;}#sk-container-id-1 div.sk-container {/* jupyter's `normalize.less` sets `[hidden] { display: none; }` but bootstrap.min.css set `[hidden] { display: none !important; }` so we also need the `!important` here to be able to override the default hidden behavior on the sphinx rendered scikit-learn.org. See: https://github.com/scikit-learn/scikit-learn/issues/21755 */display: inline-block !important;position: relative;}#sk-container-id-1 div.sk-text-repr-fallback {display: none;}</style><div id=\"sk-container-id-1\" class=\"sk-top-container\"><div class=\"sk-text-repr-fallback\"><pre>RandomForestClassifier()</pre><b>In a Jupyter environment, please rerun this cell to show the HTML representation or trust the notebook. <br />On GitHub, the HTML representation is unable to render, please try loading this page with nbviewer.org.</b></div><div class=\"sk-container\" hidden><div class=\"sk-item\"><div class=\"sk-estimator sk-toggleable\"><input class=\"sk-toggleable__control sk-hidden--visually\" id=\"sk-estimator-id-1\" type=\"checkbox\" checked><label for=\"sk-estimator-id-1\" class=\"sk-toggleable__label sk-toggleable__label-arrow\">RandomForestClassifier</label><div class=\"sk-toggleable__content\"><pre>RandomForestClassifier()</pre></div></div></div></div></div>"
      ],
      "text/plain": [
       "RandomForestClassifier()"
      ]
     },
     "execution_count": 10,
     "metadata": {},
     "output_type": "execute_result"
    }
   ],
   "source": [
    "clf = RandomForestClassifier(n_estimators = 100)\n",
    "clf.fit(X_train, y_train)"
   ]
  },
  {
   "attachments": {},
   "cell_type": "markdown",
   "metadata": {},
   "source": [
    "Tập dự đoán "
   ]
  },
  {
   "cell_type": "code",
   "execution_count": 11,
   "metadata": {},
   "outputs": [
    {
     "data": {
      "text/plain": [
       "array([1., 1., 1., 2., 4., 4., 1., 1., 1., 2., 1., 1., 1., 3., 1., 1., 2.,\n",
       "       1., 2., 1., 2., 1., 1., 1., 1., 2., 3., 1., 4., 2., 1., 2., 1., 3.,\n",
       "       1., 3., 1., 1., 1., 1., 2., 2., 1., 1., 3., 1., 1., 1., 3., 2., 3.,\n",
       "       1., 2., 1., 1., 1., 1., 1., 3., 1., 1., 1., 1., 4., 1., 2., 3., 1.,\n",
       "       1., 2., 1., 1., 1., 5., 1., 2., 3., 1., 1., 2., 1., 2., 2., 1., 1.,\n",
       "       3., 1., 1., 4., 1., 2., 1., 1., 1., 2., 3., 1., 1., 2., 2., 1., 2.,\n",
       "       2., 1., 1., 1., 1., 1., 2., 2., 2., 1., 2., 1., 2., 1., 1., 1., 1.,\n",
       "       1., 1., 2., 1., 3., 1., 1., 1., 1., 4., 1., 2., 1., 2., 3., 1., 4.,\n",
       "       1., 1., 1., 2., 1., 3., 1., 1., 2., 1., 1., 2., 2., 1., 3., 2., 1.,\n",
       "       1., 3., 1., 1., 1., 3., 1., 3., 1., 4., 1., 1., 2., 1., 1., 1., 1.,\n",
       "       1., 1., 3., 1., 4., 1., 1., 1., 2., 1., 1., 1., 2., 1., 1., 1., 2.,\n",
       "       1., 1., 1., 2., 1., 2., 1., 1., 1., 2., 1., 1., 1., 1., 1., 1., 1.,\n",
       "       4., 1., 1., 1., 2., 1., 1., 2., 1., 1., 6., 1., 2., 1., 1., 2., 2.,\n",
       "       1., 1., 1., 1., 1., 1., 1., 3., 5., 4., 4., 1., 1., 1., 1., 3., 1.,\n",
       "       1., 1., 2., 1., 1., 2., 5., 2., 1., 1., 1., 2., 1., 2., 1., 1., 2.,\n",
       "       3., 3., 2., 4., 2., 4., 1., 2., 1., 1., 1., 2., 1., 3., 1., 1., 1.,\n",
       "       1., 1., 2., 1., 4., 1., 1., 1., 1., 1., 1., 1., 1., 1., 1., 2., 1.,\n",
       "       4., 3., 4., 1., 2., 4., 3., 1., 1., 2., 1., 1., 4., 2., 4., 1., 2.,\n",
       "       2., 1., 1., 1., 1., 1., 3., 1., 1., 4., 2., 1., 1., 1., 1., 1., 1.,\n",
       "       1., 1., 1., 1., 1., 1., 1., 2., 1., 2., 2., 4., 2., 1., 2., 1., 1.,\n",
       "       1., 2., 1., 3., 1., 2., 1., 4., 2., 4., 1., 1., 1., 3., 1., 2., 1.,\n",
       "       1., 4., 2., 3., 1., 1., 1., 3., 1., 1., 3., 1., 1., 2., 1., 4., 1.,\n",
       "       3., 1., 2., 4., 1., 4., 2., 2., 1., 2., 5., 2., 4., 2., 2., 1., 1.,\n",
       "       2., 1., 3., 1., 1., 1., 3., 2., 1., 1., 4., 1., 1., 1., 2., 2., 1.,\n",
       "       1., 1., 2., 2., 1., 1., 1., 1., 1., 1., 1., 1., 1., 1., 3., 1., 2.,\n",
       "       1., 2., 3., 6., 1., 1., 1., 2., 1., 1., 2., 1., 3., 1., 1., 2., 1.,\n",
       "       1., 1., 1., 1., 4., 1., 2., 2., 1., 1., 2., 2., 2., 2., 1., 4., 1.,\n",
       "       4., 2., 4., 4., 1., 1., 1., 2., 4., 2., 1., 1., 2., 1., 1., 2., 2.,\n",
       "       1., 4., 1., 1., 1., 1., 4., 1., 1., 1., 1., 2., 1., 2., 1., 1., 1.,\n",
       "       1., 1., 2., 6., 1., 4., 2., 2., 2., 1., 1., 2., 1., 1., 1., 1., 2.,\n",
       "       1., 1., 1., 2., 1., 3., 1., 2., 1., 1., 1., 3., 1., 1., 1., 2., 1.,\n",
       "       4., 1., 1., 1., 1., 2., 1., 1., 3., 1., 1., 3., 3., 1., 2., 1., 5.,\n",
       "       1., 4., 2., 1., 1., 1., 2., 3., 1., 1., 1., 2., 3., 1., 1., 2., 2.,\n",
       "       2., 1., 2., 1., 1., 2., 1., 1., 1., 1., 2., 1., 2., 2., 1., 4., 1.,\n",
       "       1., 2., 1., 2., 3., 2., 2., 2., 1., 1., 2., 3., 1., 4., 1., 1., 1.,\n",
       "       1., 1., 3., 1., 1., 1., 1., 4., 1., 3., 1., 1., 1., 2., 2., 1., 1.,\n",
       "       1., 2., 2., 1., 4., 1., 1., 2., 2., 2., 3., 2., 3., 2., 1., 1., 1.,\n",
       "       3., 1., 1., 1., 4., 2., 2., 1., 2., 2., 3., 1., 1., 1., 2., 1., 2.,\n",
       "       1., 3., 1., 1., 1., 3., 1., 2., 2., 3., 1., 1., 2., 1., 1., 2., 1.,\n",
       "       1., 1., 3., 1., 2., 1., 1., 3., 1., 3., 1., 1., 1., 1., 4., 1., 1.,\n",
       "       1., 5., 1., 2., 1., 1., 3., 1., 3., 1., 1., 3., 1., 3., 1., 1., 2.,\n",
       "       1., 1., 1., 1., 2., 1., 2., 1., 4., 1., 1., 2., 1., 1., 1., 1., 2.,\n",
       "       1., 1., 1., 1., 2., 1., 1., 1., 2., 1., 1., 1., 4., 2., 1., 2., 1.,\n",
       "       1., 2., 2., 2., 1., 2., 1., 1., 1., 2., 2., 1., 2., 3., 1., 1., 1.,\n",
       "       1., 1., 3., 1., 2., 1., 1., 2., 2., 2., 1., 1., 2., 1., 1., 1., 1.,\n",
       "       1., 1., 1., 1., 1., 2., 1., 2., 4., 2., 1., 2., 1., 3., 1., 1., 1.,\n",
       "       1., 1., 1., 3., 1., 2., 1., 2., 3., 1., 1., 1., 3., 1., 1., 1., 1.,\n",
       "       1., 1., 1., 1., 3., 1., 1., 1., 1., 3., 1., 1., 2., 1., 1., 1., 1.,\n",
       "       1., 2., 1., 1., 3., 1., 2., 2., 4., 1., 2., 1., 1., 2., 1., 2., 2.,\n",
       "       1., 3., 1., 1., 1., 3., 4., 2., 1., 1., 3., 1., 2., 1., 1., 2., 2.,\n",
       "       1., 1., 1., 1., 1., 2., 2., 1., 1., 1., 1., 1., 1., 1., 3., 1., 1.,\n",
       "       1., 1., 3., 2., 4., 1., 1., 1., 1., 1., 1., 2., 1., 2., 3., 1., 2.,\n",
       "       1., 1., 1., 1., 1., 1., 1., 1., 1., 1., 1., 1., 1., 1., 2., 2., 3.,\n",
       "       4., 1., 2., 1., 1.])"
      ]
     },
     "execution_count": 11,
     "metadata": {},
     "output_type": "execute_result"
    }
   ],
   "source": [
    "y_pred = clf.predict(X_test)\n",
    "y_pred"
   ]
  },
  {
   "attachments": {},
   "cell_type": "markdown",
   "metadata": {},
   "source": [
    "### **ĐÁNH GIÁ MÔ HÌNH**"
   ]
  },
  {
   "attachments": {},
   "cell_type": "markdown",
   "metadata": {},
   "source": [
    "#### 1. **Confusion Matrix** (ma trận kiểm chứng tính đúng sai giữa true label và predicted label)"
   ]
  },
  {
   "cell_type": "code",
   "execution_count": 12,
   "metadata": {},
   "outputs": [
    {
     "data": {
      "text/plain": [
       "array([[556,   0,   0,   0,   0,   0],\n",
       "       [  0, 205,   0,   0,   0,   0],\n",
       "       [  0,   0,  76,   0,   0,   0],\n",
       "       [  0,   2,   0,  54,   0,   0],\n",
       "       [  0,   0,   3,   0,   3,   0],\n",
       "       [  0,   0,   1,   0,   3,   3]], dtype=int64)"
      ]
     },
     "execution_count": 12,
     "metadata": {},
     "output_type": "execute_result"
    }
   ],
   "source": [
    "test = confusion_matrix(y_test, y_pred)\n",
    "test"
   ]
  },
  {
   "cell_type": "code",
   "execution_count": 13,
   "metadata": {},
   "outputs": [
    {
     "data": {
      "image/png": "[encoded data removed]",
      "text/plain": [
       "<Figure size 500x400 with 2 Axes>"
      ]
     },
     "metadata": {},
     "output_type": "display_data"
    }
   ],
   "source": [
    "plt.figure(figsize = (5,4))\n",
    "sns.heatmap(test, annot = True, cmap = 'Greens')\n",
    "plt.xlabel('Predicted Value')\n",
    "plt.ylabel('Truth or Actual Value')\n",
    "plt.show()"
   ]
  },
  {
   "attachments": {},
   "cell_type": "markdown",
   "metadata": {},
   "source": [
    "#### 2. Các thông số đánh giá: Accuracy, Precision, Recall"
   ]
  },
  {
   "attachments": {},
   "cell_type": "markdown",
   "metadata": {},
   "source": [
    " Độ so khớp của mô hình với dữ liệu (%)"
   ]
  },
  {
   "cell_type": "code",
   "execution_count": 14,
   "metadata": {},
   "outputs": [
    {
     "name": "stdout",
     "output_type": "stream",
     "text": [
      "Accuracy: 0.9900662251655629\n"
     ]
    }
   ],
   "source": [
    "print(\"Accuracy:\", metrics.accuracy_score(y_test, y_pred))"
   ]
  },
  {
   "attachments": {},
   "cell_type": "markdown",
   "metadata": {},
   "source": [
    "Với confusion matrix ở trên do ở đây ta thực hiên phân lớp tới 6 loại label khác nhau, nên việc tính toán các giá trị TP FP TN FN có vẻ khá tốn thời gian nên chúng ta sẽ sử dụng hàm classification_report để tính toán ra được giá trị precision, recall tương ứng với từng label."
   ]
  },
  {
   "cell_type": "code",
   "execution_count": 15,
   "metadata": {},
   "outputs": [
    {
     "name": "stdout",
     "output_type": "stream",
     "text": [
      "              precision    recall  f1-score   support\n",
      "\n",
      "         1.0       1.00      1.00      1.00       556\n",
      "         2.0       0.99      1.00      1.00       205\n",
      "         3.0       0.95      1.00      0.97        76\n",
      "         4.0       1.00      0.96      0.98        56\n",
      "         5.0       0.50      0.50      0.50         6\n",
      "         6.0       1.00      0.43      0.60         7\n",
      "\n",
      "    accuracy                           0.99       906\n",
      "   macro avg       0.91      0.82      0.84       906\n",
      "weighted avg       0.99      0.99      0.99       906\n",
      "\n"
     ]
    }
   ],
   "source": [
    "#Precision Recall\n",
    "print(metrics.classification_report(y_test, y_pred)) "
   ]
  },
  {
   "attachments": {},
   "cell_type": "markdown",
   "metadata": {},
   "source": [
    "**NHẬN XÉT:**\n",
    "\n",
    "Với mô hình được sử dụng ở trên có vẻ accuracy mang lại có vẻ khá cao và chính xác, nhưng không thuộc vào trường hợp overfitting"
   ]
  },
  {
   "attachments": {},
   "cell_type": "markdown",
   "metadata": {},
   "source": [
    "## MÔ HÌNH 2: **LOGISTIC REGRESSION**\n",
    "- X sẽ là các cột dữ liệu thông tin về thời tiết và không khí.\n",
    "- Y sẽ là các kết quả thực tế đo được."
   ]
  },
  {
   "cell_type": "code",
   "execution_count": 16,
   "metadata": {},
   "outputs": [],
   "source": [
    "# Models Logistic Regression\n",
    "from sklearn.linear_model import LogisticRegression"
   ]
  },
  {
   "attachments": {},
   "cell_type": "markdown",
   "metadata": {},
   "source": [
    "Sau đó fix dữ liệu train với model"
   ]
  },
  {
   "cell_type": "code",
   "execution_count": 17,
   "metadata": {},
   "outputs": [],
   "source": [
    "with warnings.catch_warnings():\n",
    "    warnings.filterwarnings('ignore')\n",
    "    mymodel = LogisticRegression(max_iter = 120)\n",
    "    mymodel.fit(X_train, y_train)"
   ]
  },
  {
   "attachments": {},
   "cell_type": "markdown",
   "metadata": {},
   "source": [
    "Tập dự đoán "
   ]
  },
  {
   "cell_type": "code",
   "execution_count": 18,
   "metadata": {},
   "outputs": [
    {
     "data": {
      "text/plain": [
       "array([1., 1., 1., 2., 2., 4., 1., 1., 1., 2., 1., 1., 1., 3., 1., 1., 4.,\n",
       "       1., 2., 1., 2., 1., 1., 1., 1., 2., 5., 1., 4., 2., 1., 2., 1., 3.,\n",
       "       1., 3., 1., 1., 1., 1., 1., 2., 1., 1., 3., 1., 1., 1., 3., 2., 3.,\n",
       "       1., 2., 1., 1., 1., 1., 1., 4., 1., 1., 1., 1., 4., 1., 2., 3., 1.,\n",
       "       1., 2., 1., 1., 1., 5., 1., 2., 3., 1., 1., 2., 1., 1., 2., 1., 1.,\n",
       "       3., 1., 1., 4., 1., 2., 1., 1., 1., 2., 3., 1., 1., 1., 2., 1., 1.,\n",
       "       2., 1., 1., 1., 2., 1., 2., 2., 2., 1., 2., 1., 2., 1., 1., 1., 1.,\n",
       "       1., 1., 1., 1., 3., 1., 1., 1., 1., 2., 1., 2., 1., 2., 3., 1., 4.,\n",
       "       1., 1., 1., 2., 1., 4., 1., 1., 2., 1., 1., 2., 4., 1., 3., 2., 1.,\n",
       "       1., 4., 1., 1., 1., 3., 1., 3., 1., 4., 1., 1., 4., 1., 1., 1., 1.,\n",
       "       1., 1., 4., 1., 2., 1., 1., 1., 2., 1., 1., 1., 2., 1., 1., 1., 2.,\n",
       "       1., 1., 1., 2., 1., 2., 1., 1., 1., 1., 1., 1., 1., 1., 1., 1., 1.,\n",
       "       4., 1., 1., 1., 1., 1., 1., 2., 1., 1., 6., 1., 2., 1., 1., 1., 2.,\n",
       "       1., 1., 1., 1., 1., 1., 1., 3., 5., 2., 4., 1., 1., 1., 1., 5., 1.,\n",
       "       1., 1., 1., 1., 1., 2., 5., 2., 1., 1., 1., 2., 1., 2., 1., 2., 2.,\n",
       "       3., 3., 2., 4., 2., 4., 1., 2., 1., 1., 1., 2., 1., 4., 1., 1., 1.,\n",
       "       1., 1., 2., 1., 4., 1., 1., 1., 1., 1., 1., 1., 1., 1., 1., 2., 1.,\n",
       "       4., 3., 4., 1., 2., 4., 3., 1., 1., 2., 1., 1., 2., 2., 4., 1., 2.,\n",
       "       2., 1., 1., 1., 1., 1., 3., 1., 1., 4., 2., 1., 1., 1., 1., 1., 1.,\n",
       "       1., 1., 1., 1., 1., 1., 1., 2., 1., 2., 2., 4., 1., 1., 2., 1., 1.,\n",
       "       1., 2., 1., 3., 1., 2., 2., 4., 1., 4., 1., 1., 1., 3., 1., 2., 1.,\n",
       "       1., 2., 2., 4., 1., 1., 1., 4., 1., 1., 3., 1., 1., 2., 1., 2., 1.,\n",
       "       5., 1., 2., 4., 1., 4., 2., 2., 1., 2., 5., 2., 2., 2., 2., 1., 1.,\n",
       "       2., 1., 3., 1., 1., 1., 3., 2., 1., 1., 4., 1., 1., 1., 2., 2., 1.,\n",
       "       1., 1., 4., 2., 1., 1., 1., 1., 1., 1., 1., 1., 1., 1., 3., 1., 2.,\n",
       "       1., 2., 3., 6., 1., 1., 1., 2., 1., 1., 2., 1., 3., 1., 1., 2., 1.,\n",
       "       1., 1., 1., 1., 4., 1., 2., 2., 1., 1., 2., 2., 2., 2., 1., 4., 1.,\n",
       "       4., 2., 4., 2., 1., 1., 1., 1., 4., 2., 1., 1., 2., 1., 1., 2., 2.,\n",
       "       1., 4., 1., 1., 1., 1., 4., 1., 1., 1., 1., 2., 1., 2., 1., 1., 1.,\n",
       "       2., 1., 2., 6., 1., 3., 2., 2., 2., 1., 1., 2., 1., 1., 1., 1., 2.,\n",
       "       1., 1., 1., 2., 1., 4., 1., 2., 1., 1., 1., 3., 1., 1., 1., 1., 1.,\n",
       "       4., 1., 1., 1., 1., 2., 1., 1., 3., 1., 1., 5., 3., 1., 4., 1., 3.,\n",
       "       1., 4., 2., 1., 1., 1., 2., 3., 1., 1., 1., 2., 3., 1., 1., 2., 2.,\n",
       "       2., 1., 1., 1., 1., 2., 1., 1., 1., 1., 2., 1., 2., 1., 1., 4., 1.,\n",
       "       1., 4., 1., 2., 3., 2., 2., 2., 1., 1., 2., 3., 1., 4., 1., 1., 1.,\n",
       "       1., 1., 3., 1., 1., 1., 1., 4., 1., 4., 1., 1., 1., 2., 2., 1., 1.,\n",
       "       1., 2., 2., 1., 4., 1., 1., 2., 2., 2., 4., 2., 3., 2., 1., 1., 1.,\n",
       "       3., 1., 1., 1., 4., 2., 2., 2., 2., 2., 3., 1., 1., 1., 2., 1., 2.,\n",
       "       1., 4., 1., 1., 1., 3., 2., 2., 2., 3., 1., 1., 2., 1., 1., 4., 1.,\n",
       "       1., 1., 4., 1., 2., 1., 1., 3., 1., 3., 1., 1., 1., 1., 4., 1., 1.,\n",
       "       1., 5., 1., 2., 1., 1., 3., 1., 3., 1., 1., 3., 1., 3., 1., 1., 2.,\n",
       "       1., 1., 1., 1., 2., 1., 2., 1., 4., 1., 1., 2., 1., 1., 1., 1., 2.,\n",
       "       1., 1., 1., 1., 2., 2., 1., 1., 1., 1., 1., 1., 4., 2., 1., 2., 1.,\n",
       "       1., 2., 2., 2., 1., 2., 1., 1., 1., 2., 2., 1., 2., 3., 1., 1., 1.,\n",
       "       1., 1., 3., 1., 4., 1., 1., 2., 2., 1., 1., 1., 1., 1., 1., 1., 1.,\n",
       "       1., 1., 1., 1., 1., 2., 1., 2., 4., 2., 1., 2., 1., 3., 1., 1., 1.,\n",
       "       1., 1., 1., 3., 1., 2., 1., 2., 3., 1., 1., 1., 3., 1., 1., 1., 1.,\n",
       "       1., 1., 1., 1., 3., 1., 1., 1., 1., 3., 1., 1., 1., 1., 1., 1., 1.,\n",
       "       1., 2., 1., 1., 3., 1., 2., 2., 2., 1., 2., 1., 1., 1., 1., 2., 2.,\n",
       "       1., 3., 1., 1., 2., 3., 4., 2., 1., 1., 3., 1., 1., 1., 1., 2., 2.,\n",
       "       1., 1., 1., 1., 1., 2., 2., 1., 1., 1., 1., 1., 1., 1., 3., 1., 1.,\n",
       "       1., 1., 3., 2., 4., 1., 1., 1., 1., 1., 1., 2., 1., 2., 3., 1., 2.,\n",
       "       1., 1., 1., 1., 1., 1., 1., 1., 1., 1., 1., 1., 1., 1., 2., 2., 3.,\n",
       "       4., 1., 2., 1., 1.])"
      ]
     },
     "execution_count": 18,
     "metadata": {},
     "output_type": "execute_result"
    }
   ],
   "source": [
    "predicted_output = mymodel.predict(X_test)\n",
    "predicted_output"
   ]
  },
  {
   "attachments": {},
   "cell_type": "markdown",
   "metadata": {},
   "source": [
    "### **ĐÁNH GIÁ MÔ HÌNH**"
   ]
  },
  {
   "attachments": {},
   "cell_type": "markdown",
   "metadata": {},
   "source": [
    "#### 1. **Confusion Matrix** (ma trận kiểm chứng tính đúng sai giữa true label và predicted label)"
   ]
  },
  {
   "cell_type": "code",
   "execution_count": 19,
   "metadata": {},
   "outputs": [
    {
     "data": {
      "text/plain": [
       "array([[548,   8,   0,   0,   0,   0],\n",
       "       [ 21, 178,   0,   6,   0,   0],\n",
       "       [  0,   0,  63,  12,   1,   0],\n",
       "       [  0,  10,   1,  45,   0,   0],\n",
       "       [  0,   0,   1,   0,   5,   0],\n",
       "       [  0,   0,   1,   0,   3,   3]], dtype=int64)"
      ]
     },
     "execution_count": 19,
     "metadata": {},
     "output_type": "execute_result"
    }
   ],
   "source": [
    "test = confusion_matrix(y_test, predicted_output)\n",
    "test"
   ]
  },
  {
   "cell_type": "code",
   "execution_count": 20,
   "metadata": {},
   "outputs": [
    {
     "data": {
      "image/png": "[encoded data removed]",
      "text/plain": [
       "<Figure size 500x400 with 2 Axes>"
      ]
     },
     "metadata": {},
     "output_type": "display_data"
    }
   ],
   "source": [
    "plt.figure(figsize = (5,4))\n",
    "sns.heatmap(test, annot = True, cmap = 'Greens')\n",
    "plt.xlabel('Predicted Value')\n",
    "plt.ylabel('Truth or Actual Value')\n",
    "plt.show()"
   ]
  },
  {
   "attachments": {},
   "cell_type": "markdown",
   "metadata": {},
   "source": [
    "#### 2. Các thông số đánh giá: Accuracy, Precision, Recall"
   ]
  },
  {
   "attachments": {},
   "cell_type": "markdown",
   "metadata": {},
   "source": [
    " Độ so khớp của mô hình với dữ liệu (%)"
   ]
  },
  {
   "cell_type": "code",
   "execution_count": 21,
   "metadata": {},
   "outputs": [
    {
     "name": "stdout",
     "output_type": "stream",
     "text": [
      "Accuracy: 0.9293598233995585\n"
     ]
    }
   ],
   "source": [
    "print(\"Accuracy:\", metrics.accuracy_score(y_test, predicted_output))"
   ]
  },
  {
   "attachments": {},
   "cell_type": "markdown",
   "metadata": {},
   "source": [
    "Với confusion matrix ở trên do ở đây ta thực hiên phân lớp tới 6 loại label khác nhau, nên việc tính toán các giá trị TP FP TN FN có vẻ khá tốn thời gian nên chúng ta sẽ sử dụng hàm classification_report để tính toán ra được giá trị precision, recall tương ứng với từng label."
   ]
  },
  {
   "cell_type": "code",
   "execution_count": 22,
   "metadata": {},
   "outputs": [
    {
     "name": "stdout",
     "output_type": "stream",
     "text": [
      "              precision    recall  f1-score   support\n",
      "\n",
      "         1.0       0.96      0.99      0.97       556\n",
      "         2.0       0.91      0.87      0.89       205\n",
      "         3.0       0.95      0.83      0.89        76\n",
      "         4.0       0.71      0.80      0.76        56\n",
      "         5.0       0.56      0.83      0.67         6\n",
      "         6.0       1.00      0.43      0.60         7\n",
      "\n",
      "    accuracy                           0.93       906\n",
      "   macro avg       0.85      0.79      0.80       906\n",
      "weighted avg       0.93      0.93      0.93       906\n",
      "\n"
     ]
    }
   ],
   "source": [
    "#Precision Recall\n",
    "print(metrics.classification_report(y_test, predicted_output)) "
   ]
  },
  {
   "attachments": {},
   "cell_type": "markdown",
   "metadata": {},
   "source": [
    "**NHẬN XÉT:**\n",
    "\n",
    "Với mô hình được sử dụng ở trên có vẻ accuracy mang lại có vẻ khá cao và chính xác, nhưng không thuộc vào trường hợp overfitting"
   ]
  },
  {
   "attachments": {},
   "cell_type": "markdown",
   "metadata": {},
   "source": [
    "# SO SÁNH 2 MÔ HÌNH\n"
   ]
  },
  {
   "attachments": {},
   "cell_type": "markdown",
   "metadata": {},
   "source": [
    "Cả 2 mô hình đều là phương pháp học có giám sát **(Supervised Learning)**.\n",
    "\n",
    "- **Random Forests** là một phương pháp thống kê mô hình hóa bằng máy (machine learning statistic) dùng để phục vụ các mục đích phân loại, tính hồi quy và các nhiệm vụ khác bằng cách xây dựng nhiều cây quyết định (Decision tree).\n",
    "- **Logistic Regression** là thuật toán đơn giản nhưng lại rất hiệu quả trong bài toán phân loại (Classification), là một phương pháp phân tích thống kê được sử dụng để dự đoán giá trị dữ liệu dựa trên các quan sát trước đó của tập dữ liệu.\n"
   ]
  },
  {
   "attachments": {},
   "cell_type": "markdown",
   "metadata": {},
   "source": [
    "Sử dụng **Confusion Matrix** để đánh giá sẽ giúp có cái nhìn rõ hơn về việc các điểm dữ liệu được phân loại đúng/sai như thế nào. Cả 2 mô hình đều sử dụng Confusion matrix nhằm giúp ta so sánh dễ hơn tính hiệu quả của 2 mô hình với bài toán."
   ]
  },
  {
   "cell_type": "code",
   "execution_count": 23,
   "metadata": {},
   "outputs": [
    {
     "name": "stdout",
     "output_type": "stream",
     "text": [
      "Random Forest: \n",
      "              precision    recall  f1-score   support\n",
      "\n",
      "         1.0       1.00      1.00      1.00       556\n",
      "         2.0       0.99      1.00      1.00       205\n",
      "         3.0       0.95      1.00      0.97        76\n",
      "         4.0       1.00      0.96      0.98        56\n",
      "         5.0       0.50      0.50      0.50         6\n",
      "         6.0       1.00      0.43      0.60         7\n",
      "\n",
      "    accuracy                           0.99       906\n",
      "   macro avg       0.91      0.82      0.84       906\n",
      "weighted avg       0.99      0.99      0.99       906\n",
      "\n",
      "Logistic Regression: \n",
      "              precision    recall  f1-score   support\n",
      "\n",
      "         1.0       0.96      0.99      0.97       556\n",
      "         2.0       0.91      0.87      0.89       205\n",
      "         3.0       0.95      0.83      0.89        76\n",
      "         4.0       0.71      0.80      0.76        56\n",
      "         5.0       0.56      0.83      0.67         6\n",
      "         6.0       1.00      0.43      0.60         7\n",
      "\n",
      "    accuracy                           0.93       906\n",
      "   macro avg       0.85      0.79      0.80       906\n",
      "weighted avg       0.93      0.93      0.93       906\n",
      "\n"
     ]
    }
   ],
   "source": [
    "#Precision Recall\n",
    "#Random Forest\n",
    "print(\"Random Forest: \")\n",
    "print(metrics.classification_report(y_test, y_pred)) \n",
    "\n",
    "#Logistic Regression\n",
    "print(\"Logistic Regression: \")\n",
    "print(metrics.classification_report(y_test, predicted_output)) "
   ]
  },
  {
   "attachments": {},
   "cell_type": "markdown",
   "metadata": {},
   "source": [
    "Sau khi đánh giá mô hình trên tập dự liệu test thì độ chính xác (Accuracy) của mô hình Logistic Regression thấp hơn Random Forest khoảng 8%. Về hệ số dự đoán (Precision), mô hình Random forest đều dự đoán chính xác hơn Logistic Regression ở từng label. Tương tự, Random Forest cũng có độ bao phủ (Recall), giá trị trung bình điều hòa giữa Recall và Precision (Fl-score) đều cao hơn mô hình Logistic Regression."
   ]
  },
  {
   "attachments": {},
   "cell_type": "markdown",
   "metadata": {},
   "source": [
    "**Tại sao trong bài toán này mô hình Random Forest lại hiệu quả hơn mô hình Logistic Regression ?**"
   ]
  },
  {
   "attachments": {},
   "cell_type": "markdown",
   "metadata": {},
   "source": [
    " - Random Forest cho thấy hiệu quả hơn so với thuật toán phân loại thường được sử dụng vì có khả năng tìm ra thuộc tính nào quan trọng hơn so với những thuộc tính khác.Trên thực tế, nó còn có thể chỉ ra rằng một số thuộc tính là không có tác dụng trong cây quyết định. Còn về Logistic Regression có các thuộc tính không có mối quan hệ lẫn nhau.\n",
    " - Nói như thế không phải mô hình Logistic Regression không hiệu quả mà nó còn phụ thuộc vào dữ liệu, bài toán mà ta cần thực hiện cũng như phương pháp đánh giá mô hình ta chọn.\n",
    " \n",
    " **=> Ở bài toán này, dùng mô hình Random Forest sẽ hiệu quả hơn Logistic Regression.**"
   ]
  },
  {
   "attachments": {},
   "cell_type": "markdown",
   "metadata": {},
   "source": [
    "*Tuy nhiên, với độ accuracy là rất cao ~0.99 thì ta có thể đoán ra được mô hình Random Forest đang bị **Over Fitting**. Do đó ta cần nhiều tập test và train để kiểm tra thêm mô hình có thật sự chính xác hay không.*"
   ]
  }
 ],
 "metadata": {
  "kernelspec": {
   "display_name": "Python 3",
   "language": "python",
   "name": "python3"
  },
  "language_info": {
   "codemirror_mode": {
    "name": "ipython",
    "version": 3
   },
   "file_extension": ".py",
   "mimetype": "text/x-python",
   "name": "python",
   "nbconvert_exporter": "python",
   "pygments_lexer": "ipython3",
   "version": "3.10.9 (tags/v3.10.9:1dd9be6, Dec  6 2022, 20:01:21) [MSC v.1934 64 bit (AMD64)]"
  },
  "orig_nbformat": 4,
  "vscode": {
   "interpreter": {
    "hash": "65a440aeac0c89e2af7569e0aa53b64434c4b69eb6285e2b0d174d9bca190d54"
   }
  }
 },
 "nbformat": 4,
 "nbformat_minor": 2
}
