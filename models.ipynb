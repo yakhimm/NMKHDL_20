{
 "cells": [
  {
   "attachments": {},
   "cell_type": "markdown",
   "metadata": {},
   "source": [
    "# MÔ HÌNH HÓA DỮ LIỆU\n",
    "- **VỀ DỮ LIỆU:** Dữ liệu được thu thập thêm từ thông tin chi tiết của các địa điểm của một quốc gia. Có các cột là giá trị các thông tin chi tiết đó. Và có một cột target chính là kết quả mà ta sẽ suy ra từ bộ dữ liệu input. Dữ liệu có thể được cập nhật theo ngày tháng, do đó dữ liệu sẽ gần như vô hạn. Tuy nhiên, ta chỉ dùng một ngày cố định, thường sẽ dùng today().\n",
    "- **VỀ MÔ HÌNH:** Ta sẽ chọn 2 mô hình:\n",
    "  - Mô hình gom nhóm Random Forest.\n",
    "  - Mô hình hồi quy tuyến tính Logitis Regression."
   ]
  },
  {
   "cell_type": "code",
   "execution_count": 24,
   "metadata": {},
   "outputs": [],
   "source": [
    "import pandas as pd\n",
    "import numpy as np\n",
    "import warnings\n",
    "import matplotlib.pyplot as plt\n",
    "import seaborn as sns\n",
    "\n",
    "# Các thư viện hỗ trợ thêm\n",
    "from sklearn.impute import SimpleImputer\n",
    "from sklearn.model_selection import train_test_split\n",
    "from sklearn import metrics\n",
    "from sklearn.metrics import confusion_matrix"
   ]
  },
  {
   "attachments": {},
   "cell_type": "markdown",
   "metadata": {},
   "source": [
    "Đọc file input dữ liệu:\n",
    "\n",
    "- Ta có thể lấy dữ liệu gần nhất, dữ liệu today()\n",
    "- Ta có thể lấy dữ liệu các ngày đã thu thập."
   ]
  },
  {
   "cell_type": "code",
   "execution_count": 25,
   "metadata": {},
   "outputs": [
    {
     "data": {
      "text/html": [
       "<div>\n",
       "<style scoped>\n",
       "    .dataframe tbody tr th:only-of-type {\n",
       "        vertical-align: middle;\n",
       "    }\n",
       "\n",
       "    .dataframe tbody tr th {\n",
       "        vertical-align: top;\n",
       "    }\n",
       "\n",
       "    .dataframe thead th {\n",
       "        text-align: right;\n",
       "    }\n",
       "</style>\n",
       "<table border=\"1\" class=\"dataframe\">\n",
       "  <thead>\n",
       "    <tr style=\"text-align: right;\">\n",
       "      <th></th>\n",
       "      <th>Thời tiết</th>\n",
       "      <th>Nhiệt độ</th>\n",
       "      <th>Độ ẩm</th>\n",
       "      <th>Gió</th>\n",
       "      <th>Áp suất</th>\n",
       "      <th>PM2.5</th>\n",
       "      <th>PM10</th>\n",
       "      <th>O3</th>\n",
       "      <th>NO2</th>\n",
       "      <th>SO2</th>\n",
       "      <th>target</th>\n",
       "      <th>CO</th>\n",
       "    </tr>\n",
       "  </thead>\n",
       "  <tbody>\n",
       "    <tr>\n",
       "      <th>0</th>\n",
       "      <td>Trời quang</td>\n",
       "      <td>18°C</td>\n",
       "      <td>29%</td>\n",
       "      <td>10.1 km/h</td>\n",
       "      <td>1014 mbar</td>\n",
       "      <td>62.8</td>\n",
       "      <td>279</td>\n",
       "      <td>3</td>\n",
       "      <td>100</td>\n",
       "      <td>28.8</td>\n",
       "      <td>Không lành mạnh</td>\n",
       "      <td>NaN</td>\n",
       "    </tr>\n",
       "    <tr>\n",
       "      <th>1</th>\n",
       "      <td>Trời quang</td>\n",
       "      <td>19°C</td>\n",
       "      <td>23%</td>\n",
       "      <td>11.2 km/h</td>\n",
       "      <td>1013 mbar</td>\n",
       "      <td>75.1</td>\n",
       "      <td>277</td>\n",
       "      <td>10</td>\n",
       "      <td>79.2</td>\n",
       "      <td>9.6</td>\n",
       "      <td>Không lành mạnh</td>\n",
       "      <td>1720.0</td>\n",
       "    </tr>\n",
       "    <tr>\n",
       "      <th>2</th>\n",
       "      <td>Nhiều mây</td>\n",
       "      <td>-1°C</td>\n",
       "      <td>45%</td>\n",
       "      <td>7 km/h</td>\n",
       "      <td>1032 mbar</td>\n",
       "      <td>109</td>\n",
       "      <td>477.5</td>\n",
       "      <td>56.5</td>\n",
       "      <td>31</td>\n",
       "      <td>8.5</td>\n",
       "      <td>Nguy hiểm</td>\n",
       "      <td>450.0</td>\n",
       "    </tr>\n",
       "    <tr>\n",
       "      <th>3</th>\n",
       "      <td>Sương mù</td>\n",
       "      <td>19°C</td>\n",
       "      <td>45%</td>\n",
       "      <td>5.5 km/h</td>\n",
       "      <td>1014 mbar</td>\n",
       "      <td>87</td>\n",
       "      <td>NaN</td>\n",
       "      <td>NaN</td>\n",
       "      <td>NaN</td>\n",
       "      <td>NaN</td>\n",
       "      <td>Không lành mạnh</td>\n",
       "      <td>NaN</td>\n",
       "    </tr>\n",
       "    <tr>\n",
       "      <th>4</th>\n",
       "      <td>Trời quang</td>\n",
       "      <td>21°C</td>\n",
       "      <td>32%</td>\n",
       "      <td>10.6 km/h</td>\n",
       "      <td>1012 mbar</td>\n",
       "      <td>52.2*</td>\n",
       "      <td>NaN</td>\n",
       "      <td>NaN</td>\n",
       "      <td>NaN</td>\n",
       "      <td>NaN</td>\n",
       "      <td>Không lành mạnh cho các nhóm nhạy cảm</td>\n",
       "      <td>NaN</td>\n",
       "    </tr>\n",
       "  </tbody>\n",
       "</table>\n",
       "</div>"
      ],
      "text/plain": [
       "    Thời tiết Nhiệt độ Độ ẩm        Gió    Áp suất  PM2.5   PM10    O3   NO2   \\\n",
       "0  Trời quang     18°C   29%  10.1 km/h  1014 mbar    62.8    279     3   100   \n",
       "1  Trời quang     19°C   23%  11.2 km/h  1013 mbar    75.1    277    10  79.2   \n",
       "2   Nhiều mây     -1°C   45%     7 km/h  1032 mbar     109  477.5  56.5    31   \n",
       "3    Sương mù     19°C   45%   5.5 km/h  1014 mbar      87    NaN   NaN   NaN   \n",
       "4  Trời quang     21°C   32%  10.6 km/h  1012 mbar   52.2*    NaN   NaN   NaN   \n",
       "\n",
       "   SO2                                  target     CO   \n",
       "0  28.8                        Không lành mạnh     NaN  \n",
       "1   9.6                        Không lành mạnh  1720.0  \n",
       "2   8.5                              Nguy hiểm   450.0  \n",
       "3   NaN                        Không lành mạnh     NaN  \n",
       "4   NaN  Không lành mạnh cho các nhóm nhạy cảm     NaN  "
      ]
     },
     "execution_count": 25,
     "metadata": {},
     "output_type": "execute_result"
    }
   ],
   "source": [
    "from os import walk\n",
    "filenames = next(walk('./data/data'), (None, None, []))[2]  # [] if no file\n",
    "\n",
    "# Nếu muốn train trên bộ dữ liệu là ngày hôm nay today()\n",
    "# filename = filenames[-1]\n",
    "# df = pd.read_csv(f'./data/data/{filename}')\n",
    "\n",
    "# Nếu muốn test trên bộ dữ liệu là các ngày mà ta thu thập...\n",
    "cnt = 0\n",
    "for filename in filenames:    \n",
    "    if cnt == 0:\n",
    "        df = pd.read_csv(f'./data/data/{filename}')\n",
    "    else:\n",
    "        df = pd.concat([df, pd.read_csv(f'./data/data/{filename}')])\n",
    "    cnt += 1\n",
    "df.head()"
   ]
  },
  {
   "cell_type": "code",
   "execution_count": 26,
   "metadata": {},
   "outputs": [
    {
     "data": {
      "text/plain": [
       "Tốt                                      1070\n",
       "Trung bình                                525\n",
       "Không lành mạnh cho các nhóm nhạy cảm     197\n",
       "Không lành mạnh                           165\n",
       "Rất không lành mạnh                        23\n",
       "Nguy hiểm                                  17\n",
       "Name: target, dtype: int64"
      ]
     },
     "execution_count": 26,
     "metadata": {},
     "output_type": "execute_result"
    }
   ],
   "source": [
    "df['target'].value_counts()"
   ]
  },
  {
   "attachments": {},
   "cell_type": "markdown",
   "metadata": {},
   "source": [
    "Quy các kiểu dữ liệu `string` về thành `int` để có thể tính mean"
   ]
  },
  {
   "cell_type": "code",
   "execution_count": 27,
   "metadata": {},
   "outputs": [
    {
     "data": {
      "text/html": [
       "<div>\n",
       "<style scoped>\n",
       "    .dataframe tbody tr th:only-of-type {\n",
       "        vertical-align: middle;\n",
       "    }\n",
       "\n",
       "    .dataframe tbody tr th {\n",
       "        vertical-align: top;\n",
       "    }\n",
       "\n",
       "    .dataframe thead th {\n",
       "        text-align: right;\n",
       "    }\n",
       "</style>\n",
       "<table border=\"1\" class=\"dataframe\">\n",
       "  <thead>\n",
       "    <tr style=\"text-align: right;\">\n",
       "      <th></th>\n",
       "      <th>Thời tiết</th>\n",
       "      <th>Nhiệt độ</th>\n",
       "      <th>Độ ẩm</th>\n",
       "      <th>Gió</th>\n",
       "      <th>Áp suất</th>\n",
       "      <th>PM2.5</th>\n",
       "      <th>PM10</th>\n",
       "      <th>O3</th>\n",
       "      <th>NO2</th>\n",
       "      <th>SO2</th>\n",
       "      <th>target</th>\n",
       "      <th>CO</th>\n",
       "    </tr>\n",
       "  </thead>\n",
       "  <tbody>\n",
       "    <tr>\n",
       "      <th>0</th>\n",
       "      <td>2</td>\n",
       "      <td>18°C</td>\n",
       "      <td>29%</td>\n",
       "      <td>10.1 km/h</td>\n",
       "      <td>1014 mbar</td>\n",
       "      <td>62.8</td>\n",
       "      <td>279</td>\n",
       "      <td>3</td>\n",
       "      <td>100</td>\n",
       "      <td>28.8</td>\n",
       "      <td>3</td>\n",
       "      <td>NaN</td>\n",
       "    </tr>\n",
       "    <tr>\n",
       "      <th>1</th>\n",
       "      <td>2</td>\n",
       "      <td>19°C</td>\n",
       "      <td>23%</td>\n",
       "      <td>11.2 km/h</td>\n",
       "      <td>1013 mbar</td>\n",
       "      <td>75.1</td>\n",
       "      <td>277</td>\n",
       "      <td>10</td>\n",
       "      <td>79.2</td>\n",
       "      <td>9.6</td>\n",
       "      <td>3</td>\n",
       "      <td>1720.0</td>\n",
       "    </tr>\n",
       "    <tr>\n",
       "      <th>2</th>\n",
       "      <td>1</td>\n",
       "      <td>-1°C</td>\n",
       "      <td>45%</td>\n",
       "      <td>7 km/h</td>\n",
       "      <td>1032 mbar</td>\n",
       "      <td>109</td>\n",
       "      <td>477.5</td>\n",
       "      <td>56.5</td>\n",
       "      <td>31</td>\n",
       "      <td>8.5</td>\n",
       "      <td>6</td>\n",
       "      <td>450.0</td>\n",
       "    </tr>\n",
       "    <tr>\n",
       "      <th>3</th>\n",
       "      <td>5</td>\n",
       "      <td>19°C</td>\n",
       "      <td>45%</td>\n",
       "      <td>5.5 km/h</td>\n",
       "      <td>1014 mbar</td>\n",
       "      <td>87</td>\n",
       "      <td>NaN</td>\n",
       "      <td>NaN</td>\n",
       "      <td>NaN</td>\n",
       "      <td>NaN</td>\n",
       "      <td>3</td>\n",
       "      <td>NaN</td>\n",
       "    </tr>\n",
       "    <tr>\n",
       "      <th>4</th>\n",
       "      <td>2</td>\n",
       "      <td>21°C</td>\n",
       "      <td>32%</td>\n",
       "      <td>10.6 km/h</td>\n",
       "      <td>1012 mbar</td>\n",
       "      <td>52.2*</td>\n",
       "      <td>NaN</td>\n",
       "      <td>NaN</td>\n",
       "      <td>NaN</td>\n",
       "      <td>NaN</td>\n",
       "      <td>4</td>\n",
       "      <td>NaN</td>\n",
       "    </tr>\n",
       "  </tbody>\n",
       "</table>\n",
       "</div>"
      ],
      "text/plain": [
       "   Thời tiết Nhiệt độ Độ ẩm        Gió    Áp suất  PM2.5   PM10    O3   NO2   \\\n",
       "0          2     18°C   29%  10.1 km/h  1014 mbar    62.8    279     3   100   \n",
       "1          2     19°C   23%  11.2 km/h  1013 mbar    75.1    277    10  79.2   \n",
       "2          1     -1°C   45%     7 km/h  1032 mbar     109  477.5  56.5    31   \n",
       "3          5     19°C   45%   5.5 km/h  1014 mbar      87    NaN   NaN   NaN   \n",
       "4          2     21°C   32%  10.6 km/h  1012 mbar   52.2*    NaN   NaN   NaN   \n",
       "\n",
       "   SO2   target     CO   \n",
       "0  28.8       3     NaN  \n",
       "1   9.6       3  1720.0  \n",
       "2   8.5       6   450.0  \n",
       "3   NaN       3     NaN  \n",
       "4   NaN       4     NaN  "
      ]
     },
     "execution_count": 27,
     "metadata": {},
     "output_type": "execute_result"
    }
   ],
   "source": [
    "weather = ['Nhiều mây', 'Trời quang', 'Mưa', 'Mây rải rác', 'Sương mù', 'Ít mây', 'Tuyết', 'Mưa rào', 'Giông bão']\n",
    "target = ['Tốt', 'Trung bình', 'Không lành mạnh', 'Không lành mạnh cho các nhóm nhạy cảm', \n",
    "          'Rất không lành mạnh', 'Nguy hiểm']\n",
    "df = df.replace(weather, np.arange(len(weather)) + 1)\n",
    "df = df.replace(target, np.arange(len(target)) + 1)\n",
    "df.head()"
   ]
  },
  {
   "attachments": {},
   "cell_type": "markdown",
   "metadata": {},
   "source": [
    "Format lại các thông tin trong dữ liệu"
   ]
  },
  {
   "cell_type": "code",
   "execution_count": 28,
   "metadata": {},
   "outputs": [],
   "source": [
    "with warnings.catch_warnings():\n",
    "    warnings.simplefilter(\"ignore\")\n",
    "    df['Nhiệt độ'] = df['Nhiệt độ'].str.replace('°C', '')\n",
    "    df['Độ ẩm'] = df['Độ ẩm'].str.replace('%', '')\n",
    "    df['Gió'] = df['Gió'].str.replace(' km/h', '')\n",
    "    df['Áp suất'] = df['Áp suất'].str.replace(' mbar', '')\n",
    "    df[' PM2.5 '] = df[' PM2.5 '].str.replace('*', '')\n",
    "    df[' PM10 '] = df[' PM10 '].str.replace('*', '')\n",
    "    df[' O3 '] = df[' O3 '].str.replace('*', '')\n",
    "    df[' NO2 '] = df[' NO2 '].str.replace('*', '')\n",
    "    df[' SO2 '] = df[' SO2 '].str.replace('*', '')\n",
    "    df[' CO '] = df[' CO '].str.replace('*', '')"
   ]
  },
  {
   "cell_type": "code",
   "execution_count": 29,
   "metadata": {},
   "outputs": [
    {
     "data": {
      "text/html": [
       "<div>\n",
       "<style scoped>\n",
       "    .dataframe tbody tr th:only-of-type {\n",
       "        vertical-align: middle;\n",
       "    }\n",
       "\n",
       "    .dataframe tbody tr th {\n",
       "        vertical-align: top;\n",
       "    }\n",
       "\n",
       "    .dataframe thead th {\n",
       "        text-align: right;\n",
       "    }\n",
       "</style>\n",
       "<table border=\"1\" class=\"dataframe\">\n",
       "  <thead>\n",
       "    <tr style=\"text-align: right;\">\n",
       "      <th></th>\n",
       "      <th>Thời tiết</th>\n",
       "      <th>Nhiệt độ</th>\n",
       "      <th>Độ ẩm</th>\n",
       "      <th>Gió</th>\n",
       "      <th>Áp suất</th>\n",
       "      <th>PM2.5</th>\n",
       "      <th>PM10</th>\n",
       "      <th>O3</th>\n",
       "      <th>NO2</th>\n",
       "      <th>SO2</th>\n",
       "      <th>target</th>\n",
       "      <th>CO</th>\n",
       "    </tr>\n",
       "  </thead>\n",
       "  <tbody>\n",
       "    <tr>\n",
       "      <th>0</th>\n",
       "      <td>2.0</td>\n",
       "      <td>18.0</td>\n",
       "      <td>29.0</td>\n",
       "      <td>10.1</td>\n",
       "      <td>1014.0</td>\n",
       "      <td>62.8</td>\n",
       "      <td>279.0</td>\n",
       "      <td>3.0</td>\n",
       "      <td>100.0</td>\n",
       "      <td>28.8</td>\n",
       "      <td>3.0</td>\n",
       "      <td>NaN</td>\n",
       "    </tr>\n",
       "    <tr>\n",
       "      <th>1</th>\n",
       "      <td>2.0</td>\n",
       "      <td>19.0</td>\n",
       "      <td>23.0</td>\n",
       "      <td>11.2</td>\n",
       "      <td>1013.0</td>\n",
       "      <td>75.1</td>\n",
       "      <td>277.0</td>\n",
       "      <td>10.0</td>\n",
       "      <td>79.2</td>\n",
       "      <td>9.6</td>\n",
       "      <td>3.0</td>\n",
       "      <td>NaN</td>\n",
       "    </tr>\n",
       "    <tr>\n",
       "      <th>2</th>\n",
       "      <td>1.0</td>\n",
       "      <td>-1.0</td>\n",
       "      <td>45.0</td>\n",
       "      <td>7.0</td>\n",
       "      <td>1032.0</td>\n",
       "      <td>109.0</td>\n",
       "      <td>477.5</td>\n",
       "      <td>56.5</td>\n",
       "      <td>31.0</td>\n",
       "      <td>8.5</td>\n",
       "      <td>6.0</td>\n",
       "      <td>NaN</td>\n",
       "    </tr>\n",
       "    <tr>\n",
       "      <th>3</th>\n",
       "      <td>5.0</td>\n",
       "      <td>19.0</td>\n",
       "      <td>45.0</td>\n",
       "      <td>5.5</td>\n",
       "      <td>1014.0</td>\n",
       "      <td>87.0</td>\n",
       "      <td>NaN</td>\n",
       "      <td>NaN</td>\n",
       "      <td>NaN</td>\n",
       "      <td>NaN</td>\n",
       "      <td>3.0</td>\n",
       "      <td>NaN</td>\n",
       "    </tr>\n",
       "    <tr>\n",
       "      <th>4</th>\n",
       "      <td>2.0</td>\n",
       "      <td>21.0</td>\n",
       "      <td>32.0</td>\n",
       "      <td>10.6</td>\n",
       "      <td>1012.0</td>\n",
       "      <td>52.2</td>\n",
       "      <td>NaN</td>\n",
       "      <td>NaN</td>\n",
       "      <td>NaN</td>\n",
       "      <td>NaN</td>\n",
       "      <td>4.0</td>\n",
       "      <td>NaN</td>\n",
       "    </tr>\n",
       "  </tbody>\n",
       "</table>\n",
       "</div>"
      ],
      "text/plain": [
       "   Thời tiết  Nhiệt độ  Độ ẩm   Gió  Áp suất   PM2.5    PM10    O3    NO2   \\\n",
       "0        2.0      18.0   29.0  10.1   1014.0     62.8   279.0   3.0  100.0   \n",
       "1        2.0      19.0   23.0  11.2   1013.0     75.1   277.0  10.0   79.2   \n",
       "2        1.0      -1.0   45.0   7.0   1032.0    109.0   477.5  56.5   31.0   \n",
       "3        5.0      19.0   45.0   5.5   1014.0     87.0     NaN   NaN    NaN   \n",
       "4        2.0      21.0   32.0  10.6   1012.0     52.2     NaN   NaN    NaN   \n",
       "\n",
       "    SO2   target   CO   \n",
       "0   28.8     3.0   NaN  \n",
       "1    9.6     3.0   NaN  \n",
       "2    8.5     6.0   NaN  \n",
       "3    NaN     3.0   NaN  \n",
       "4    NaN     4.0   NaN  "
      ]
     },
     "execution_count": 29,
     "metadata": {},
     "output_type": "execute_result"
    }
   ],
   "source": [
    "df = df.astype(np.float64)\n",
    "df.head()"
   ]
  },
  {
   "attachments": {},
   "cell_type": "markdown",
   "metadata": {},
   "source": [
    "Như đã thấy thì dữ liệu của mô hình có các giá trị NaN. Ta không thể drop các giá trị đó hoặc thay bằng 0, có nhiều cách để thay thế giá trị NaN, tuy nhiên ở đây chúng ta sẽ thay các giá trị NaN bằng mean."
   ]
  },
  {
   "cell_type": "code",
   "execution_count": 30,
   "metadata": {},
   "outputs": [],
   "source": [
    "X = df.iloc[:, :-1]\n",
    "Y = df['target']\n",
    "\n",
    "imputer = SimpleImputer(missing_values = np.nan, strategy = 'median')\n",
    "imputer = imputer.fit(X)\n",
    "X = imputer.transform(X)"
   ]
  },
  {
   "attachments": {},
   "cell_type": "markdown",
   "metadata": {},
   "source": [
    "Từ dữ liệu ta sẽ tạo ra tập train và tập test"
   ]
  },
  {
   "cell_type": "code",
   "execution_count": 31,
   "metadata": {},
   "outputs": [],
   "source": [
    "X_train, X_test, y_train, y_test = train_test_split(X, Y, test_size = 0.3)"
   ]
  },
  {
   "attachments": {},
   "cell_type": "markdown",
   "metadata": {},
   "source": [
    "## MÔ HÌNH 1: **RANDOM FOREST**\n",
    "- X sẽ là các cột dữ liệu thông tin về thời tiết và không khí.\n",
    "- Y sẽ là các kết quả thực tế đo được."
   ]
  },
  {
   "cell_type": "code",
   "execution_count": 32,
   "metadata": {},
   "outputs": [],
   "source": [
    "#Import Random Forest Model\n",
    "from sklearn.ensemble import RandomForestClassifier"
   ]
  },
  {
   "attachments": {},
   "cell_type": "markdown",
   "metadata": {},
   "source": [
    "Sau đó fix dữ liệu train với model"
   ]
  },
  {
   "cell_type": "code",
   "execution_count": 33,
   "metadata": {},
   "outputs": [
    {
     "data": {
      "text/html": [
       "<style>#sk-container-id-2 {color: black;background-color: white;}#sk-container-id-2 pre{padding: 0;}#sk-container-id-2 div.sk-toggleable {background-color: white;}#sk-container-id-2 label.sk-toggleable__label {cursor: pointer;display: block;width: 100%;margin-bottom: 0;padding: 0.3em;box-sizing: border-box;text-align: center;}#sk-container-id-2 label.sk-toggleable__label-arrow:before {content: \"▸\";float: left;margin-right: 0.25em;color: #696969;}#sk-container-id-2 label.sk-toggleable__label-arrow:hover:before {color: black;}#sk-container-id-2 div.sk-estimator:hover label.sk-toggleable__label-arrow:before {color: black;}#sk-container-id-2 div.sk-toggleable__content {max-height: 0;max-width: 0;overflow: hidden;text-align: left;background-color: #f0f8ff;}#sk-container-id-2 div.sk-toggleable__content pre {margin: 0.2em;color: black;border-radius: 0.25em;background-color: #f0f8ff;}#sk-container-id-2 input.sk-toggleable__control:checked~div.sk-toggleable__content {max-height: 200px;max-width: 100%;overflow: auto;}#sk-container-id-2 input.sk-toggleable__control:checked~label.sk-toggleable__label-arrow:before {content: \"▾\";}#sk-container-id-2 div.sk-estimator input.sk-toggleable__control:checked~label.sk-toggleable__label {background-color: #d4ebff;}#sk-container-id-2 div.sk-label input.sk-toggleable__control:checked~label.sk-toggleable__label {background-color: #d4ebff;}#sk-container-id-2 input.sk-hidden--visually {border: 0;clip: rect(1px 1px 1px 1px);clip: rect(1px, 1px, 1px, 1px);height: 1px;margin: -1px;overflow: hidden;padding: 0;position: absolute;width: 1px;}#sk-container-id-2 div.sk-estimator {font-family: monospace;background-color: #f0f8ff;border: 1px dotted black;border-radius: 0.25em;box-sizing: border-box;margin-bottom: 0.5em;}#sk-container-id-2 div.sk-estimator:hover {background-color: #d4ebff;}#sk-container-id-2 div.sk-parallel-item::after {content: \"\";width: 100%;border-bottom: 1px solid gray;flex-grow: 1;}#sk-container-id-2 div.sk-label:hover label.sk-toggleable__label {background-color: #d4ebff;}#sk-container-id-2 div.sk-serial::before {content: \"\";position: absolute;border-left: 1px solid gray;box-sizing: border-box;top: 0;bottom: 0;left: 50%;z-index: 0;}#sk-container-id-2 div.sk-serial {display: flex;flex-direction: column;align-items: center;background-color: white;padding-right: 0.2em;padding-left: 0.2em;position: relative;}#sk-container-id-2 div.sk-item {position: relative;z-index: 1;}#sk-container-id-2 div.sk-parallel {display: flex;align-items: stretch;justify-content: center;background-color: white;position: relative;}#sk-container-id-2 div.sk-item::before, #sk-container-id-2 div.sk-parallel-item::before {content: \"\";position: absolute;border-left: 1px solid gray;box-sizing: border-box;top: 0;bottom: 0;left: 50%;z-index: -1;}#sk-container-id-2 div.sk-parallel-item {display: flex;flex-direction: column;z-index: 1;position: relative;background-color: white;}#sk-container-id-2 div.sk-parallel-item:first-child::after {align-self: flex-end;width: 50%;}#sk-container-id-2 div.sk-parallel-item:last-child::after {align-self: flex-start;width: 50%;}#sk-container-id-2 div.sk-parallel-item:only-child::after {width: 0;}#sk-container-id-2 div.sk-dashed-wrapped {border: 1px dashed gray;margin: 0 0.4em 0.5em 0.4em;box-sizing: border-box;padding-bottom: 0.4em;background-color: white;}#sk-container-id-2 div.sk-label label {font-family: monospace;font-weight: bold;display: inline-block;line-height: 1.2em;}#sk-container-id-2 div.sk-label-container {text-align: center;}#sk-container-id-2 div.sk-container {/* jupyter's `normalize.less` sets `[hidden] { display: none; }` but bootstrap.min.css set `[hidden] { display: none !important; }` so we also need the `!important` here to be able to override the default hidden behavior on the sphinx rendered scikit-learn.org. See: https://github.com/scikit-learn/scikit-learn/issues/21755 */display: inline-block !important;position: relative;}#sk-container-id-2 div.sk-text-repr-fallback {display: none;}</style><div id=\"sk-container-id-2\" class=\"sk-top-container\"><div class=\"sk-text-repr-fallback\"><pre>RandomForestClassifier()</pre><b>In a Jupyter environment, please rerun this cell to show the HTML representation or trust the notebook. <br />On GitHub, the HTML representation is unable to render, please try loading this page with nbviewer.org.</b></div><div class=\"sk-container\" hidden><div class=\"sk-item\"><div class=\"sk-estimator sk-toggleable\"><input class=\"sk-toggleable__control sk-hidden--visually\" id=\"sk-estimator-id-2\" type=\"checkbox\" checked><label for=\"sk-estimator-id-2\" class=\"sk-toggleable__label sk-toggleable__label-arrow\">RandomForestClassifier</label><div class=\"sk-toggleable__content\"><pre>RandomForestClassifier()</pre></div></div></div></div></div>"
      ],
      "text/plain": [
       "RandomForestClassifier()"
      ]
     },
     "execution_count": 33,
     "metadata": {},
     "output_type": "execute_result"
    }
   ],
   "source": [
    "clf = RandomForestClassifier(n_estimators = 100)\n",
    "clf.fit(X_train, y_train)"
   ]
  },
  {
   "attachments": {},
   "cell_type": "markdown",
   "metadata": {},
   "source": [
    "Tập dự đoán "
   ]
  },
  {
   "cell_type": "code",
   "execution_count": 34,
   "metadata": {},
   "outputs": [
    {
     "data": {
      "text/plain": [
       "array([2., 1., 1., 2., 1., 1., 1., 4., 2., 1., 1., 1., 1., 5., 1., 1., 2.,\n",
       "       2., 2., 1., 2., 1., 2., 2., 1., 1., 1., 1., 1., 1., 3., 1., 1., 1.,\n",
       "       4., 1., 2., 3., 2., 2., 1., 1., 1., 1., 2., 2., 1., 3., 1., 1., 1.,\n",
       "       3., 2., 1., 1., 5., 3., 1., 1., 1., 2., 2., 2., 2., 1., 1., 1., 1.,\n",
       "       1., 2., 1., 1., 4., 1., 1., 1., 2., 3., 1., 1., 2., 4., 2., 2., 3.,\n",
       "       1., 2., 1., 4., 3., 1., 2., 1., 3., 2., 1., 1., 2., 2., 1., 1., 4.,\n",
       "       1., 3., 2., 3., 2., 1., 4., 1., 3., 1., 1., 1., 1., 2., 1., 3., 2.,\n",
       "       3., 1., 4., 1., 1., 2., 1., 2., 1., 3., 1., 1., 1., 4., 1., 4., 3.,\n",
       "       2., 1., 1., 1., 1., 1., 1., 2., 2., 2., 1., 2., 2., 1., 1., 2., 1.,\n",
       "       1., 1., 1., 1., 3., 1., 2., 4., 1., 1., 4., 5., 1., 4., 2., 2., 1.,\n",
       "       1., 1., 1., 2., 1., 4., 4., 4., 1., 2., 1., 4., 1., 2., 1., 1., 1.,\n",
       "       3., 1., 1., 3., 1., 1., 2., 2., 2., 4., 1., 4., 2., 1., 1., 1., 1.,\n",
       "       3., 1., 1., 4., 3., 2., 1., 4., 3., 1., 1., 1., 1., 2., 2., 1., 1.,\n",
       "       3., 1., 1., 1., 1., 1., 4., 4., 2., 1., 2., 1., 5., 1., 1., 2., 2.,\n",
       "       1., 4., 4., 2., 1., 1., 3., 4., 1., 3., 4., 1., 1., 1., 1., 1., 2.,\n",
       "       1., 1., 1., 1., 1., 1., 1., 1., 1., 2., 2., 2., 1., 2., 1., 3., 2.,\n",
       "       1., 1., 4., 1., 1., 1., 2., 1., 2., 1., 1., 3., 1., 1., 1., 2., 4.,\n",
       "       5., 1., 1., 1., 1., 4., 1., 1., 1., 3., 3., 1., 1., 2., 1., 1., 2.,\n",
       "       3., 2., 1., 1., 1., 3., 3., 1., 1., 2., 1., 1., 1., 1., 2., 2., 2.,\n",
       "       2., 1., 2., 2., 1., 2., 3., 2., 2., 1., 1., 1., 1., 1., 1., 2., 1.,\n",
       "       1., 3., 1., 6., 4., 2., 1., 1., 1., 2., 2., 1., 1., 1., 2., 1., 1.,\n",
       "       1., 2., 2., 1., 1., 1., 1., 1., 3., 2., 3., 2., 2., 2., 5., 1., 2.,\n",
       "       1., 1., 2., 4., 1., 3., 1., 2., 1., 1., 1., 4., 1., 4., 1., 2., 1.,\n",
       "       1., 1., 2., 2., 1., 2., 4., 3., 1., 1., 2., 5., 1., 4., 1., 1., 2.,\n",
       "       2., 1., 1., 1., 1., 1., 1., 1., 1., 2., 2., 1., 1., 1., 3., 3., 1.,\n",
       "       1., 1., 2., 2., 1., 1., 2., 2., 2., 1., 1., 1., 1., 1., 2., 3., 1.,\n",
       "       1., 1., 1., 2., 1., 1., 3., 1., 4., 2., 1., 3., 2., 1., 1., 5., 2.,\n",
       "       1., 1., 1., 1., 2., 3., 1., 1., 4., 2., 2., 1., 3., 1., 1., 1., 1.,\n",
       "       1., 4., 2., 3., 3., 4., 4., 3., 1., 3., 5., 3., 2., 3., 2., 1., 1.,\n",
       "       3., 3., 1., 2., 1., 3., 2., 1., 3., 3., 1., 1., 1., 4., 1., 3., 2.,\n",
       "       1., 1., 1., 1., 2., 1., 1., 2., 2., 1., 2., 1., 1., 4., 1., 1., 1.,\n",
       "       2., 1., 4., 1., 3., 4., 1., 1., 3., 2., 2., 2., 1., 2., 1., 1., 4.,\n",
       "       3., 2., 1., 3., 1., 2., 4., 2., 1., 1., 4., 2., 1., 2., 1., 1., 2.,\n",
       "       1., 2., 2., 4., 1., 2., 1., 2., 1., 2., 1., 1., 2., 1., 1., 1., 5.,\n",
       "       2., 1., 1., 1., 1., 4., 4., 3., 1., 1., 1., 2., 4., 4., 4., 2., 1.,\n",
       "       1., 1., 1., 2., 2.])"
      ]
     },
     "execution_count": 34,
     "metadata": {},
     "output_type": "execute_result"
    }
   ],
   "source": [
    "y_pred = clf.predict(X_test)\n",
    "y_pred"
   ]
  },
  {
   "attachments": {},
   "cell_type": "markdown",
   "metadata": {},
   "source": [
    "### **ĐÁNH GIÁ MÔ HÌNH**"
   ]
  },
  {
   "attachments": {},
   "cell_type": "markdown",
   "metadata": {},
   "source": [
    "#### 1. **Confusion Matrix** (ma trận kiểm chứng tính đúng sai giữa true label và predicted label)"
   ]
  },
  {
   "cell_type": "code",
   "execution_count": 35,
   "metadata": {},
   "outputs": [
    {
     "data": {
      "text/plain": [
       "array([[323,   0,   0,   0,   0,   0],\n",
       "       [  0, 149,   0,   0,   0,   0],\n",
       "       [  0,   1,  62,   0,   0,   0],\n",
       "       [  0,   0,   0,  54,   0,   0],\n",
       "       [  0,   0,   0,   0,   8,   0],\n",
       "       [  0,   0,   0,   0,   2,   1]], dtype=int64)"
      ]
     },
     "execution_count": 35,
     "metadata": {},
     "output_type": "execute_result"
    }
   ],
   "source": [
    "test = confusion_matrix(y_test, y_pred)\n",
    "test"
   ]
  },
  {
   "cell_type": "code",
   "execution_count": 36,
   "metadata": {},
   "outputs": [
    {
     "data": {
      "image/png": "[encoded data removed]",
      "text/plain": [
       "<Figure size 500x400 with 2 Axes>"
      ]
     },
     "metadata": {},
     "output_type": "display_data"
    }
   ],
   "source": [
    "plt.figure(figsize = (5,4))\n",
    "sns.heatmap(test, annot = True, cmap = 'Greens')\n",
    "plt.xlabel('Predicted Value')\n",
    "plt.ylabel('Truth or Actual Value')\n",
    "plt.show()"
   ]
  },
  {
   "attachments": {},
   "cell_type": "markdown",
   "metadata": {},
   "source": [
    "#### 2. Các thông số đánh giá: Accuracy, Precision, Recall"
   ]
  },
  {
   "attachments": {},
   "cell_type": "markdown",
   "metadata": {},
   "source": [
    " Độ so khớp của mô hình với dữ liệu (%)"
   ]
  },
  {
   "cell_type": "code",
   "execution_count": 37,
   "metadata": {},
   "outputs": [
    {
     "name": "stdout",
     "output_type": "stream",
     "text": [
      "Accuracy: 0.995\n"
     ]
    }
   ],
   "source": [
    "print(\"Accuracy:\", metrics.accuracy_score(y_test, y_pred))"
   ]
  },
  {
   "attachments": {},
   "cell_type": "markdown",
   "metadata": {},
   "source": [
    "Với confusion matrix ở trên do ở đây ta thực hiên phân lớp tới 6 loại label khác nhau, nên việc tính toán các giá trị TP FP TN FN có vẻ khá tốn thời gian nên chúng ta sẽ sử dụng hàm classification_report để tính toán ra được giá trị precision, recall tương ứng với từng label."
   ]
  },
  {
   "cell_type": "code",
   "execution_count": 38,
   "metadata": {},
   "outputs": [
    {
     "name": "stdout",
     "output_type": "stream",
     "text": [
      "              precision    recall  f1-score   support\n",
      "\n",
      "         1.0       1.00      1.00      1.00       323\n",
      "         2.0       0.99      1.00      1.00       149\n",
      "         3.0       1.00      0.98      0.99        63\n",
      "         4.0       1.00      1.00      1.00        54\n",
      "         5.0       0.80      1.00      0.89         8\n",
      "         6.0       1.00      0.33      0.50         3\n",
      "\n",
      "    accuracy                           0.99       600\n",
      "   macro avg       0.97      0.89      0.90       600\n",
      "weighted avg       1.00      0.99      0.99       600\n",
      "\n"
     ]
    }
   ],
   "source": [
    "#Precision Recall\n",
    "print(metrics.classification_report(y_test, y_pred)) "
   ]
  },
  {
   "attachments": {},
   "cell_type": "markdown",
   "metadata": {},
   "source": [
    "**NHẬN XÉT:**\n",
    "\n",
    "Với mô hình được sử dụng ở trên có vẻ accuracy mang lại có vẻ khá cao và chính xác, nhưng không thuộc vào trường hợp overfitting"
   ]
  },
  {
   "attachments": {},
   "cell_type": "markdown",
   "metadata": {},
   "source": [
    "## MÔ HÌNH 2: **LOGISTIC REGRESSION**\n",
    "- X sẽ là các cột dữ liệu thông tin về thời tiết và không khí.\n",
    "- Y sẽ là các kết quả thực tế đo được."
   ]
  },
  {
   "cell_type": "code",
   "execution_count": 39,
   "metadata": {},
   "outputs": [],
   "source": [
    "# Models Logistic Regression\n",
    "from sklearn.linear_model import LogisticRegression"
   ]
  },
  {
   "attachments": {},
   "cell_type": "markdown",
   "metadata": {},
   "source": [
    "Sau đó fix dữ liệu train với model"
   ]
  },
  {
   "cell_type": "code",
   "execution_count": 40,
   "metadata": {},
   "outputs": [],
   "source": [
    "with warnings.catch_warnings():\n",
    "    warnings.filterwarnings('ignore')\n",
    "    mymodel = LogisticRegression(max_iter = 120)\n",
    "    mymodel.fit(X_train, y_train)"
   ]
  },
  {
   "attachments": {},
   "cell_type": "markdown",
   "metadata": {},
   "source": [
    "Tập dự đoán "
   ]
  },
  {
   "cell_type": "code",
   "execution_count": 41,
   "metadata": {},
   "outputs": [
    {
     "data": {
      "text/plain": [
       "array([2., 1., 1., 2., 1., 1., 1., 2., 2., 1., 1., 1., 1., 5., 1., 1., 2.,\n",
       "       2., 2., 1., 2., 1., 2., 2., 1., 1., 1., 1., 1., 1., 3., 1., 1., 1.,\n",
       "       4., 1., 2., 3., 2., 2., 1., 1., 1., 1., 2., 2., 1., 3., 1., 1., 1.,\n",
       "       3., 2., 1., 1., 3., 3., 1., 1., 1., 2., 2., 2., 2., 1., 1., 1., 1.,\n",
       "       1., 2., 1., 1., 4., 1., 1., 1., 2., 3., 1., 1., 2., 4., 2., 1., 3.,\n",
       "       1., 2., 2., 4., 3., 1., 2., 1., 3., 2., 1., 1., 2., 2., 1., 1., 4.,\n",
       "       1., 3., 2., 3., 2., 1., 4., 1., 3., 1., 1., 1., 1., 2., 1., 3., 2.,\n",
       "       3., 1., 4., 1., 1., 2., 1., 2., 1., 3., 1., 1., 1., 3., 1., 2., 3.,\n",
       "       2., 1., 1., 1., 1., 1., 1., 2., 1., 2., 1., 2., 2., 1., 1., 2., 1.,\n",
       "       1., 1., 1., 1., 4., 1., 2., 4., 1., 1., 4., 5., 1., 4., 2., 2., 1.,\n",
       "       1., 1., 1., 2., 1., 4., 2., 4., 1., 4., 1., 2., 1., 2., 1., 1., 1.,\n",
       "       3., 1., 1., 3., 1., 1., 2., 2., 2., 4., 1., 4., 2., 1., 1., 1., 1.,\n",
       "       3., 1., 1., 4., 3., 2., 1., 4., 3., 1., 1., 1., 1., 2., 2., 1., 1.,\n",
       "       3., 1., 1., 1., 1., 1., 4., 4., 2., 1., 4., 1., 5., 1., 1., 2., 2.,\n",
       "       1., 4., 3., 2., 1., 1., 3., 4., 1., 3., 4., 1., 1., 1., 1., 1., 2.,\n",
       "       1., 2., 1., 1., 1., 1., 1., 1., 1., 2., 2., 2., 1., 2., 1., 3., 2.,\n",
       "       1., 1., 3., 1., 1., 1., 2., 1., 2., 1., 1., 3., 1., 1., 1., 2., 2.,\n",
       "       3., 1., 1., 1., 1., 4., 1., 1., 1., 5., 3., 1., 1., 2., 1., 1., 2.,\n",
       "       3., 2., 1., 1., 1., 3., 5., 1., 1., 2., 1., 1., 1., 1., 2., 2., 2.,\n",
       "       2., 1., 1., 2., 1., 2., 3., 2., 2., 1., 1., 1., 1., 1., 1., 1., 1.,\n",
       "       1., 3., 1., 6., 2., 2., 1., 1., 1., 1., 2., 1., 1., 1., 2., 1., 1.,\n",
       "       1., 2., 2., 1., 1., 1., 1., 1., 3., 2., 3., 2., 2., 2., 5., 1., 2.,\n",
       "       2., 1., 2., 4., 1., 3., 1., 2., 1., 1., 1., 4., 1., 2., 1., 2., 1.,\n",
       "       1., 1., 2., 2., 1., 2., 2., 3., 1., 1., 2., 5., 1., 4., 1., 1., 2.,\n",
       "       2., 1., 2., 1., 1., 1., 1., 1., 1., 1., 2., 1., 1., 1., 3., 4., 1.,\n",
       "       1., 1., 1., 2., 1., 1., 2., 2., 1., 1., 1., 1., 1., 1., 2., 5., 1.,\n",
       "       1., 1., 1., 2., 1., 1., 3., 1., 2., 2., 1., 3., 2., 1., 1., 6., 2.,\n",
       "       1., 1., 1., 1., 2., 3., 1., 1., 4., 2., 2., 1., 4., 1., 1., 1., 1.,\n",
       "       1., 4., 2., 3., 3., 4., 4., 3., 1., 3., 3., 3., 2., 3., 2., 1., 1.,\n",
       "       3., 3., 1., 2., 2., 3., 2., 1., 4., 3., 1., 1., 1., 4., 1., 3., 1.,\n",
       "       1., 1., 1., 1., 1., 1., 1., 2., 2., 1., 2., 1., 1., 4., 1., 1., 1.,\n",
       "       2., 1., 4., 1., 3., 4., 1., 1., 3., 2., 2., 2., 1., 2., 1., 1., 4.,\n",
       "       3., 4., 1., 3., 1., 2., 4., 4., 1., 1., 2., 2., 1., 4., 1., 1., 2.,\n",
       "       1., 2., 2., 4., 1., 2., 1., 2., 1., 2., 1., 1., 2., 1., 1., 1., 5.,\n",
       "       1., 1., 1., 1., 1., 4., 4., 3., 1., 1., 1., 2., 4., 4., 4., 2., 1.,\n",
       "       1., 1., 1., 2., 2.])"
      ]
     },
     "execution_count": 41,
     "metadata": {},
     "output_type": "execute_result"
    }
   ],
   "source": [
    "predicted_output = mymodel.predict(X_test)\n",
    "predicted_output"
   ]
  },
  {
   "cell_type": "code",
   "execution_count": null,
   "metadata": {},
   "outputs": [],
   "source": []
  },
  {
   "attachments": {},
   "cell_type": "markdown",
   "metadata": {},
   "source": [
    "### **ĐÁNH GIÁ MÔ HÌNH**"
   ]
  },
  {
   "attachments": {},
   "cell_type": "markdown",
   "metadata": {},
   "source": [
    "#### 1. **Confusion Matrix** (ma trận kiểm chứng tính đúng sai giữa true label và predicted label)"
   ]
  },
  {
   "cell_type": "code",
   "execution_count": 42,
   "metadata": {},
   "outputs": [
    {
     "data": {
      "text/plain": [
       "array([[318,   5,   0,   0,   0,   0],\n",
       "       [ 11, 133,   0,   5,   0,   0],\n",
       "       [  0,   1,  55,   4,   3,   0],\n",
       "       [  0,  10,   3,  41,   0,   0],\n",
       "       [  0,   0,   3,   0,   4,   1],\n",
       "       [  0,   0,   0,   0,   2,   1]], dtype=int64)"
      ]
     },
     "execution_count": 42,
     "metadata": {},
     "output_type": "execute_result"
    }
   ],
   "source": [
    "test = confusion_matrix(y_test, predicted_output)\n",
    "test"
   ]
  },
  {
   "cell_type": "code",
   "execution_count": 43,
   "metadata": {},
   "outputs": [
    {
     "data": {
      "image/png": "[encoded data removed]",
      "text/plain": [
       "<Figure size 500x400 with 2 Axes>"
      ]
     },
     "metadata": {},
     "output_type": "display_data"
    }
   ],
   "source": [
    "plt.figure(figsize = (5,4))\n",
    "sns.heatmap(test, annot = True, cmap = 'Greens')\n",
    "plt.xlabel('Predicted Value')\n",
    "plt.ylabel('Truth or Actual Value')\n",
    "plt.show()"
   ]
  },
  {
   "attachments": {},
   "cell_type": "markdown",
   "metadata": {},
   "source": [
    "#### 2. Các thông số đánh giá: Accuracy, Precision, Recall"
   ]
  },
  {
   "attachments": {},
   "cell_type": "markdown",
   "metadata": {},
   "source": [
    " Độ so khớp của mô hình với dữ liệu (%)"
   ]
  },
  {
   "cell_type": "code",
   "execution_count": 44,
   "metadata": {},
   "outputs": [
    {
     "name": "stdout",
     "output_type": "stream",
     "text": [
      "Accuracy: 0.92\n"
     ]
    }
   ],
   "source": [
    "print(\"Accuracy:\", metrics.accuracy_score(y_test, predicted_output))"
   ]
  },
  {
   "attachments": {},
   "cell_type": "markdown",
   "metadata": {},
   "source": [
    "Với confusion matrix ở trên do ở đây ta thực hiên phân lớp tới 6 loại label khác nhau, nên việc tính toán các giá trị TP FP TN FN có vẻ khá tốn thời gian nên chúng ta sẽ sử dụng hàm classification_report để tính toán ra được giá trị precision, recall tương ứng với từng label."
   ]
  },
  {
   "cell_type": "code",
   "execution_count": 45,
   "metadata": {},
   "outputs": [
    {
     "name": "stdout",
     "output_type": "stream",
     "text": [
      "              precision    recall  f1-score   support\n",
      "\n",
      "         1.0       0.97      0.98      0.98       323\n",
      "         2.0       0.89      0.89      0.89       149\n",
      "         3.0       0.90      0.87      0.89        63\n",
      "         4.0       0.82      0.76      0.79        54\n",
      "         5.0       0.44      0.50      0.47         8\n",
      "         6.0       0.50      0.33      0.40         3\n",
      "\n",
      "    accuracy                           0.92       600\n",
      "   macro avg       0.75      0.72      0.74       600\n",
      "weighted avg       0.92      0.92      0.92       600\n",
      "\n"
     ]
    }
   ],
   "source": [
    "#Precision Recall\n",
    "print(metrics.classification_report(y_test, predicted_output)) "
   ]
  },
  {
   "attachments": {},
   "cell_type": "markdown",
   "metadata": {},
   "source": [
    "**NHẬN XÉT:**\n",
    "\n",
    "Với mô hình được sử dụng ở trên có vẻ accuracy mang lại có vẻ khá cao và chính xác, nhưng không thuộc vào trường hợp overfitting"
   ]
  },
  {
   "attachments": {},
   "cell_type": "markdown",
   "metadata": {},
   "source": [
    "# SO SÁNH 2 MÔ HÌNH"
   ]
  }
 ],
 "metadata": {
  "kernelspec": {
   "display_name": "Python 3",
   "language": "python",
   "name": "python3"
  },
  "language_info": {
   "codemirror_mode": {
    "name": "ipython",
    "version": 3
   },
   "file_extension": ".py",
   "mimetype": "text/x-python",
   "name": "python",
   "nbconvert_exporter": "python",
   "pygments_lexer": "ipython3",
   "version": "3.10.9"
  },
  "orig_nbformat": 4,
  "vscode": {
   "interpreter": {
    "hash": "65a440aeac0c89e2af7569e0aa53b64434c4b69eb6285e2b0d174d9bca190d54"
   }
  }
 },
 "nbformat": 4,
 "nbformat_minor": 2
}
