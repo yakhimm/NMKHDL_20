{
 "cells": [
  {
   "cell_type": "markdown",
   "metadata": {},
   "source": [
    "# MÔ HÌNH HÓA DỮ LIỆU\n",
    "- **VỀ DỮ LIỆU:** Dữ liệu được thu thập thêm từ thông tin chi tiết của các địa điểm của một quốc gia. Có các cột là giá trị các thông tin chi tiết đó. Và có một cột target chính là kết quả mà ta sẽ suy ra từ bộ dữ liệu input. Dữ liệu có thể được cập nhật theo ngày tháng, do đó dữ liệu sẽ gần như vô hạn. Tuy nhiên, ta chỉ dùng một ngày cố định, thường sẽ dùng today().\n",
    "- VỀ MÔ HÌNH: Ta sẽ chọn 2 mô hình:\n",
    "  - Mô hình gom nhóm KMeans.\n",
    "  - Mô hình hồi quy tuyến tính Logitis Regression."
   ]
  },
  {
   "cell_type": "code",
   "execution_count": 1,
   "metadata": {},
   "outputs": [],
   "source": [
    "import pandas as pd\n",
    "import numpy as np\n",
    "import warnings\n",
    "import matplotlib.pyplot as plt\n",
    "import seaborn as sns\n",
    "\n",
    "# Các thư viện hỗ trợ thêm\n",
    "from sklearn.impute import SimpleImputer"
   ]
  },
  {
   "cell_type": "markdown",
   "metadata": {},
   "source": [
    "Đọc file input dữ liệu:\n",
    "\n",
    "- Ta có thể lấy dữ liệu gần nhất, dữ liệu today()\n",
    "- Ta có thể lấy dữ liệu các ngày đã thu thập."
   ]
  },
  {
   "cell_type": "code",
   "execution_count": 2,
   "metadata": {},
   "outputs": [
    {
     "data": {
      "text/html": [
       "<div>\n",
       "<style scoped>\n",
       "    .dataframe tbody tr th:only-of-type {\n",
       "        vertical-align: middle;\n",
       "    }\n",
       "\n",
       "    .dataframe tbody tr th {\n",
       "        vertical-align: top;\n",
       "    }\n",
       "\n",
       "    .dataframe thead th {\n",
       "        text-align: right;\n",
       "    }\n",
       "</style>\n",
       "<table border=\"1\" class=\"dataframe\">\n",
       "  <thead>\n",
       "    <tr style=\"text-align: right;\">\n",
       "      <th></th>\n",
       "      <th>Thời tiết</th>\n",
       "      <th>Nhiệt độ</th>\n",
       "      <th>Độ ẩm</th>\n",
       "      <th>Gió</th>\n",
       "      <th>Áp suất</th>\n",
       "      <th>PM2.5</th>\n",
       "      <th>PM10</th>\n",
       "      <th>O3</th>\n",
       "      <th>NO2</th>\n",
       "      <th>SO2</th>\n",
       "      <th>target</th>\n",
       "      <th>CO</th>\n",
       "    </tr>\n",
       "  </thead>\n",
       "  <tbody>\n",
       "    <tr>\n",
       "      <th>0</th>\n",
       "      <td>Trời quang</td>\n",
       "      <td>18°C</td>\n",
       "      <td>29%</td>\n",
       "      <td>10.1 km/h</td>\n",
       "      <td>1014 mbar</td>\n",
       "      <td>62.8</td>\n",
       "      <td>279</td>\n",
       "      <td>3</td>\n",
       "      <td>100</td>\n",
       "      <td>28.8</td>\n",
       "      <td>Không lành mạnh</td>\n",
       "      <td>NaN</td>\n",
       "    </tr>\n",
       "    <tr>\n",
       "      <th>1</th>\n",
       "      <td>Trời quang</td>\n",
       "      <td>19°C</td>\n",
       "      <td>23%</td>\n",
       "      <td>11.2 km/h</td>\n",
       "      <td>1013 mbar</td>\n",
       "      <td>75.1</td>\n",
       "      <td>277</td>\n",
       "      <td>10</td>\n",
       "      <td>79.2</td>\n",
       "      <td>9.6</td>\n",
       "      <td>Không lành mạnh</td>\n",
       "      <td>1720.0</td>\n",
       "    </tr>\n",
       "    <tr>\n",
       "      <th>2</th>\n",
       "      <td>Nhiều mây</td>\n",
       "      <td>-1°C</td>\n",
       "      <td>45%</td>\n",
       "      <td>7 km/h</td>\n",
       "      <td>1032 mbar</td>\n",
       "      <td>109</td>\n",
       "      <td>477.5</td>\n",
       "      <td>56.5</td>\n",
       "      <td>31</td>\n",
       "      <td>8.5</td>\n",
       "      <td>Nguy hiểm</td>\n",
       "      <td>450.0</td>\n",
       "    </tr>\n",
       "    <tr>\n",
       "      <th>3</th>\n",
       "      <td>Sương mù</td>\n",
       "      <td>19°C</td>\n",
       "      <td>45%</td>\n",
       "      <td>5.5 km/h</td>\n",
       "      <td>1014 mbar</td>\n",
       "      <td>87</td>\n",
       "      <td>NaN</td>\n",
       "      <td>NaN</td>\n",
       "      <td>NaN</td>\n",
       "      <td>NaN</td>\n",
       "      <td>Không lành mạnh</td>\n",
       "      <td>NaN</td>\n",
       "    </tr>\n",
       "    <tr>\n",
       "      <th>4</th>\n",
       "      <td>Trời quang</td>\n",
       "      <td>21°C</td>\n",
       "      <td>32%</td>\n",
       "      <td>10.6 km/h</td>\n",
       "      <td>1012 mbar</td>\n",
       "      <td>52.2*</td>\n",
       "      <td>NaN</td>\n",
       "      <td>NaN</td>\n",
       "      <td>NaN</td>\n",
       "      <td>NaN</td>\n",
       "      <td>Không lành mạnh cho các nhóm nhạy cảm</td>\n",
       "      <td>NaN</td>\n",
       "    </tr>\n",
       "  </tbody>\n",
       "</table>\n",
       "</div>"
      ],
      "text/plain": [
       "    Thời tiết Nhiệt độ Độ ẩm        Gió    Áp suất  PM2.5   PM10    O3   NO2   \\\n",
       "0  Trời quang     18°C   29%  10.1 km/h  1014 mbar    62.8    279     3   100   \n",
       "1  Trời quang     19°C   23%  11.2 km/h  1013 mbar    75.1    277    10  79.2   \n",
       "2   Nhiều mây     -1°C   45%     7 km/h  1032 mbar     109  477.5  56.5    31   \n",
       "3    Sương mù     19°C   45%   5.5 km/h  1014 mbar      87    NaN   NaN   NaN   \n",
       "4  Trời quang     21°C   32%  10.6 km/h  1012 mbar   52.2*    NaN   NaN   NaN   \n",
       "\n",
       "   SO2                                  target     CO   \n",
       "0  28.8                        Không lành mạnh     NaN  \n",
       "1   9.6                        Không lành mạnh  1720.0  \n",
       "2   8.5                              Nguy hiểm   450.0  \n",
       "3   NaN                        Không lành mạnh     NaN  \n",
       "4   NaN  Không lành mạnh cho các nhóm nhạy cảm     NaN  "
      ]
     },
     "execution_count": 2,
     "metadata": {},
     "output_type": "execute_result"
    }
   ],
   "source": [
    "from os import walk\n",
    "filenames = next(walk('./data/data'), (None, None, []))[2]  # [] if no file\n",
    "\n",
    "# Nếu muốn train trên bộ dữ liệu là ngày hôm nay today()\n",
    "# filename = filenames[-1]\n",
    "# df = pd.read_csv(f'./data/data/{filename}')\n",
    "\n",
    "# Nếu muốn test trên bộ dữ liệu là các ngày mà ta thu thập...\n",
    "cnt = 0\n",
    "for filename in filenames:    \n",
    "    if cnt == 0:\n",
    "        df = pd.read_csv(f'./data/data/{filename}')\n",
    "    else:\n",
    "        df = pd.concat([df, pd.read_csv(f'./data/data/{filename}')])\n",
    "    cnt += 1\n",
    "df.head()"
   ]
  },
  {
   "cell_type": "code",
   "execution_count": 3,
   "metadata": {},
   "outputs": [
    {
     "data": {
      "text/plain": [
       "Tốt                                      1246\n",
       "Trung bình                                423\n",
       "Không lành mạnh                           174\n",
       "Không lành mạnh cho các nhóm nhạy cảm     131\n",
       "Rất không lành mạnh                        25\n",
       "Nguy hiểm                                  20\n",
       "Name: target, dtype: int64"
      ]
     },
     "execution_count": 3,
     "metadata": {},
     "output_type": "execute_result"
    }
   ],
   "source": [
    "df['target'].value_counts()"
   ]
  },
  {
   "cell_type": "markdown",
   "metadata": {},
   "source": [
    "Quy các kiểu dữ liệu `string` về thành `int` để có thể tính mean"
   ]
  },
  {
   "cell_type": "code",
   "execution_count": 4,
   "metadata": {},
   "outputs": [
    {
     "data": {
      "text/html": [
       "<div>\n",
       "<style scoped>\n",
       "    .dataframe tbody tr th:only-of-type {\n",
       "        vertical-align: middle;\n",
       "    }\n",
       "\n",
       "    .dataframe tbody tr th {\n",
       "        vertical-align: top;\n",
       "    }\n",
       "\n",
       "    .dataframe thead th {\n",
       "        text-align: right;\n",
       "    }\n",
       "</style>\n",
       "<table border=\"1\" class=\"dataframe\">\n",
       "  <thead>\n",
       "    <tr style=\"text-align: right;\">\n",
       "      <th></th>\n",
       "      <th>Thời tiết</th>\n",
       "      <th>Nhiệt độ</th>\n",
       "      <th>Độ ẩm</th>\n",
       "      <th>Gió</th>\n",
       "      <th>Áp suất</th>\n",
       "      <th>PM2.5</th>\n",
       "      <th>PM10</th>\n",
       "      <th>O3</th>\n",
       "      <th>NO2</th>\n",
       "      <th>SO2</th>\n",
       "      <th>target</th>\n",
       "      <th>CO</th>\n",
       "    </tr>\n",
       "  </thead>\n",
       "  <tbody>\n",
       "    <tr>\n",
       "      <th>0</th>\n",
       "      <td>1</td>\n",
       "      <td>18°C</td>\n",
       "      <td>29%</td>\n",
       "      <td>10.1 km/h</td>\n",
       "      <td>1014 mbar</td>\n",
       "      <td>62.8</td>\n",
       "      <td>279</td>\n",
       "      <td>3</td>\n",
       "      <td>100</td>\n",
       "      <td>28.8</td>\n",
       "      <td>2</td>\n",
       "      <td>NaN</td>\n",
       "    </tr>\n",
       "    <tr>\n",
       "      <th>1</th>\n",
       "      <td>1</td>\n",
       "      <td>19°C</td>\n",
       "      <td>23%</td>\n",
       "      <td>11.2 km/h</td>\n",
       "      <td>1013 mbar</td>\n",
       "      <td>75.1</td>\n",
       "      <td>277</td>\n",
       "      <td>10</td>\n",
       "      <td>79.2</td>\n",
       "      <td>9.6</td>\n",
       "      <td>2</td>\n",
       "      <td>1720.0</td>\n",
       "    </tr>\n",
       "    <tr>\n",
       "      <th>2</th>\n",
       "      <td>0</td>\n",
       "      <td>-1°C</td>\n",
       "      <td>45%</td>\n",
       "      <td>7 km/h</td>\n",
       "      <td>1032 mbar</td>\n",
       "      <td>109</td>\n",
       "      <td>477.5</td>\n",
       "      <td>56.5</td>\n",
       "      <td>31</td>\n",
       "      <td>8.5</td>\n",
       "      <td>5</td>\n",
       "      <td>450.0</td>\n",
       "    </tr>\n",
       "    <tr>\n",
       "      <th>3</th>\n",
       "      <td>4</td>\n",
       "      <td>19°C</td>\n",
       "      <td>45%</td>\n",
       "      <td>5.5 km/h</td>\n",
       "      <td>1014 mbar</td>\n",
       "      <td>87</td>\n",
       "      <td>NaN</td>\n",
       "      <td>NaN</td>\n",
       "      <td>NaN</td>\n",
       "      <td>NaN</td>\n",
       "      <td>2</td>\n",
       "      <td>NaN</td>\n",
       "    </tr>\n",
       "    <tr>\n",
       "      <th>4</th>\n",
       "      <td>1</td>\n",
       "      <td>21°C</td>\n",
       "      <td>32%</td>\n",
       "      <td>10.6 km/h</td>\n",
       "      <td>1012 mbar</td>\n",
       "      <td>52.2*</td>\n",
       "      <td>NaN</td>\n",
       "      <td>NaN</td>\n",
       "      <td>NaN</td>\n",
       "      <td>NaN</td>\n",
       "      <td>3</td>\n",
       "      <td>NaN</td>\n",
       "    </tr>\n",
       "  </tbody>\n",
       "</table>\n",
       "</div>"
      ],
      "text/plain": [
       "   Thời tiết Nhiệt độ Độ ẩm        Gió    Áp suất  PM2.5   PM10    O3   NO2   \\\n",
       "0          1     18°C   29%  10.1 km/h  1014 mbar    62.8    279     3   100   \n",
       "1          1     19°C   23%  11.2 km/h  1013 mbar    75.1    277    10  79.2   \n",
       "2          0     -1°C   45%     7 km/h  1032 mbar     109  477.5  56.5    31   \n",
       "3          4     19°C   45%   5.5 km/h  1014 mbar      87    NaN   NaN   NaN   \n",
       "4          1     21°C   32%  10.6 km/h  1012 mbar   52.2*    NaN   NaN   NaN   \n",
       "\n",
       "   SO2   target     CO   \n",
       "0  28.8       2     NaN  \n",
       "1   9.6       2  1720.0  \n",
       "2   8.5       5   450.0  \n",
       "3   NaN       2     NaN  \n",
       "4   NaN       3     NaN  "
      ]
     },
     "execution_count": 4,
     "metadata": {},
     "output_type": "execute_result"
    }
   ],
   "source": [
    "weather = ['Nhiều mây', 'Trời quang', 'Mưa', 'Mây rải rác', 'Sương mù', 'Ít mây', 'Tuyết', 'Mưa rào', 'Giông bão']\n",
    "target = ['Tốt', 'Trung bình', 'Không lành mạnh', 'Không lành mạnh cho các nhóm nhạy cảm', \n",
    "          'Rất không lành mạnh', 'Nguy hiểm']\n",
    "df = df.replace(weather, np.arange(len(weather)))\n",
    "df = df.replace(target, np.arange(len(target)))\n",
    "df.head()"
   ]
  },
  {
   "cell_type": "markdown",
   "metadata": {},
   "source": [
    "Format lại các thông tin trong dữ liệu"
   ]
  },
  {
   "cell_type": "code",
   "execution_count": 5,
   "metadata": {},
   "outputs": [],
   "source": [
    "with warnings.catch_warnings():\n",
    "    warnings.simplefilter(\"ignore\")\n",
    "    df['Nhiệt độ'] = df['Nhiệt độ'].str.replace('°C', '')\n",
    "    df['Độ ẩm'] = df['Độ ẩm'].str.replace('%', '')\n",
    "    df['Gió'] = df['Gió'].str.replace(' km/h', '')\n",
    "    df['Áp suất'] = df['Áp suất'].str.replace(' mbar', '')\n",
    "    df[' PM2.5 '] = df[' PM2.5 '].str.replace('*', '')\n",
    "    df[' PM10 '] = df[' PM10 '].str.replace('*', '')\n",
    "    df[' O3 '] = df[' O3 '].str.replace('*', '')\n",
    "    df[' NO2 '] = df[' NO2 '].str.replace('*', '')\n",
    "    df[' SO2 '] = df[' SO2 '].str.replace('*', '')"
   ]
  },
  {
   "cell_type": "code",
   "execution_count": 6,
   "metadata": {},
   "outputs": [
    {
     "data": {
      "text/html": [
       "<div>\n",
       "<style scoped>\n",
       "    .dataframe tbody tr th:only-of-type {\n",
       "        vertical-align: middle;\n",
       "    }\n",
       "\n",
       "    .dataframe tbody tr th {\n",
       "        vertical-align: top;\n",
       "    }\n",
       "\n",
       "    .dataframe thead th {\n",
       "        text-align: right;\n",
       "    }\n",
       "</style>\n",
       "<table border=\"1\" class=\"dataframe\">\n",
       "  <thead>\n",
       "    <tr style=\"text-align: right;\">\n",
       "      <th></th>\n",
       "      <th>Thời tiết</th>\n",
       "      <th>Nhiệt độ</th>\n",
       "      <th>Độ ẩm</th>\n",
       "      <th>Gió</th>\n",
       "      <th>Áp suất</th>\n",
       "      <th>PM2.5</th>\n",
       "      <th>PM10</th>\n",
       "      <th>O3</th>\n",
       "      <th>NO2</th>\n",
       "      <th>SO2</th>\n",
       "      <th>target</th>\n",
       "      <th>CO</th>\n",
       "    </tr>\n",
       "  </thead>\n",
       "  <tbody>\n",
       "    <tr>\n",
       "      <th>0</th>\n",
       "      <td>1.0</td>\n",
       "      <td>18.0</td>\n",
       "      <td>29.0</td>\n",
       "      <td>10.1</td>\n",
       "      <td>1014.0</td>\n",
       "      <td>62.8</td>\n",
       "      <td>279.0</td>\n",
       "      <td>3.0</td>\n",
       "      <td>100.0</td>\n",
       "      <td>28.8</td>\n",
       "      <td>2.0</td>\n",
       "      <td>NaN</td>\n",
       "    </tr>\n",
       "    <tr>\n",
       "      <th>1</th>\n",
       "      <td>1.0</td>\n",
       "      <td>19.0</td>\n",
       "      <td>23.0</td>\n",
       "      <td>11.2</td>\n",
       "      <td>1013.0</td>\n",
       "      <td>75.1</td>\n",
       "      <td>277.0</td>\n",
       "      <td>10.0</td>\n",
       "      <td>79.2</td>\n",
       "      <td>9.6</td>\n",
       "      <td>2.0</td>\n",
       "      <td>1720.0</td>\n",
       "    </tr>\n",
       "    <tr>\n",
       "      <th>2</th>\n",
       "      <td>0.0</td>\n",
       "      <td>-1.0</td>\n",
       "      <td>45.0</td>\n",
       "      <td>7.0</td>\n",
       "      <td>1032.0</td>\n",
       "      <td>109.0</td>\n",
       "      <td>477.5</td>\n",
       "      <td>56.5</td>\n",
       "      <td>31.0</td>\n",
       "      <td>8.5</td>\n",
       "      <td>5.0</td>\n",
       "      <td>450.0</td>\n",
       "    </tr>\n",
       "    <tr>\n",
       "      <th>3</th>\n",
       "      <td>4.0</td>\n",
       "      <td>19.0</td>\n",
       "      <td>45.0</td>\n",
       "      <td>5.5</td>\n",
       "      <td>1014.0</td>\n",
       "      <td>87.0</td>\n",
       "      <td>NaN</td>\n",
       "      <td>NaN</td>\n",
       "      <td>NaN</td>\n",
       "      <td>NaN</td>\n",
       "      <td>2.0</td>\n",
       "      <td>NaN</td>\n",
       "    </tr>\n",
       "    <tr>\n",
       "      <th>4</th>\n",
       "      <td>1.0</td>\n",
       "      <td>21.0</td>\n",
       "      <td>32.0</td>\n",
       "      <td>10.6</td>\n",
       "      <td>1012.0</td>\n",
       "      <td>52.2</td>\n",
       "      <td>NaN</td>\n",
       "      <td>NaN</td>\n",
       "      <td>NaN</td>\n",
       "      <td>NaN</td>\n",
       "      <td>3.0</td>\n",
       "      <td>NaN</td>\n",
       "    </tr>\n",
       "  </tbody>\n",
       "</table>\n",
       "</div>"
      ],
      "text/plain": [
       "   Thời tiết  Nhiệt độ  Độ ẩm   Gió  Áp suất   PM2.5    PM10    O3    NO2   \\\n",
       "0        1.0      18.0   29.0  10.1   1014.0     62.8   279.0   3.0  100.0   \n",
       "1        1.0      19.0   23.0  11.2   1013.0     75.1   277.0  10.0   79.2   \n",
       "2        0.0      -1.0   45.0   7.0   1032.0    109.0   477.5  56.5   31.0   \n",
       "3        4.0      19.0   45.0   5.5   1014.0     87.0     NaN   NaN    NaN   \n",
       "4        1.0      21.0   32.0  10.6   1012.0     52.2     NaN   NaN    NaN   \n",
       "\n",
       "    SO2   target     CO   \n",
       "0   28.8     2.0     NaN  \n",
       "1    9.6     2.0  1720.0  \n",
       "2    8.5     5.0   450.0  \n",
       "3    NaN     2.0     NaN  \n",
       "4    NaN     3.0     NaN  "
      ]
     },
     "execution_count": 6,
     "metadata": {},
     "output_type": "execute_result"
    }
   ],
   "source": [
    "df = df.astype(np.float64)\n",
    "df.head()"
   ]
  },
  {
   "cell_type": "markdown",
   "metadata": {},
   "source": [
    "Như đã thấy thì dữ liệu của mô hình có các giá trị NaN. Ta không thể drop các giá trị đó hoặc thay bằng 0, có nhiều cách để thay thế giá trị NaN, tuy nhiên ở đây chúng ta sẽ thay các giá trị NaN bằng mean."
   ]
  },
  {
   "cell_type": "code",
   "execution_count": 7,
   "metadata": {},
   "outputs": [],
   "source": [
    "X = df.iloc[:, :-1]\n",
    "Y = df['target']\n",
    "\n",
    "imputer = SimpleImputer(missing_values = np.nan, strategy = 'mean')\n",
    "imputer = imputer.fit(X)\n",
    "X = imputer.transform(X)"
   ]
  },
  {
   "cell_type": "markdown",
   "metadata": {},
   "source": [
    "## MÔ HÌNH 1: **KMEANS**\n",
    "- X sẽ là các cột dữ liệu thông tin về thời tiết và không khí.\n",
    "- Y sẽ là các kết quả thực tế đo được."
   ]
  },
  {
   "cell_type": "code",
   "execution_count": 8,
   "metadata": {},
   "outputs": [],
   "source": [
    "# Models Kmeans\n",
    "from sklearn.cluster import KMeans\n",
    "from sklearn import datasets\n",
    "from scipy.spatial.distance import cdist"
   ]
  },
  {
   "cell_type": "markdown",
   "metadata": {},
   "source": [
    "### Dùng **Kmeans** để gom nhóm các giá trị input và dự đoán xem sẽ có bao nhiêu nhóm dựa vào **Elbow method**."
   ]
  },
  {
   "cell_type": "code",
   "execution_count": 9,
   "metadata": {},
   "outputs": [],
   "source": [
    "y_kmeans = []\n",
    "ineria = []\n",
    "\n",
    "with warnings.catch_warnings():\n",
    "    warnings.simplefilter(\"ignore\")\n",
    "    for i in range(2, 10):\n",
    "        kmeans = KMeans(n_clusters = i, random_state = 0).fit(X)\n",
    "        y_kmeans.append(kmeans.labels_)\n",
    "        ineria.append(kmeans.inertia_)"
   ]
  },
  {
   "cell_type": "markdown",
   "metadata": {},
   "source": [
    "Việc kiểm tra bằng mắt đôi khi không khả thi (giả sử khi số lượng mẫu thử và sai quá lớn). Do đó, cần một độ đo để kiểm tra chất lượng gom cụm. Tiếp theo, các bạn sẽ tìm hiểu và trình bày ngắn gọn về **Elbow method**. Sau đó, bạn sẽ trực quan hóa kết quả sử dụng **Elbow method** để chọn được số cụm thích hợp.\n",
    "\n",
    "Tìm hiểu và trình bày về **Elbow method**\n",
    "- Trong phương pháp gom nhóm, thì Elbow method là một heuristic được xác định số lượng cụm trong một tập dữ liệu.\n",
    "- Phương pháp bao gồm vẽ đồ thị biến thể được giải thích dưới dạng một hàm của số lượng cụm và chọn các khớp của đường cong là số lượng trục.\n",
    "- Điểm khuỷ tay là điểm mà ở đó tốc độ suy giảm của hàm biến dạng sẽ thay đổi nhiều nhất. Tức là kể từ sau vị trí này thì gia tăng thêm số lượng cụm cũng không giúp hàm biến dạng giảm đáng kể. Nếu thuật toán phân chia theo số lượng cụm tại vị trí này sẽ đạt được tính chất phân cụm một cách tổng quát nhất mà không gặp các hiện tượng vị khớp (overfitting)"
   ]
  },
  {
   "cell_type": "code",
   "execution_count": 10,
   "metadata": {},
   "outputs": [
    {
     "data": {
      "image/png": "[encoded data removed]",
      "text/plain": [
       "<Figure size 640x480 with 1 Axes>"
      ]
     },
     "metadata": {},
     "output_type": "display_data"
    }
   ],
   "source": [
    "plt.plot(np.arange(2, 10), ineria, 'b-')\n",
    "plt.xlabel('clusters')\n",
    "plt.title('elbow visualization')\n",
    "plt.show()"
   ]
  },
  {
   "cell_type": "markdown",
   "metadata": {},
   "source": [
    "**Kết luận:** Số cụm phù hợp là 4 hoặc 5 *(tùy dữ liệu)*"
   ]
  },
  {
   "cell_type": "markdown",
   "metadata": {},
   "source": [
    "**ĐÁNH GIÁ MÔ HÌNH**"
   ]
  },
  {
   "cell_type": "markdown",
   "metadata": {},
   "source": [
    "## MÔ HÌNH 2: **LOGISTIC REGRESSION**\n",
    "- X sẽ là các cột dữ liệu thông tin về thời tiết và không khí.\n",
    "- Y sẽ là các kết quả thực tế đo được."
   ]
  },
  {
   "cell_type": "code",
   "execution_count": 11,
   "metadata": {},
   "outputs": [],
   "source": [
    "# Models Logitis Regression\n",
    "from sklearn import linear_model\n",
    "from sklearn.linear_model import LogisticRegression\n",
    "from sklearn.metrics import confusion_matrix\n",
    "from sklearn.model_selection import train_test_split"
   ]
  },
  {
   "cell_type": "markdown",
   "metadata": {},
   "source": [
    "Từ dữ liệu ta sẽ tạo ra tập train và tập test"
   ]
  },
  {
   "cell_type": "code",
   "execution_count": 12,
   "metadata": {},
   "outputs": [],
   "source": [
    "X_train, X_test, y_train, y_test = train_test_split(X, Y, test_size = 0.3)"
   ]
  },
  {
   "cell_type": "markdown",
   "metadata": {},
   "source": [
    "Sau đó fix dữ liệu train với model"
   ]
  },
  {
   "cell_type": "code",
   "execution_count": 13,
   "metadata": {},
   "outputs": [
    {
     "name": "stderr",
     "output_type": "stream",
     "text": [
      "/home/lawliet/anaconda3/envs/min_ds-env/lib/python3.8/site-packages/sklearn/linear_model/_logistic.py:763: ConvergenceWarning: lbfgs failed to converge (status=1):\n",
      "STOP: TOTAL NO. of ITERATIONS REACHED LIMIT.\n",
      "\n",
      "Increase the number of iterations (max_iter) or scale the data as shown in:\n",
      "    https://scikit-learn.org/stable/modules/preprocessing.html\n",
      "Please also refer to the documentation for alternative solver options:\n",
      "    https://scikit-learn.org/stable/modules/linear_model.html#logistic-regression\n",
      "  n_iter_i = _check_optimize_result(\n"
     ]
    },
    {
     "data": {
      "text/plain": [
       "LogisticRegression(max_iter=120)"
      ]
     },
     "execution_count": 13,
     "metadata": {},
     "output_type": "execute_result"
    }
   ],
   "source": [
    "mymodel = linear_model.LogisticRegression(max_iter = 120)\n",
    "mymodel.fit(X_train,y_train)"
   ]
  },
  {
   "cell_type": "markdown",
   "metadata": {},
   "source": [
    "Tập dự đoán "
   ]
  },
  {
   "cell_type": "code",
   "execution_count": 14,
   "metadata": {},
   "outputs": [
    {
     "data": {
      "text/plain": [
       "array([3., 1., 3., 0., 1., 2., 0., 0., 0., 0., 2., 1., 2., 0., 2., 0., 1.,\n",
       "       1., 0., 1., 0., 0., 0., 0., 3., 0., 1., 0., 1., 2., 3., 0., 2., 0.,\n",
       "       0., 1., 0., 1., 0., 0., 2., 0., 0., 0., 1., 1., 0., 0., 0., 0., 2.,\n",
       "       2., 0., 0., 0., 1., 1., 1., 0., 0., 1., 1., 0., 0., 0., 0., 0., 1.,\n",
       "       1., 1., 1., 5., 0., 0., 2., 1., 3., 0., 0., 2., 3., 0., 0., 0., 0.,\n",
       "       0., 0., 0., 0., 0., 1., 0., 1., 1., 0., 0., 0., 0., 0., 3., 1., 1.,\n",
       "       0., 0., 2., 0., 1., 0., 1., 0., 0., 0., 0., 0., 0., 0., 3., 3., 0.,\n",
       "       2., 0., 0., 1., 2., 0., 0., 1., 0., 0., 3., 0., 0., 0., 0., 0., 2.,\n",
       "       3., 1., 0., 0., 0., 0., 1., 0., 1., 0., 0., 0., 1., 0., 0., 0., 0.,\n",
       "       1., 0., 0., 3., 2., 0., 1., 2., 0., 0., 0., 2., 0., 0., 0., 1., 0.,\n",
       "       1., 0., 1., 1., 0., 0., 0., 0., 1., 0., 0., 0., 1., 1., 0., 0., 1.,\n",
       "       1., 0., 0., 0., 0., 0., 0., 0., 2., 0., 0., 0., 0., 0., 0., 0., 1.,\n",
       "       1., 0., 0., 1., 1., 3., 1., 0., 1., 0., 0., 0., 0., 2., 3., 0., 1.,\n",
       "       0., 0., 0., 0., 0., 2., 3., 0., 0., 1., 0., 0., 0., 0., 2., 0., 0.,\n",
       "       4., 0., 0., 0., 5., 1., 0., 0., 0., 2., 2., 0., 1., 0., 0., 1., 0.,\n",
       "       0., 5., 0., 1., 3., 3., 1., 2., 0., 0., 0., 2., 1., 0., 0., 0., 0.,\n",
       "       0., 0., 0., 0., 0., 0., 0., 1., 0., 0., 0., 1., 0., 1., 3., 2., 0.,\n",
       "       0., 0., 1., 5., 3., 0., 0., 0., 0., 1., 0., 0., 1., 0., 0., 0., 3.,\n",
       "       3., 1., 4., 0., 0., 0., 1., 0., 0., 0., 0., 0., 0., 0., 1., 0., 0.,\n",
       "       0., 0., 0., 0., 0., 0., 0., 1., 0., 0., 1., 0., 0., 2., 1., 2., 0.,\n",
       "       0., 2., 0., 0., 3., 0., 0., 0., 1., 0., 0., 0., 0., 2., 2., 0., 1.,\n",
       "       0., 0., 2., 3., 0., 3., 2., 0., 0., 0., 1., 2., 3., 0., 1., 0., 5.,\n",
       "       0., 0., 0., 3., 1., 1., 0., 1., 0., 1., 2., 0., 1., 0., 0., 0., 4.,\n",
       "       0., 3., 0., 1., 0., 0., 0., 0., 0., 0., 1., 1., 0., 0., 0., 2., 1.,\n",
       "       2., 1., 0., 0., 2., 0., 2., 1., 2., 1., 0., 0., 0., 0., 2., 0., 2.,\n",
       "       0., 3., 0., 0., 1., 0., 1., 0., 1., 0., 0., 3., 1., 0., 1., 1., 1.,\n",
       "       3., 0., 0., 0., 0., 0., 1., 0., 0., 1., 0., 0., 0., 0., 3., 1., 0.,\n",
       "       0., 0., 1., 0., 4., 0., 0., 0., 0., 3., 0., 0., 0., 0., 0., 1., 2.,\n",
       "       2., 0., 0., 0., 0., 0., 0., 0., 0., 0., 0., 0., 2., 2., 1., 0., 1.,\n",
       "       1., 0., 0., 0., 3., 0., 0., 0., 0., 0., 0., 0., 1., 0., 2., 2., 0.,\n",
       "       2., 3., 0., 0., 0., 0., 2., 0., 1., 0., 1., 0., 0., 1., 2., 4., 0.,\n",
       "       0., 0., 1., 0., 0., 0., 3., 0., 0., 2., 0., 1., 0., 0., 0., 0., 0.,\n",
       "       3., 0., 0., 0., 0., 1., 0., 3., 0., 1., 1., 3., 1., 0., 0., 1., 2.,\n",
       "       3., 0., 0., 0., 0., 1., 0., 0., 0., 0., 0., 1., 0., 2., 0., 3., 1.,\n",
       "       0., 0., 0., 0., 0., 1., 0., 0., 0., 0., 5., 0., 2., 0., 0., 0., 4.,\n",
       "       1., 1., 0., 0., 0., 0., 0., 1., 0., 0., 0.])"
      ]
     },
     "execution_count": 14,
     "metadata": {},
     "output_type": "execute_result"
    }
   ],
   "source": [
    "predicted_output = mymodel.predict(X_test)\n",
    "predicted_output"
   ]
  },
  {
   "cell_type": "markdown",
   "metadata": {},
   "source": [
    "**ĐÁNH GIÁ MÔ HÌNH**"
   ]
  },
  {
   "cell_type": "markdown",
   "metadata": {},
   "source": [
    "*1/ Confusion_matrix* (ma trận kiểm chứng tính đúng sai giữa true label và predicted label)"
   ]
  },
  {
   "cell_type": "code",
   "execution_count": 15,
   "metadata": {},
   "outputs": [
    {
     "name": "stdout",
     "output_type": "stream",
     "text": [
      "[[364   4   0   0   0   0]\n",
      " [ 13 110   0   7   0   0]\n",
      " [  0   0  48   4   4   0]\n",
      " [  0   7   4  29   0   0]\n",
      " [  0   0   4   0   1   2]\n",
      " [  0   0   0   0   1   4]]\n"
     ]
    }
   ],
   "source": [
    "test = confusion_matrix(y_test, predicted_output)\n",
    "print(test)"
   ]
  },
  {
   "cell_type": "markdown",
   "metadata": {},
   "source": [
    "Heatmap được sử dụng để trực quan hóa confusion_matrix"
   ]
  },
  {
   "cell_type": "code",
   "execution_count": 16,
   "metadata": {},
   "outputs": [
    {
     "data": {
      "image/png": "[encoded data removed]",
      "text/plain": [
       "<Figure size 500x400 with 2 Axes>"
      ]
     },
     "metadata": {},
     "output_type": "display_data"
    }
   ],
   "source": [
    "plt.figure(figsize = (5,4))\n",
    "sns.heatmap(test, annot = True, cmap = 'Greens')\n",
    "plt.xlabel('Predicted Value')\n",
    "plt.ylabel('Truth or Actual Value')\n",
    "plt.show()"
   ]
  },
  {
   "cell_type": "markdown",
   "metadata": {},
   "source": [
    "*2/ Các thông số đánh giá:* Accuracy, Precision, Recall"
   ]
  },
  {
   "cell_type": "code",
   "execution_count": 19,
   "metadata": {},
   "outputs": [
    {
     "data": {
      "text/plain": [
       "0.9174917491749175"
      ]
     },
     "execution_count": 19,
     "metadata": {},
     "output_type": "execute_result"
    }
   ],
   "source": [
    "#Accuracy\n",
    "mymodel.score(X_test, y_test)"
   ]
  },
  {
   "cell_type": "markdown",
   "metadata": {},
   "source": [
    "Với confusion matrix ở trên do ở đây ta thực hiên phân lớp tới 6 loại label khác nhau, nên việc tính toán các giá trị TP FP TN FN có vẻ khá tốn thời gian nên chúng ta sẽ sử dụng hàm classification_report để tính toán ra được giá trị precision, recall tương ứng với từng label"
   ]
  },
  {
   "cell_type": "code",
   "execution_count": 18,
   "metadata": {},
   "outputs": [
    {
     "name": "stdout",
     "output_type": "stream",
     "text": [
      "              precision    recall  f1-score   support\n",
      "\n",
      "         0.0       0.97      0.99      0.98       368\n",
      "         1.0       0.91      0.85      0.88       130\n",
      "         2.0       0.86      0.86      0.86        56\n",
      "         3.0       0.72      0.72      0.73        40\n",
      "         4.0       0.17      0.14      0.15         7\n",
      "         5.0       0.67      0.80      0.73         5\n",
      "\n",
      "    accuracy                           0.92       606\n",
      "   macro avg       0.72      0.73      0.72       606\n",
      "weighted avg       0.92      0.92      0.92       606\n",
      "\n"
     ]
    }
   ],
   "source": [
    "#Precision Recall\n",
    "from sklearn import metrics\n",
    "print(metrics.classification_report(y_test, predicted_output)) "
   ]
  },
  {
   "cell_type": "markdown",
   "metadata": {},
   "source": [
    "**NHẬN XÉT:**\\\n",
    "Với mô hình được sử dụng ở trên có vẻ accuracy mang lại có vẻ khá cao và chính xác, nhưng không thuộc vào trường hợp overfitting"
   ]
  },
  {
   "cell_type": "markdown",
   "metadata": {},
   "source": [
    "# SO SÁNH 2 MÔ HÌNH"
   ]
  }
 ],
 "metadata": {
  "kernelspec": {
   "display_name": "Python 3 (ipykernel)",
   "language": "python",
   "name": "python3"
  },
  "language_info": {
   "codemirror_mode": {
    "name": "ipython",
    "version": 3
   },
   "file_extension": ".py",
   "mimetype": "text/x-python",
   "name": "python",
   "nbconvert_exporter": "python",
   "pygments_lexer": "ipython3",
   "version": "3.8.13"
  },
  "vscode": {
   "interpreter": {
    "hash": "65a440aeac0c89e2af7569e0aa53b64434c4b69eb6285e2b0d174d9bca190d54"
   }
  }
 },
 "nbformat": 4,
 "nbformat_minor": 2
}
