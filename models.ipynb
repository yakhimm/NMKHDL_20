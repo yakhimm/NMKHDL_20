{
 "cells": [
  {
   "attachments": {},
   "cell_type": "markdown",
   "metadata": {},
   "source": [
    "# MÔ HÌNH HÓA DỮ LIỆU\n",
    "- **VỀ DỮ LIỆU:** Dữ liệu được thu thập thêm từ thông tin chi tiết của các địa điểm của một quốc gia. Có các cột là giá trị các thông tin chi tiết đó. Và có một cột target chính là kết quả mà ta sẽ suy ra từ bộ dữ liệu input. Dữ liệu có thể được cập nhật theo ngày tháng, do đó dữ liệu sẽ gần như vô hạn. Tuy nhiên, ta chỉ dùng một ngày cố định, thường sẽ dùng today().\n",
    "- **VỀ MÔ HÌNH:** Ta sẽ chọn 2 mô hình:\n",
    "  - Mô hình gom nhóm Random Forest.\n",
    "  - Mô hình hồi quy tuyến tính Logitis Regression."
   ]
  },
  {
   "cell_type": "code",
<<<<<<< HEAD
   "execution_count": 46,
=======
   "execution_count": 1,
>>>>>>> 56b924b9eef64f23282d36a3febab8deae55b76a
   "metadata": {},
   "outputs": [],
   "source": [
    "import pandas as pd\n",
    "import numpy as np\n",
    "import warnings\n",
    "import matplotlib.pyplot as plt\n",
    "import seaborn as sns\n",
    "\n",
    "# Các thư viện hỗ trợ thêm\n",
    "from sklearn.impute import SimpleImputer\n",
    "from sklearn.model_selection import train_test_split\n",
    "from sklearn import metrics\n",
    "from sklearn.metrics import confusion_matrix"
   ]
  },
  {
   "attachments": {},
   "cell_type": "markdown",
   "metadata": {},
   "source": [
    "Đọc file input dữ liệu:\n",
    "\n",
    "- Ta có thể lấy dữ liệu gần nhất, dữ liệu today()\n",
    "- Ta có thể lấy dữ liệu các ngày đã thu thập."
   ]
  },
  {
   "cell_type": "code",
<<<<<<< HEAD
   "execution_count": 47,
=======
   "execution_count": 2,
>>>>>>> 56b924b9eef64f23282d36a3febab8deae55b76a
   "metadata": {},
   "outputs": [
    {
     "data": {
      "text/html": [
       "<div>\n",
       "<style scoped>\n",
       "    .dataframe tbody tr th:only-of-type {\n",
       "        vertical-align: middle;\n",
       "    }\n",
       "\n",
       "    .dataframe tbody tr th {\n",
       "        vertical-align: top;\n",
       "    }\n",
       "\n",
       "    .dataframe thead th {\n",
       "        text-align: right;\n",
       "    }\n",
       "</style>\n",
       "<table border=\"1\" class=\"dataframe\">\n",
       "  <thead>\n",
       "    <tr style=\"text-align: right;\">\n",
       "      <th></th>\n",
       "      <th>Thời tiết</th>\n",
       "      <th>Nhiệt độ</th>\n",
       "      <th>Độ ẩm</th>\n",
       "      <th>Gió</th>\n",
       "      <th>Áp suất</th>\n",
       "      <th>PM2.5</th>\n",
       "      <th>PM10</th>\n",
       "      <th>O3</th>\n",
       "      <th>NO2</th>\n",
       "      <th>SO2</th>\n",
       "      <th>CO</th>\n",
       "      <th>target</th>\n",
       "    </tr>\n",
       "  </thead>\n",
       "  <tbody>\n",
       "    <tr>\n",
       "      <th>0</th>\n",
       "      <td>Trời quang</td>\n",
       "      <td>11°C</td>\n",
       "      <td>52%</td>\n",
       "      <td>8.8 km/h</td>\n",
       "      <td>1017 mbar</td>\n",
       "      <td>61.3</td>\n",
       "      <td>185.3</td>\n",
       "      <td>2</td>\n",
       "      <td>52.2</td>\n",
       "      <td>10.4</td>\n",
       "      <td>1160.0</td>\n",
       "      <td>Không lành mạnh</td>\n",
       "    </tr>\n",
       "    <tr>\n",
       "      <th>1</th>\n",
       "      <td>Trời quang</td>\n",
       "      <td>12°C</td>\n",
       "      <td>44%</td>\n",
       "      <td>9.4 km/h</td>\n",
       "      <td>1016 mbar</td>\n",
       "      <td>139.2</td>\n",
       "      <td>245.5</td>\n",
       "      <td>4.5</td>\n",
       "      <td>44.6</td>\n",
       "      <td>8.8</td>\n",
       "      <td>1150.0</td>\n",
       "      <td>Không lành mạnh</td>\n",
       "    </tr>\n",
       "    <tr>\n",
       "      <th>2</th>\n",
       "      <td>Nhiều mây</td>\n",
       "      <td>-4°C</td>\n",
       "      <td>45%</td>\n",
       "      <td>5 km/h</td>\n",
       "      <td>1036 mbar</td>\n",
       "      <td>157</td>\n",
       "      <td>416.5</td>\n",
       "      <td>9</td>\n",
       "      <td>59</td>\n",
       "      <td>27.5</td>\n",
       "      <td>NaN</td>\n",
       "      <td>Rất không lành mạnh</td>\n",
       "    </tr>\n",
       "    <tr>\n",
       "      <th>3</th>\n",
       "      <td>Sương mù</td>\n",
       "      <td>12°C</td>\n",
       "      <td>87%</td>\n",
       "      <td>7.4 km/h</td>\n",
       "      <td>1016 mbar</td>\n",
       "      <td>123.9</td>\n",
       "      <td>222.3</td>\n",
       "      <td>23</td>\n",
       "      <td>54.8</td>\n",
       "      <td>NaN</td>\n",
       "      <td>NaN</td>\n",
       "      <td>Không lành mạnh</td>\n",
       "    </tr>\n",
       "    <tr>\n",
       "      <th>4</th>\n",
       "      <td>Trời quang</td>\n",
       "      <td>12°C</td>\n",
       "      <td>56%</td>\n",
       "      <td>7.1 km/h</td>\n",
       "      <td>1016 mbar</td>\n",
       "      <td>83.3*</td>\n",
       "      <td>NaN</td>\n",
       "      <td>NaN</td>\n",
       "      <td>NaN</td>\n",
       "      <td>NaN</td>\n",
       "      <td>NaN</td>\n",
       "      <td>Không lành mạnh</td>\n",
       "    </tr>\n",
       "  </tbody>\n",
       "</table>\n",
       "</div>"
      ],
      "text/plain": [
       "    Thời tiết Nhiệt độ Độ ẩm       Gió    Áp suất  PM2.5   PM10   O3   NO2   \\\n",
       "0  Trời quang     11°C   52%  8.8 km/h  1017 mbar    61.3  185.3    2  52.2   \n",
       "1  Trời quang     12°C   44%  9.4 km/h  1016 mbar   139.2  245.5  4.5  44.6   \n",
       "2   Nhiều mây     -4°C   45%    5 km/h  1036 mbar     157  416.5    9    59   \n",
       "3    Sương mù     12°C   87%  7.4 km/h  1016 mbar   123.9  222.3   23  54.8   \n",
       "4  Trời quang     12°C   56%  7.1 km/h  1016 mbar   83.3*    NaN  NaN   NaN   \n",
       "\n",
       "   SO2      CO                target  \n",
       "0  10.4  1160.0      Không lành mạnh  \n",
       "1   8.8  1150.0      Không lành mạnh  \n",
       "2  27.5     NaN  Rất không lành mạnh  \n",
       "3   NaN     NaN      Không lành mạnh  \n",
       "4   NaN     NaN      Không lành mạnh  "
      ]
     },
<<<<<<< HEAD
     "execution_count": 47,
=======
     "execution_count": 2,
>>>>>>> 56b924b9eef64f23282d36a3febab8deae55b76a
     "metadata": {},
     "output_type": "execute_result"
    }
   ],
   "source": [
    "from os import walk\n",
    "filenames = next(walk('./data/data'), (None, None, []))[2]  # [] if no file\n",
    "\n",
    "# Nếu muốn train trên bộ dữ liệu là ngày hôm nay today()\n",
    "# filename = filenames[-1]\n",
    "# df = pd.read_csv(f'./data/data/{filename}')\n",
    "\n",
    "# Nếu muốn test trên bộ dữ liệu là các ngày mà ta thu thập...\n",
    "cnt = 0\n",
    "for filename in filenames:    \n",
    "    if cnt == 0:\n",
    "        df = pd.read_csv(f'./data/data/{filename}')\n",
    "    else:\n",
    "        df = pd.concat([df, pd.read_csv(f'./data/data/{filename}')])\n",
    "    cnt += 1\n",
    "df.head()"
   ]
  },
  {
   "cell_type": "code",
<<<<<<< HEAD
   "execution_count": 48,
=======
   "execution_count": 3,
>>>>>>> 56b924b9eef64f23282d36a3febab8deae55b76a
   "metadata": {},
   "outputs": [
    {
     "data": {
      "text/plain": [
       "Tốt                                      1732\n",
       "Trung bình                                743\n",
       "Không lành mạnh cho các nhóm nhạy cảm     250\n",
       "Không lành mạnh                           238\n",
       "Rất không lành mạnh                        34\n",
       "Nguy hiểm                                  20\n",
       "Name: target, dtype: int64"
      ]
     },
<<<<<<< HEAD
     "execution_count": 48,
=======
     "execution_count": 3,
>>>>>>> 56b924b9eef64f23282d36a3febab8deae55b76a
     "metadata": {},
     "output_type": "execute_result"
    }
   ],
   "source": [
    "df['target'].value_counts()"
   ]
  },
  {
   "attachments": {},
   "cell_type": "markdown",
   "metadata": {},
   "source": [
    "Quy các kiểu dữ liệu `string` về thành `int` để có thể tính mean"
   ]
  },
  {
   "cell_type": "code",
<<<<<<< HEAD
   "execution_count": 49,
=======
   "execution_count": 4,
>>>>>>> 56b924b9eef64f23282d36a3febab8deae55b76a
   "metadata": {},
   "outputs": [
    {
     "data": {
      "text/html": [
       "<div>\n",
       "<style scoped>\n",
       "    .dataframe tbody tr th:only-of-type {\n",
       "        vertical-align: middle;\n",
       "    }\n",
       "\n",
       "    .dataframe tbody tr th {\n",
       "        vertical-align: top;\n",
       "    }\n",
       "\n",
       "    .dataframe thead th {\n",
       "        text-align: right;\n",
       "    }\n",
       "</style>\n",
       "<table border=\"1\" class=\"dataframe\">\n",
       "  <thead>\n",
       "    <tr style=\"text-align: right;\">\n",
       "      <th></th>\n",
       "      <th>Thời tiết</th>\n",
       "      <th>Nhiệt độ</th>\n",
       "      <th>Độ ẩm</th>\n",
       "      <th>Gió</th>\n",
       "      <th>Áp suất</th>\n",
       "      <th>PM2.5</th>\n",
       "      <th>PM10</th>\n",
       "      <th>O3</th>\n",
       "      <th>NO2</th>\n",
       "      <th>SO2</th>\n",
       "      <th>CO</th>\n",
       "      <th>target</th>\n",
       "    </tr>\n",
       "  </thead>\n",
       "  <tbody>\n",
       "    <tr>\n",
       "      <th>0</th>\n",
       "      <td>2</td>\n",
       "      <td>11°C</td>\n",
       "      <td>52%</td>\n",
       "      <td>8.8 km/h</td>\n",
       "      <td>1017 mbar</td>\n",
       "      <td>61.3</td>\n",
       "      <td>185.3</td>\n",
       "      <td>2</td>\n",
       "      <td>52.2</td>\n",
       "      <td>10.4</td>\n",
       "      <td>1160.0</td>\n",
       "      <td>3</td>\n",
       "    </tr>\n",
       "    <tr>\n",
       "      <th>1</th>\n",
       "      <td>2</td>\n",
       "      <td>12°C</td>\n",
       "      <td>44%</td>\n",
       "      <td>9.4 km/h</td>\n",
       "      <td>1016 mbar</td>\n",
       "      <td>139.2</td>\n",
       "      <td>245.5</td>\n",
       "      <td>4.5</td>\n",
       "      <td>44.6</td>\n",
       "      <td>8.8</td>\n",
       "      <td>1150.0</td>\n",
       "      <td>3</td>\n",
       "    </tr>\n",
       "    <tr>\n",
       "      <th>2</th>\n",
       "      <td>1</td>\n",
       "      <td>-4°C</td>\n",
       "      <td>45%</td>\n",
       "      <td>5 km/h</td>\n",
       "      <td>1036 mbar</td>\n",
       "      <td>157</td>\n",
       "      <td>416.5</td>\n",
       "      <td>9</td>\n",
       "      <td>59</td>\n",
       "      <td>27.5</td>\n",
       "      <td>NaN</td>\n",
       "      <td>5</td>\n",
       "    </tr>\n",
       "    <tr>\n",
       "      <th>3</th>\n",
       "      <td>5</td>\n",
       "      <td>12°C</td>\n",
       "      <td>87%</td>\n",
       "      <td>7.4 km/h</td>\n",
       "      <td>1016 mbar</td>\n",
       "      <td>123.9</td>\n",
       "      <td>222.3</td>\n",
       "      <td>23</td>\n",
       "      <td>54.8</td>\n",
       "      <td>NaN</td>\n",
       "      <td>NaN</td>\n",
       "      <td>3</td>\n",
       "    </tr>\n",
       "    <tr>\n",
       "      <th>4</th>\n",
       "      <td>2</td>\n",
       "      <td>12°C</td>\n",
       "      <td>56%</td>\n",
       "      <td>7.1 km/h</td>\n",
       "      <td>1016 mbar</td>\n",
       "      <td>83.3*</td>\n",
       "      <td>NaN</td>\n",
       "      <td>NaN</td>\n",
       "      <td>NaN</td>\n",
       "      <td>NaN</td>\n",
       "      <td>NaN</td>\n",
       "      <td>3</td>\n",
       "    </tr>\n",
       "  </tbody>\n",
       "</table>\n",
       "</div>"
      ],
      "text/plain": [
       "   Thời tiết Nhiệt độ Độ ẩm       Gió    Áp suất  PM2.5   PM10   O3   NO2   \\\n",
       "0          2     11°C   52%  8.8 km/h  1017 mbar    61.3  185.3    2  52.2   \n",
       "1          2     12°C   44%  9.4 km/h  1016 mbar   139.2  245.5  4.5  44.6   \n",
       "2          1     -4°C   45%    5 km/h  1036 mbar     157  416.5    9    59   \n",
       "3          5     12°C   87%  7.4 km/h  1016 mbar   123.9  222.3   23  54.8   \n",
       "4          2     12°C   56%  7.1 km/h  1016 mbar   83.3*    NaN  NaN   NaN   \n",
       "\n",
       "   SO2      CO   target  \n",
       "0  10.4  1160.0       3  \n",
       "1   8.8  1150.0       3  \n",
       "2  27.5     NaN       5  \n",
       "3   NaN     NaN       3  \n",
       "4   NaN     NaN       3  "
      ]
     },
<<<<<<< HEAD
     "execution_count": 49,
=======
     "execution_count": 4,
>>>>>>> 56b924b9eef64f23282d36a3febab8deae55b76a
     "metadata": {},
     "output_type": "execute_result"
    }
   ],
   "source": [
    "weather = ['Nhiều mây', 'Trời quang', 'Mưa', 'Mây rải rác', 'Sương mù', 'Ít mây', 'Tuyết', 'Mưa rào', 'Giông bão']\n",
    "target = ['Tốt', 'Trung bình', 'Không lành mạnh', 'Không lành mạnh cho các nhóm nhạy cảm', \n",
    "          'Rất không lành mạnh', 'Nguy hiểm']\n",
    "df = df.replace(weather, np.arange(len(weather)) + 1)\n",
    "df = df.replace(target, np.arange(len(target)) + 1)\n",
    "df.head()"
   ]
  },
  {
   "attachments": {},
   "cell_type": "markdown",
   "metadata": {},
   "source": [
    "Format lại các thông tin trong dữ liệu"
   ]
  },
  {
   "cell_type": "code",
<<<<<<< HEAD
   "execution_count": 50,
=======
   "execution_count": 5,
>>>>>>> 56b924b9eef64f23282d36a3febab8deae55b76a
   "metadata": {},
   "outputs": [],
   "source": [
    "with warnings.catch_warnings():\n",
    "    warnings.simplefilter(\"ignore\")\n",
    "    df['Nhiệt độ'] = df['Nhiệt độ'].str.replace('°C', '')\n",
    "    df['Độ ẩm'] = df['Độ ẩm'].str.replace('%', '')\n",
    "    df['Gió'] = df['Gió'].str.replace(' km/h', '')\n",
    "    df['Áp suất'] = df['Áp suất'].str.replace(' mbar', '')\n",
    "    df[' PM2.5 '] = df[' PM2.5 '].str.replace('*', '')\n",
    "    df[' PM10 '] = df[' PM10 '].str.replace('*', '')\n",
    "    df[' O3 '] = df[' O3 '].str.replace('*', '')\n",
    "    df[' NO2 '] = df[' NO2 '].str.replace('*', '')\n",
    "    df[' SO2 '] = df[' SO2 '].str.replace('*', '')\n",
    "    df[' CO '] = df[' CO '].str.replace('*', '')"
   ]
  },
  {
   "cell_type": "code",
<<<<<<< HEAD
   "execution_count": 51,
=======
   "execution_count": 6,
>>>>>>> 56b924b9eef64f23282d36a3febab8deae55b76a
   "metadata": {},
   "outputs": [
    {
     "data": {
      "text/html": [
       "<div>\n",
       "<style scoped>\n",
       "    .dataframe tbody tr th:only-of-type {\n",
       "        vertical-align: middle;\n",
       "    }\n",
       "\n",
       "    .dataframe tbody tr th {\n",
       "        vertical-align: top;\n",
       "    }\n",
       "\n",
       "    .dataframe thead th {\n",
       "        text-align: right;\n",
       "    }\n",
       "</style>\n",
       "<table border=\"1\" class=\"dataframe\">\n",
       "  <thead>\n",
       "    <tr style=\"text-align: right;\">\n",
       "      <th></th>\n",
       "      <th>Thời tiết</th>\n",
       "      <th>Nhiệt độ</th>\n",
       "      <th>Độ ẩm</th>\n",
       "      <th>Gió</th>\n",
       "      <th>Áp suất</th>\n",
       "      <th>PM2.5</th>\n",
       "      <th>PM10</th>\n",
       "      <th>O3</th>\n",
       "      <th>NO2</th>\n",
       "      <th>SO2</th>\n",
       "      <th>CO</th>\n",
       "      <th>target</th>\n",
       "    </tr>\n",
       "  </thead>\n",
       "  <tbody>\n",
       "    <tr>\n",
       "      <th>0</th>\n",
       "      <td>2.0</td>\n",
       "      <td>11.0</td>\n",
       "      <td>52.0</td>\n",
       "      <td>8.8</td>\n",
       "      <td>1017.0</td>\n",
       "      <td>61.3</td>\n",
       "      <td>185.3</td>\n",
       "      <td>2.0</td>\n",
       "      <td>52.2</td>\n",
       "      <td>10.4</td>\n",
       "      <td>NaN</td>\n",
       "      <td>3.0</td>\n",
       "    </tr>\n",
       "    <tr>\n",
       "      <th>1</th>\n",
       "      <td>2.0</td>\n",
       "      <td>12.0</td>\n",
       "      <td>44.0</td>\n",
       "      <td>9.4</td>\n",
       "      <td>1016.0</td>\n",
       "      <td>139.2</td>\n",
       "      <td>245.5</td>\n",
       "      <td>4.5</td>\n",
       "      <td>44.6</td>\n",
       "      <td>8.8</td>\n",
       "      <td>NaN</td>\n",
       "      <td>3.0</td>\n",
       "    </tr>\n",
       "    <tr>\n",
       "      <th>2</th>\n",
       "      <td>1.0</td>\n",
       "      <td>-4.0</td>\n",
       "      <td>45.0</td>\n",
       "      <td>5.0</td>\n",
       "      <td>1036.0</td>\n",
       "      <td>157.0</td>\n",
       "      <td>416.5</td>\n",
       "      <td>9.0</td>\n",
       "      <td>59.0</td>\n",
       "      <td>27.5</td>\n",
       "      <td>NaN</td>\n",
       "      <td>5.0</td>\n",
       "    </tr>\n",
       "    <tr>\n",
       "      <th>3</th>\n",
       "      <td>5.0</td>\n",
       "      <td>12.0</td>\n",
       "      <td>87.0</td>\n",
       "      <td>7.4</td>\n",
       "      <td>1016.0</td>\n",
       "      <td>123.9</td>\n",
       "      <td>222.3</td>\n",
       "      <td>23.0</td>\n",
       "      <td>54.8</td>\n",
       "      <td>NaN</td>\n",
       "      <td>NaN</td>\n",
       "      <td>3.0</td>\n",
       "    </tr>\n",
       "    <tr>\n",
       "      <th>4</th>\n",
       "      <td>2.0</td>\n",
       "      <td>12.0</td>\n",
       "      <td>56.0</td>\n",
       "      <td>7.1</td>\n",
       "      <td>1016.0</td>\n",
       "      <td>83.3</td>\n",
       "      <td>NaN</td>\n",
       "      <td>NaN</td>\n",
       "      <td>NaN</td>\n",
       "      <td>NaN</td>\n",
       "      <td>NaN</td>\n",
       "      <td>3.0</td>\n",
       "    </tr>\n",
       "  </tbody>\n",
       "</table>\n",
       "</div>"
      ],
      "text/plain": [
       "   Thời tiết  Nhiệt độ  Độ ẩm  Gió  Áp suất   PM2.5    PM10    O3    NO2   \\\n",
       "0        2.0      11.0   52.0  8.8   1017.0     61.3   185.3   2.0   52.2   \n",
       "1        2.0      12.0   44.0  9.4   1016.0    139.2   245.5   4.5   44.6   \n",
       "2        1.0      -4.0   45.0  5.0   1036.0    157.0   416.5   9.0   59.0   \n",
       "3        5.0      12.0   87.0  7.4   1016.0    123.9   222.3  23.0   54.8   \n",
       "4        2.0      12.0   56.0  7.1   1016.0     83.3     NaN   NaN    NaN   \n",
       "\n",
       "    SO2    CO   target  \n",
       "0   10.4   NaN     3.0  \n",
       "1    8.8   NaN     3.0  \n",
       "2   27.5   NaN     5.0  \n",
       "3    NaN   NaN     3.0  \n",
       "4    NaN   NaN     3.0  "
      ]
     },
<<<<<<< HEAD
     "execution_count": 51,
=======
     "execution_count": 6,
>>>>>>> 56b924b9eef64f23282d36a3febab8deae55b76a
     "metadata": {},
     "output_type": "execute_result"
    }
   ],
   "source": [
    "df = df.astype(np.float64)\n",
    "df.head()"
   ]
  },
  {
   "attachments": {},
   "cell_type": "markdown",
   "metadata": {},
   "source": [
    "Như đã thấy thì dữ liệu của mô hình có các giá trị NaN. Ta không thể drop các giá trị đó hoặc thay bằng 0, có nhiều cách để thay thế giá trị NaN, tuy nhiên ở đây chúng ta sẽ thay các giá trị NaN bằng mean."
   ]
  },
  {
   "cell_type": "code",
<<<<<<< HEAD
   "execution_count": 52,
=======
   "execution_count": 7,
>>>>>>> 56b924b9eef64f23282d36a3febab8deae55b76a
   "metadata": {},
   "outputs": [],
   "source": [
    "X = df.iloc[:, :-1]\n",
    "Y = df['target']\n",
    "\n",
    "imputer = SimpleImputer(missing_values = np.nan, strategy = 'median')\n",
    "imputer = imputer.fit(X)\n",
    "X = imputer.transform(X)"
   ]
  },
  {
   "attachments": {},
   "cell_type": "markdown",
   "metadata": {},
   "source": [
    "Từ dữ liệu ta sẽ tạo ra tập train và tập test"
   ]
  },
  {
   "cell_type": "code",
<<<<<<< HEAD
   "execution_count": 53,
=======
   "execution_count": 8,
>>>>>>> 56b924b9eef64f23282d36a3febab8deae55b76a
   "metadata": {},
   "outputs": [],
   "source": [
    "X_train, X_test, y_train, y_test = train_test_split(X, Y, test_size = 0.3)"
   ]
  },
  {
   "attachments": {},
   "cell_type": "markdown",
   "metadata": {},
   "source": [
    "## MÔ HÌNH 1: **RANDOM FOREST**\n",
    "- X sẽ là các cột dữ liệu thông tin về thời tiết và không khí.\n",
    "- Y sẽ là các kết quả thực tế đo được."
   ]
  },
  {
   "cell_type": "code",
<<<<<<< HEAD
   "execution_count": 54,
=======
   "execution_count": 9,
>>>>>>> 56b924b9eef64f23282d36a3febab8deae55b76a
   "metadata": {},
   "outputs": [],
   "source": [
    "#Import Random Forest Model\n",
    "from sklearn.ensemble import RandomForestClassifier"
   ]
  },
  {
   "attachments": {},
   "cell_type": "markdown",
   "metadata": {},
   "source": [
    "Sau đó fix dữ liệu train với model"
   ]
  },
  {
   "cell_type": "code",
<<<<<<< HEAD
   "execution_count": 55,
=======
   "execution_count": 10,
>>>>>>> 56b924b9eef64f23282d36a3febab8deae55b76a
   "metadata": {},
   "outputs": [
    {
     "data": {
      "text/html": [
<<<<<<< HEAD
       "<style>#sk-container-id-3 {color: black;background-color: white;}#sk-container-id-3 pre{padding: 0;}#sk-container-id-3 div.sk-toggleable {background-color: white;}#sk-container-id-3 label.sk-toggleable__label {cursor: pointer;display: block;width: 100%;margin-bottom: 0;padding: 0.3em;box-sizing: border-box;text-align: center;}#sk-container-id-3 label.sk-toggleable__label-arrow:before {content: \"▸\";float: left;margin-right: 0.25em;color: #696969;}#sk-container-id-3 label.sk-toggleable__label-arrow:hover:before {color: black;}#sk-container-id-3 div.sk-estimator:hover label.sk-toggleable__label-arrow:before {color: black;}#sk-container-id-3 div.sk-toggleable__content {max-height: 0;max-width: 0;overflow: hidden;text-align: left;background-color: #f0f8ff;}#sk-container-id-3 div.sk-toggleable__content pre {margin: 0.2em;color: black;border-radius: 0.25em;background-color: #f0f8ff;}#sk-container-id-3 input.sk-toggleable__control:checked~div.sk-toggleable__content {max-height: 200px;max-width: 100%;overflow: auto;}#sk-container-id-3 input.sk-toggleable__control:checked~label.sk-toggleable__label-arrow:before {content: \"▾\";}#sk-container-id-3 div.sk-estimator input.sk-toggleable__control:checked~label.sk-toggleable__label {background-color: #d4ebff;}#sk-container-id-3 div.sk-label input.sk-toggleable__control:checked~label.sk-toggleable__label {background-color: #d4ebff;}#sk-container-id-3 input.sk-hidden--visually {border: 0;clip: rect(1px 1px 1px 1px);clip: rect(1px, 1px, 1px, 1px);height: 1px;margin: -1px;overflow: hidden;padding: 0;position: absolute;width: 1px;}#sk-container-id-3 div.sk-estimator {font-family: monospace;background-color: #f0f8ff;border: 1px dotted black;border-radius: 0.25em;box-sizing: border-box;margin-bottom: 0.5em;}#sk-container-id-3 div.sk-estimator:hover {background-color: #d4ebff;}#sk-container-id-3 div.sk-parallel-item::after {content: \"\";width: 100%;border-bottom: 1px solid gray;flex-grow: 1;}#sk-container-id-3 div.sk-label:hover label.sk-toggleable__label {background-color: #d4ebff;}#sk-container-id-3 div.sk-serial::before {content: \"\";position: absolute;border-left: 1px solid gray;box-sizing: border-box;top: 0;bottom: 0;left: 50%;z-index: 0;}#sk-container-id-3 div.sk-serial {display: flex;flex-direction: column;align-items: center;background-color: white;padding-right: 0.2em;padding-left: 0.2em;position: relative;}#sk-container-id-3 div.sk-item {position: relative;z-index: 1;}#sk-container-id-3 div.sk-parallel {display: flex;align-items: stretch;justify-content: center;background-color: white;position: relative;}#sk-container-id-3 div.sk-item::before, #sk-container-id-3 div.sk-parallel-item::before {content: \"\";position: absolute;border-left: 1px solid gray;box-sizing: border-box;top: 0;bottom: 0;left: 50%;z-index: -1;}#sk-container-id-3 div.sk-parallel-item {display: flex;flex-direction: column;z-index: 1;position: relative;background-color: white;}#sk-container-id-3 div.sk-parallel-item:first-child::after {align-self: flex-end;width: 50%;}#sk-container-id-3 div.sk-parallel-item:last-child::after {align-self: flex-start;width: 50%;}#sk-container-id-3 div.sk-parallel-item:only-child::after {width: 0;}#sk-container-id-3 div.sk-dashed-wrapped {border: 1px dashed gray;margin: 0 0.4em 0.5em 0.4em;box-sizing: border-box;padding-bottom: 0.4em;background-color: white;}#sk-container-id-3 div.sk-label label {font-family: monospace;font-weight: bold;display: inline-block;line-height: 1.2em;}#sk-container-id-3 div.sk-label-container {text-align: center;}#sk-container-id-3 div.sk-container {/* jupyter's `normalize.less` sets `[hidden] { display: none; }` but bootstrap.min.css set `[hidden] { display: none !important; }` so we also need the `!important` here to be able to override the default hidden behavior on the sphinx rendered scikit-learn.org. See: https://github.com/scikit-learn/scikit-learn/issues/21755 */display: inline-block !important;position: relative;}#sk-container-id-3 div.sk-text-repr-fallback {display: none;}</style><div id=\"sk-container-id-3\" class=\"sk-top-container\"><div class=\"sk-text-repr-fallback\"><pre>RandomForestClassifier()</pre><b>In a Jupyter environment, please rerun this cell to show the HTML representation or trust the notebook. <br />On GitHub, the HTML representation is unable to render, please try loading this page with nbviewer.org.</b></div><div class=\"sk-container\" hidden><div class=\"sk-item\"><div class=\"sk-estimator sk-toggleable\"><input class=\"sk-toggleable__control sk-hidden--visually\" id=\"sk-estimator-id-3\" type=\"checkbox\" checked><label for=\"sk-estimator-id-3\" class=\"sk-toggleable__label sk-toggleable__label-arrow\">RandomForestClassifier</label><div class=\"sk-toggleable__content\"><pre>RandomForestClassifier()</pre></div></div></div></div></div>"
=======
       "<style>#sk-container-id-1 {color: black;background-color: white;}#sk-container-id-1 pre{padding: 0;}#sk-container-id-1 div.sk-toggleable {background-color: white;}#sk-container-id-1 label.sk-toggleable__label {cursor: pointer;display: block;width: 100%;margin-bottom: 0;padding: 0.3em;box-sizing: border-box;text-align: center;}#sk-container-id-1 label.sk-toggleable__label-arrow:before {content: \"▸\";float: left;margin-right: 0.25em;color: #696969;}#sk-container-id-1 label.sk-toggleable__label-arrow:hover:before {color: black;}#sk-container-id-1 div.sk-estimator:hover label.sk-toggleable__label-arrow:before {color: black;}#sk-container-id-1 div.sk-toggleable__content {max-height: 0;max-width: 0;overflow: hidden;text-align: left;background-color: #f0f8ff;}#sk-container-id-1 div.sk-toggleable__content pre {margin: 0.2em;color: black;border-radius: 0.25em;background-color: #f0f8ff;}#sk-container-id-1 input.sk-toggleable__control:checked~div.sk-toggleable__content {max-height: 200px;max-width: 100%;overflow: auto;}#sk-container-id-1 input.sk-toggleable__control:checked~label.sk-toggleable__label-arrow:before {content: \"▾\";}#sk-container-id-1 div.sk-estimator input.sk-toggleable__control:checked~label.sk-toggleable__label {background-color: #d4ebff;}#sk-container-id-1 div.sk-label input.sk-toggleable__control:checked~label.sk-toggleable__label {background-color: #d4ebff;}#sk-container-id-1 input.sk-hidden--visually {border: 0;clip: rect(1px 1px 1px 1px);clip: rect(1px, 1px, 1px, 1px);height: 1px;margin: -1px;overflow: hidden;padding: 0;position: absolute;width: 1px;}#sk-container-id-1 div.sk-estimator {font-family: monospace;background-color: #f0f8ff;border: 1px dotted black;border-radius: 0.25em;box-sizing: border-box;margin-bottom: 0.5em;}#sk-container-id-1 div.sk-estimator:hover {background-color: #d4ebff;}#sk-container-id-1 div.sk-parallel-item::after {content: \"\";width: 100%;border-bottom: 1px solid gray;flex-grow: 1;}#sk-container-id-1 div.sk-label:hover label.sk-toggleable__label {background-color: #d4ebff;}#sk-container-id-1 div.sk-serial::before {content: \"\";position: absolute;border-left: 1px solid gray;box-sizing: border-box;top: 0;bottom: 0;left: 50%;z-index: 0;}#sk-container-id-1 div.sk-serial {display: flex;flex-direction: column;align-items: center;background-color: white;padding-right: 0.2em;padding-left: 0.2em;position: relative;}#sk-container-id-1 div.sk-item {position: relative;z-index: 1;}#sk-container-id-1 div.sk-parallel {display: flex;align-items: stretch;justify-content: center;background-color: white;position: relative;}#sk-container-id-1 div.sk-item::before, #sk-container-id-1 div.sk-parallel-item::before {content: \"\";position: absolute;border-left: 1px solid gray;box-sizing: border-box;top: 0;bottom: 0;left: 50%;z-index: -1;}#sk-container-id-1 div.sk-parallel-item {display: flex;flex-direction: column;z-index: 1;position: relative;background-color: white;}#sk-container-id-1 div.sk-parallel-item:first-child::after {align-self: flex-end;width: 50%;}#sk-container-id-1 div.sk-parallel-item:last-child::after {align-self: flex-start;width: 50%;}#sk-container-id-1 div.sk-parallel-item:only-child::after {width: 0;}#sk-container-id-1 div.sk-dashed-wrapped {border: 1px dashed gray;margin: 0 0.4em 0.5em 0.4em;box-sizing: border-box;padding-bottom: 0.4em;background-color: white;}#sk-container-id-1 div.sk-label label {font-family: monospace;font-weight: bold;display: inline-block;line-height: 1.2em;}#sk-container-id-1 div.sk-label-container {text-align: center;}#sk-container-id-1 div.sk-container {/* jupyter's `normalize.less` sets `[hidden] { display: none; }` but bootstrap.min.css set `[hidden] { display: none !important; }` so we also need the `!important` here to be able to override the default hidden behavior on the sphinx rendered scikit-learn.org. See: https://github.com/scikit-learn/scikit-learn/issues/21755 */display: inline-block !important;position: relative;}#sk-container-id-1 div.sk-text-repr-fallback {display: none;}</style><div id=\"sk-container-id-1\" class=\"sk-top-container\"><div class=\"sk-text-repr-fallback\"><pre>RandomForestClassifier()</pre><b>In a Jupyter environment, please rerun this cell to show the HTML representation or trust the notebook. <br />On GitHub, the HTML representation is unable to render, please try loading this page with nbviewer.org.</b></div><div class=\"sk-container\" hidden><div class=\"sk-item\"><div class=\"sk-estimator sk-toggleable\"><input class=\"sk-toggleable__control sk-hidden--visually\" id=\"sk-estimator-id-1\" type=\"checkbox\" checked><label for=\"sk-estimator-id-1\" class=\"sk-toggleable__label sk-toggleable__label-arrow\">RandomForestClassifier</label><div class=\"sk-toggleable__content\"><pre>RandomForestClassifier()</pre></div></div></div></div></div>"
>>>>>>> 56b924b9eef64f23282d36a3febab8deae55b76a
      ],
      "text/plain": [
       "RandomForestClassifier()"
      ]
     },
<<<<<<< HEAD
     "execution_count": 55,
=======
     "execution_count": 10,
>>>>>>> 56b924b9eef64f23282d36a3febab8deae55b76a
     "metadata": {},
     "output_type": "execute_result"
    }
   ],
   "source": [
    "clf = RandomForestClassifier(n_estimators = 100)\n",
    "clf.fit(X_train, y_train)"
   ]
  },
  {
   "attachments": {},
   "cell_type": "markdown",
   "metadata": {},
   "source": [
    "Tập dự đoán "
   ]
  },
  {
   "cell_type": "code",
<<<<<<< HEAD
   "execution_count": 56,
=======
   "execution_count": 11,
>>>>>>> 56b924b9eef64f23282d36a3febab8deae55b76a
   "metadata": {},
   "outputs": [
    {
     "data": {
      "text/plain": [
<<<<<<< HEAD
<<<<<<< HEAD
       "array([2., 1., 1., 1., 2., 1., 2., 2., 3., 4., 1., 2., 1., 3., 4., 1., 2.,\n",
       "       1., 4., 1., 1., 2., 1., 1., 1., 1., 1., 1., 2., 3., 2., 2., 4., 1.,\n",
       "       1., 1., 3., 1., 1., 4., 2., 1., 2., 2., 3., 2., 2., 2., 1., 1., 1.,\n",
       "       1., 1., 1., 1., 3., 1., 1., 1., 1., 1., 4., 1., 1., 2., 4., 2., 1.,\n",
       "       2., 1., 1., 1., 4., 3., 1., 3., 2., 2., 1., 1., 1., 4., 2., 1., 3.,\n",
       "       2., 2., 1., 1., 2., 1., 1., 1., 2., 1., 1., 1., 2., 4., 1., 1., 1.,\n",
       "       2., 4., 1., 1., 1., 1., 1., 1., 2., 2., 1., 1., 1., 3., 5., 1., 1.,\n",
       "       2., 1., 1., 1., 2., 4., 1., 2., 1., 2., 1., 1., 1., 1., 1., 2., 1.,\n",
       "       2., 1., 1., 1., 2., 4., 1., 1., 1., 1., 1., 5., 2., 1., 1., 1., 2.,\n",
       "       1., 6., 1., 4., 1., 2., 2., 2., 3., 5., 2., 1., 1., 1., 1., 2., 1.,\n",
       "       4., 1., 2., 1., 1., 1., 1., 2., 3., 1., 1., 1., 1., 1., 2., 2., 1.,\n",
       "       1., 3., 2., 1., 1., 4., 2., 1., 1., 1., 1., 1., 2., 1., 1., 1., 1.,\n",
       "       1., 4., 1., 4., 5., 1., 4., 2., 3., 3., 2., 1., 1., 1., 1., 2., 1.,\n",
       "       3., 1., 1., 1., 2., 1., 4., 1., 1., 1., 2., 1., 2., 3., 1., 2., 3.,\n",
       "       1., 2., 1., 2., 1., 4., 4., 1., 4., 2., 2., 3., 2., 1., 1., 2., 2.,\n",
       "       1., 3., 5., 1., 4., 3., 1., 2., 1., 1., 1., 1., 3., 2., 2., 1., 1.,\n",
       "       2., 1., 1., 2., 4., 1., 2., 1., 2., 1., 1., 2., 1., 1., 1., 1., 3.,\n",
       "       4., 4., 2., 2., 1., 1., 2., 3., 1., 3., 2., 1., 2., 1., 1., 4., 2.,\n",
       "       1., 1., 1., 1., 4., 1., 1., 2., 3., 1., 1., 3., 1., 2., 1., 1., 1.,\n",
       "       3., 1., 1., 1., 2., 5., 1., 3., 1., 1., 3., 2., 1., 2., 1., 1., 2.,\n",
       "       2., 1., 4., 2., 3., 2., 2., 2., 2., 1., 2., 1., 2., 1., 1., 1., 2.,\n",
       "       2., 2., 1., 2., 4., 2., 3., 1., 4., 2., 1., 5., 1., 3., 4., 3., 2.,\n",
       "       4., 1., 1., 2., 2., 1., 2., 1., 1., 6., 1., 2., 1., 2., 1., 2., 1.,\n",
       "       1., 2., 1., 1., 2., 2., 1., 1., 2., 1., 1., 1., 1., 1., 1., 2., 3.,\n",
       "       4., 1., 1., 1., 1., 1., 3., 1., 1., 1., 3., 1., 1., 3., 2., 5., 1.,\n",
       "       6., 2., 4., 1., 1., 3., 4., 2., 2., 1., 1., 2., 2., 1., 1., 1., 1.,\n",
       "       1., 4., 1., 1., 1., 1., 3., 2., 1., 1., 1., 1., 1., 2., 1., 2., 1.,\n",
       "       1., 1., 2., 1., 2., 1., 1., 1., 2., 2., 1., 1., 1., 1., 1., 1., 2.,\n",
       "       5., 2., 6., 6., 2., 1., 1., 2., 4., 1., 2., 5., 2., 1., 2., 1., 1.,\n",
       "       1., 1., 1., 1., 1., 1., 2., 1., 1., 2., 2., 1., 1., 1., 1., 1., 2.,\n",
       "       2., 2., 1., 1., 4., 1., 1., 2., 3., 3., 1., 4., 1., 1., 1., 2., 1.,\n",
       "       2., 2., 1., 1., 1., 2., 1., 2., 1., 1., 3., 1., 4., 1., 1., 1., 1.,\n",
       "       1., 3., 4., 1., 1., 4., 2., 1., 1., 2., 4., 4., 1., 1., 1., 1., 1.,\n",
       "       2., 1., 2., 1., 2., 1., 2., 1., 1., 3., 1., 1., 4., 2., 2., 1., 2.,\n",
       "       1., 2., 2., 2., 1., 2., 1., 2., 2., 1., 3., 1., 1., 2., 1., 2., 2.,\n",
       "       1., 3., 1., 1., 1.])"
      ]
     },
     "execution_count": 56,
=======
       "array([3., 2., 3., 5., 4., 1., 1., 1., 1., 2., 1., 1., 2., 1., 3., 1., 1.,\n",
       "       1., 1., 1., 2., 1., 4., 2., 2., 2., 1., 2., 4., 2., 1., 1., 1., 2.,\n",
       "       1., 1., 1., 1., 1., 2., 1., 1., 1., 1., 2., 1., 2., 1., 2., 1., 1.,\n",
       "       1., 2., 5., 1., 1., 1., 4., 1., 1., 1., 4., 1., 4., 1., 1., 1., 2.,\n",
       "       1., 1., 1., 1., 1., 1., 4., 2., 1., 4., 1., 1., 3., 4., 1., 2., 1.,\n",
       "       2., 2., 1., 1., 3., 1., 3., 1., 2., 4., 4., 5., 1., 2., 2., 5., 1.,\n",
       "       2., 1., 2., 1., 2., 1., 1., 1., 2., 1., 1., 3., 1., 1., 1., 1., 1.,\n",
       "       1., 1., 1., 1., 3., 1., 3., 1., 1., 1., 1., 1., 3., 1., 2., 2., 2.,\n",
       "       1., 1., 3., 1., 1., 1., 1., 1., 1., 1., 4., 6., 1., 2., 1., 4., 3.,\n",
       "       1., 1., 1., 1., 2., 4., 4., 3., 1., 2., 1., 1., 2., 1., 1., 2., 1.,\n",
       "       2., 1., 2., 2., 1., 2., 2., 1., 1., 4., 1., 4., 1., 2., 6., 2., 2.,\n",
       "       1., 1., 1., 2., 1., 1., 1., 1., 1., 4., 1., 1., 2., 1., 2., 4., 2.,\n",
       "       1., 1., 2., 2., 1., 2., 1., 1., 2., 1., 2., 1., 2., 3., 1., 1., 2.,\n",
       "       1., 1., 4., 3., 2., 2., 1., 1., 2., 2., 1., 2., 1., 4., 1., 2., 1.,\n",
       "       1., 1., 1., 2., 1., 1., 1., 2., 1., 2., 2., 1., 1., 1., 2., 4., 1.,\n",
       "       5., 2., 3., 1., 1., 2., 4., 5., 1., 1., 1., 1., 1., 2., 1., 2., 1.,\n",
       "       1., 1., 1., 4., 3., 1., 1., 3., 1., 1., 2., 1., 1., 2., 2., 1., 1.,\n",
       "       1., 1., 2., 1., 1., 1., 1., 1., 1., 3., 1., 1., 1., 1., 4., 1., 1.,\n",
       "       1., 4., 4., 1., 4., 4., 5., 1., 2., 1., 1., 1., 1., 1., 2., 1., 1.,\n",
       "       2., 3., 1., 1., 2., 1., 1., 1., 1., 2., 1., 1., 2., 2., 1., 3., 3.,\n",
       "       1., 1., 4., 1., 3., 1., 3., 1., 4., 1., 4., 1., 3., 1., 2., 2., 1.,\n",
       "       1., 2., 2., 1., 1., 1., 3., 2., 2., 2., 1., 2., 1., 1., 1., 3., 1.,\n",
       "       1., 1., 1., 1., 1., 1., 2., 6., 1., 2., 4., 3., 1., 3., 3., 2., 2.,\n",
       "       1., 4., 1., 6., 2., 2., 2., 2., 4., 1., 2., 3., 1., 1., 1., 1., 1.,\n",
       "       1., 4., 1., 4., 6., 1., 6., 1., 2., 1., 1., 1., 1., 1., 1., 2., 4.,\n",
       "       1., 1., 1., 1., 3., 1., 1., 2., 2., 1., 1., 1., 1., 1., 1., 1., 1.,\n",
       "       1., 1., 1., 1., 3., 1., 4., 4., 4., 2., 4., 4., 1., 2., 1., 1., 2.,\n",
       "       3., 3., 2., 2., 1., 1., 1., 3., 3., 4., 1., 2., 1., 1., 3., 4., 2.,\n",
       "       1., 1., 1., 1., 3., 2., 1., 2., 1., 2., 1., 1., 1., 1., 1., 1., 3.,\n",
       "       2., 2., 2., 1., 1., 1., 1., 2., 1., 1., 2., 1., 4., 2., 2., 1., 1.,\n",
       "       1., 2., 1., 1., 2., 3., 2., 1., 1., 1., 1., 1., 1., 4., 1., 3., 1.,\n",
       "       4., 1., 1., 1., 1., 2., 1., 2., 3., 2., 2., 1., 1., 1., 1., 1., 2.,\n",
       "       1., 4., 2., 2., 2., 1., 1., 2., 2., 2., 1., 2., 3., 1., 1., 1., 1.,\n",
       "       2., 1., 1., 1., 2., 2., 1., 4., 1., 3., 2., 2., 3., 2., 4., 1., 2.,\n",
       "       1., 2., 1., 1., 4., 2., 2., 2., 1., 2., 1., 1., 2., 1., 4., 1., 1.,\n",
       "       4., 1., 2., 2., 1.])"
=======
       "array([1., 1., 1., 2., 4., 4., 1., 1., 1., 2., 1., 1., 1., 3., 1., 1., 2.,\n",
       "       1., 2., 1., 2., 1., 1., 1., 1., 2., 3., 1., 4., 2., 1., 2., 1., 3.,\n",
       "       1., 3., 1., 1., 1., 1., 2., 2., 1., 1., 3., 1., 1., 1., 3., 2., 3.,\n",
       "       1., 2., 1., 1., 1., 1., 1., 3., 1., 1., 1., 1., 4., 1., 2., 3., 1.,\n",
       "       1., 2., 1., 1., 1., 5., 1., 2., 3., 1., 1., 2., 1., 2., 2., 1., 1.,\n",
       "       3., 1., 1., 4., 1., 2., 1., 1., 1., 2., 3., 1., 1., 2., 2., 1., 2.,\n",
       "       2., 1., 1., 1., 1., 1., 2., 2., 2., 1., 2., 1., 2., 1., 1., 1., 1.,\n",
       "       1., 1., 2., 1., 3., 1., 1., 1., 1., 4., 1., 2., 1., 2., 3., 1., 4.,\n",
       "       1., 1., 1., 2., 1., 3., 1., 1., 2., 1., 1., 2., 2., 1., 3., 2., 1.,\n",
       "       1., 3., 1., 1., 1., 3., 1., 3., 1., 4., 1., 1., 2., 1., 1., 1., 1.,\n",
       "       1., 1., 3., 1., 4., 1., 1., 1., 2., 1., 1., 1., 2., 1., 1., 1., 2.,\n",
       "       1., 1., 1., 2., 1., 2., 1., 1., 1., 2., 1., 1., 1., 1., 1., 1., 1.,\n",
       "       4., 1., 1., 1., 2., 1., 1., 2., 1., 1., 6., 1., 2., 1., 1., 2., 2.,\n",
       "       1., 1., 1., 1., 1., 1., 1., 3., 5., 4., 4., 1., 1., 1., 1., 3., 1.,\n",
       "       1., 1., 2., 1., 1., 2., 5., 2., 1., 1., 1., 2., 1., 2., 1., 1., 2.,\n",
       "       3., 3., 2., 4., 2., 4., 1., 2., 1., 1., 1., 2., 1., 3., 1., 1., 1.,\n",
       "       1., 1., 2., 1., 4., 1., 1., 1., 1., 1., 1., 1., 1., 1., 1., 2., 1.,\n",
       "       4., 3., 4., 1., 2., 4., 3., 1., 1., 2., 1., 1., 4., 2., 4., 1., 2.,\n",
       "       2., 1., 1., 1., 1., 1., 3., 1., 1., 4., 2., 1., 1., 1., 1., 1., 1.,\n",
       "       1., 1., 1., 1., 1., 1., 1., 2., 1., 2., 2., 4., 2., 1., 2., 1., 1.,\n",
       "       1., 2., 1., 3., 1., 2., 1., 4., 2., 4., 1., 1., 1., 3., 1., 2., 1.,\n",
       "       1., 4., 2., 3., 1., 1., 1., 3., 1., 1., 3., 1., 1., 2., 1., 4., 1.,\n",
       "       3., 1., 2., 4., 1., 4., 2., 2., 1., 2., 5., 2., 4., 2., 2., 1., 1.,\n",
       "       2., 1., 3., 1., 1., 1., 3., 2., 1., 1., 4., 1., 1., 1., 2., 2., 1.,\n",
       "       1., 1., 2., 2., 1., 1., 1., 1., 1., 1., 1., 1., 1., 1., 3., 1., 2.,\n",
       "       1., 2., 3., 6., 1., 1., 1., 2., 1., 1., 2., 1., 3., 1., 1., 2., 1.,\n",
       "       1., 1., 1., 1., 4., 1., 2., 2., 1., 1., 2., 2., 2., 2., 1., 4., 1.,\n",
       "       4., 2., 4., 4., 1., 1., 1., 2., 4., 2., 1., 1., 2., 1., 1., 2., 2.,\n",
       "       1., 4., 1., 1., 1., 1., 4., 1., 1., 1., 1., 2., 1., 2., 1., 1., 1.,\n",
       "       1., 1., 2., 6., 1., 4., 2., 2., 2., 1., 1., 2., 1., 1., 1., 1., 2.,\n",
       "       1., 1., 1., 2., 1., 3., 1., 2., 1., 1., 1., 3., 1., 1., 1., 2., 1.,\n",
       "       4., 1., 1., 1., 1., 2., 1., 1., 3., 1., 1., 3., 3., 1., 2., 1., 5.,\n",
       "       1., 4., 2., 1., 1., 1., 2., 3., 1., 1., 1., 2., 3., 1., 1., 2., 2.,\n",
       "       2., 1., 2., 1., 1., 2., 1., 1., 1., 1., 2., 1., 2., 2., 1., 4., 1.,\n",
       "       1., 2., 1., 2., 3., 2., 2., 2., 1., 1., 2., 3., 1., 4., 1., 1., 1.,\n",
       "       1., 1., 3., 1., 1., 1., 1., 4., 1., 3., 1., 1., 1., 2., 2., 1., 1.,\n",
       "       1., 2., 2., 1., 4., 1., 1., 2., 2., 2., 3., 2., 3., 2., 1., 1., 1.,\n",
       "       3., 1., 1., 1., 4., 2., 2., 1., 2., 2., 3., 1., 1., 1., 2., 1., 2.,\n",
       "       1., 3., 1., 1., 1., 3., 1., 2., 2., 3., 1., 1., 2., 1., 1., 2., 1.,\n",
       "       1., 1., 3., 1., 2., 1., 1., 3., 1., 3., 1., 1., 1., 1., 4., 1., 1.,\n",
       "       1., 5., 1., 2., 1., 1., 3., 1., 3., 1., 1., 3., 1., 3., 1., 1., 2.,\n",
       "       1., 1., 1., 1., 2., 1., 2., 1., 4., 1., 1., 2., 1., 1., 1., 1., 2.,\n",
       "       1., 1., 1., 1., 2., 1., 1., 1., 2., 1., 1., 1., 4., 2., 1., 2., 1.,\n",
       "       1., 2., 2., 2., 1., 2., 1., 1., 1., 2., 2., 1., 2., 3., 1., 1., 1.,\n",
       "       1., 1., 3., 1., 2., 1., 1., 2., 2., 2., 1., 1., 2., 1., 1., 1., 1.,\n",
       "       1., 1., 1., 1., 1., 2., 1., 2., 4., 2., 1., 2., 1., 3., 1., 1., 1.,\n",
       "       1., 1., 1., 3., 1., 2., 1., 2., 3., 1., 1., 1., 3., 1., 1., 1., 1.,\n",
       "       1., 1., 1., 1., 3., 1., 1., 1., 1., 3., 1., 1., 2., 1., 1., 1., 1.,\n",
       "       1., 2., 1., 1., 3., 1., 2., 2., 4., 1., 2., 1., 1., 2., 1., 2., 2.,\n",
       "       1., 3., 1., 1., 1., 3., 4., 2., 1., 1., 3., 1., 2., 1., 1., 2., 2.,\n",
       "       1., 1., 1., 1., 1., 2., 2., 1., 1., 1., 1., 1., 1., 1., 3., 1., 1.,\n",
       "       1., 1., 3., 2., 4., 1., 1., 1., 1., 1., 1., 2., 1., 2., 3., 1., 2.,\n",
       "       1., 1., 1., 1., 1., 1., 1., 1., 1., 1., 1., 1., 1., 1., 2., 2., 3.,\n",
       "       4., 1., 2., 1., 1.])"
>>>>>>> new
      ]
     },
     "execution_count": 11,
>>>>>>> 56b924b9eef64f23282d36a3febab8deae55b76a
     "metadata": {},
     "output_type": "execute_result"
    }
   ],
   "source": [
    "y_pred = clf.predict(X_test)\n",
    "y_pred"
   ]
  },
  {
   "attachments": {},
   "cell_type": "markdown",
   "metadata": {},
   "source": [
    "### **ĐÁNH GIÁ MÔ HÌNH**"
   ]
  },
  {
   "attachments": {},
   "cell_type": "markdown",
   "metadata": {},
   "source": [
    "#### 1. **Confusion Matrix** (ma trận kiểm chứng tính đúng sai giữa true label và predicted label)"
   ]
  },
  {
   "cell_type": "code",
<<<<<<< HEAD
   "execution_count": 57,
=======
   "execution_count": 12,
>>>>>>> 56b924b9eef64f23282d36a3febab8deae55b76a
   "metadata": {},
   "outputs": [
    {
     "data": {
      "text/plain": [
<<<<<<< HEAD
<<<<<<< HEAD
       "array([[330,   0,   0,   0,   0,   0],\n",
       "       [  0, 161,   0,   0,   0,   0],\n",
       "       [  0,   0,  47,   0,   0,   0],\n",
       "       [  0,   0,   0,  47,   0,   0],\n",
       "       [  0,   0,   0,   0,   8,   0],\n",
       "       [  0,   0,   0,   0,   2,   5]], dtype=int64)"
      ]
     },
     "execution_count": 57,
=======
       "array([[339,   0,   0,   0,   0,   0],\n",
       "       [  0, 147,   0,   0,   0,   0],\n",
       "       [  0,   1,  45,   0,   0,   0],\n",
       "       [  0,   0,   0,  54,   0,   0],\n",
       "       [  0,   0,   1,   0,   6,   0],\n",
       "       [  0,   0,   0,   0,   1,   6]], dtype=int64)"
=======
       "array([[556,   0,   0,   0,   0,   0],\n",
       "       [  0, 205,   0,   0,   0,   0],\n",
       "       [  0,   0,  76,   0,   0,   0],\n",
       "       [  0,   2,   0,  54,   0,   0],\n",
       "       [  0,   0,   3,   0,   3,   0],\n",
       "       [  0,   0,   1,   0,   3,   3]], dtype=int64)"
>>>>>>> new
      ]
     },
     "execution_count": 12,
>>>>>>> 56b924b9eef64f23282d36a3febab8deae55b76a
     "metadata": {},
     "output_type": "execute_result"
    }
   ],
   "source": [
    "test = confusion_matrix(y_test, y_pred)\n",
    "test"
   ]
  },
  {
   "cell_type": "code",
<<<<<<< HEAD
   "execution_count": 58,
=======
   "execution_count": 13,
>>>>>>> 56b924b9eef64f23282d36a3febab8deae55b76a
   "metadata": {},
   "outputs": [
    {
     "data": {
<<<<<<< HEAD
<<<<<<< HEAD
      "image/png": "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",
=======
      "image/png": "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",
>>>>>>> 56b924b9eef64f23282d36a3febab8deae55b76a
=======
      "image/png": "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",
>>>>>>> new
      "text/plain": [
       "<Figure size 500x400 with 2 Axes>"
      ]
     },
     "metadata": {},
     "output_type": "display_data"
    }
   ],
   "source": [
    "plt.figure(figsize = (5,4))\n",
    "sns.heatmap(test, annot = True, cmap = 'Greens')\n",
    "plt.xlabel('Predicted Value')\n",
    "plt.ylabel('Truth or Actual Value')\n",
    "plt.show()"
   ]
  },
  {
   "attachments": {},
   "cell_type": "markdown",
   "metadata": {},
   "source": [
    "#### 2. Các thông số đánh giá: Accuracy, Precision, Recall"
   ]
  },
  {
   "attachments": {},
   "cell_type": "markdown",
   "metadata": {},
   "source": [
    " Độ so khớp của mô hình với dữ liệu (%)"
   ]
  },
  {
   "cell_type": "code",
<<<<<<< HEAD
   "execution_count": 59,
=======
   "execution_count": 14,
>>>>>>> 56b924b9eef64f23282d36a3febab8deae55b76a
   "metadata": {},
   "outputs": [
    {
     "name": "stdout",
     "output_type": "stream",
     "text": [
<<<<<<< HEAD
      "Accuracy: 0.9966666666666667\n"
=======
      "Accuracy: 0.9900662251655629\n"
>>>>>>> new
     ]
    }
   ],
   "source": [
    "print(\"Accuracy:\", metrics.accuracy_score(y_test, y_pred))"
   ]
  },
  {
   "attachments": {},
   "cell_type": "markdown",
   "metadata": {},
   "source": [
    "Với confusion matrix ở trên do ở đây ta thực hiên phân lớp tới 6 loại label khác nhau, nên việc tính toán các giá trị TP FP TN FN có vẻ khá tốn thời gian nên chúng ta sẽ sử dụng hàm classification_report để tính toán ra được giá trị precision, recall tương ứng với từng label."
   ]
  },
  {
   "cell_type": "code",
<<<<<<< HEAD
   "execution_count": 60,
=======
   "execution_count": 15,
>>>>>>> 56b924b9eef64f23282d36a3febab8deae55b76a
   "metadata": {},
   "outputs": [
    {
     "name": "stdout",
     "output_type": "stream",
     "text": [
      "              precision    recall  f1-score   support\n",
      "\n",
<<<<<<< HEAD
<<<<<<< HEAD
      "         1.0       1.00      1.00      1.00       330\n",
      "         2.0       1.00      1.00      1.00       161\n",
      "         3.0       1.00      1.00      1.00        47\n",
      "         4.0       1.00      1.00      1.00        47\n",
      "         5.0       0.80      1.00      0.89         8\n",
      "         6.0       1.00      0.71      0.83         7\n",
      "\n",
      "    accuracy                           1.00       600\n",
      "   macro avg       0.97      0.95      0.95       600\n",
      "weighted avg       1.00      1.00      1.00       600\n",
=======
      "         1.0       1.00      1.00      1.00       339\n",
      "         2.0       0.99      1.00      1.00       147\n",
      "         3.0       0.98      0.98      0.98        46\n",
      "         4.0       1.00      1.00      1.00        54\n",
      "         5.0       0.86      0.86      0.86         7\n",
      "         6.0       1.00      0.86      0.92         7\n",
      "\n",
      "    accuracy                           0.99       600\n",
      "   macro avg       0.97      0.95      0.96       600\n",
      "weighted avg       1.00      0.99      0.99       600\n",
>>>>>>> 56b924b9eef64f23282d36a3febab8deae55b76a
=======
      "         1.0       1.00      1.00      1.00       556\n",
      "         2.0       0.99      1.00      1.00       205\n",
      "         3.0       0.95      1.00      0.97        76\n",
      "         4.0       1.00      0.96      0.98        56\n",
      "         5.0       0.50      0.50      0.50         6\n",
      "         6.0       1.00      0.43      0.60         7\n",
      "\n",
      "    accuracy                           0.99       906\n",
      "   macro avg       0.91      0.82      0.84       906\n",
      "weighted avg       0.99      0.99      0.99       906\n",
>>>>>>> new
      "\n"
     ]
    }
   ],
   "source": [
    "#Precision Recall\n",
    "print(metrics.classification_report(y_test, y_pred)) "
   ]
  },
  {
   "attachments": {},
   "cell_type": "markdown",
   "metadata": {},
   "source": [
    "**NHẬN XÉT:**\n",
    "\n",
    "Với mô hình được sử dụng ở trên có vẻ accuracy mang lại có vẻ khá cao và chính xác, nhưng không thuộc vào trường hợp overfitting"
   ]
  },
  {
   "attachments": {},
   "cell_type": "markdown",
   "metadata": {},
   "source": [
    "## MÔ HÌNH 2: **LOGISTIC REGRESSION**\n",
    "- X sẽ là các cột dữ liệu thông tin về thời tiết và không khí.\n",
    "- Y sẽ là các kết quả thực tế đo được."
   ]
  },
  {
   "cell_type": "code",
<<<<<<< HEAD
   "execution_count": 61,
=======
   "execution_count": 16,
>>>>>>> 56b924b9eef64f23282d36a3febab8deae55b76a
   "metadata": {},
   "outputs": [],
   "source": [
    "# Models Logistic Regression\n",
    "from sklearn.linear_model import LogisticRegression"
   ]
  },
  {
   "attachments": {},
   "cell_type": "markdown",
   "metadata": {},
   "source": [
    "Sau đó fix dữ liệu train với model"
   ]
  },
  {
   "cell_type": "code",
<<<<<<< HEAD
   "execution_count": 62,
=======
   "execution_count": 17,
>>>>>>> 56b924b9eef64f23282d36a3febab8deae55b76a
   "metadata": {},
   "outputs": [],
   "source": [
    "with warnings.catch_warnings():\n",
    "    warnings.filterwarnings('ignore')\n",
    "    mymodel = LogisticRegression(max_iter = 120)\n",
    "    mymodel.fit(X_train, y_train)"
   ]
  },
  {
   "attachments": {},
   "cell_type": "markdown",
   "metadata": {},
   "source": [
    "Tập dự đoán "
   ]
  },
  {
   "cell_type": "code",
<<<<<<< HEAD
   "execution_count": 63,
=======
   "execution_count": 18,
>>>>>>> 56b924b9eef64f23282d36a3febab8deae55b76a
   "metadata": {},
   "outputs": [
    {
     "data": {
      "text/plain": [
<<<<<<< HEAD
<<<<<<< HEAD
       "array([2., 2., 1., 1., 2., 1., 2., 2., 4., 4., 1., 2., 1., 3., 4., 1., 2.,\n",
       "       1., 4., 1., 1., 2., 1., 1., 1., 1., 2., 1., 2., 4., 2., 2., 4., 1.,\n",
       "       1., 1., 4., 1., 1., 4., 2., 1., 2., 2., 3., 2., 2., 2., 1., 2., 1.,\n",
       "       1., 1., 1., 2., 3., 1., 1., 1., 1., 1., 4., 1., 1., 2., 2., 2., 1.,\n",
       "       2., 1., 1., 2., 4., 4., 1., 3., 2., 2., 1., 1., 1., 4., 2., 1., 3.,\n",
       "       1., 2., 1., 1., 2., 1., 1., 1., 1., 1., 1., 1., 2., 4., 1., 1., 1.,\n",
       "       2., 2., 1., 1., 1., 1., 1., 2., 2., 2., 1., 1., 1., 3., 3., 1., 1.,\n",
       "       2., 1., 1., 1., 2., 4., 1., 2., 1., 2., 1., 1., 1., 1., 1., 1., 1.,\n",
       "       2., 1., 1., 1., 2., 4., 1., 1., 1., 1., 1., 5., 2., 1., 1., 1., 2.,\n",
       "       1., 6., 1., 4., 1., 1., 2., 2., 3., 3., 2., 1., 1., 1., 1., 2., 1.,\n",
       "       4., 1., 2., 1., 1., 1., 1., 2., 3., 1., 1., 1., 1., 1., 2., 2., 1.,\n",
       "       1., 3., 2., 1., 1., 4., 2., 1., 1., 1., 1., 1., 2., 1., 1., 1., 1.,\n",
       "       1., 4., 1., 4., 5., 1., 4., 1., 3., 3., 2., 1., 1., 1., 1., 2., 1.,\n",
       "       3., 1., 1., 1., 2., 1., 4., 1., 1., 1., 2., 1., 2., 3., 1., 2., 3.,\n",
       "       1., 2., 1., 2., 1., 4., 4., 1., 2., 2., 2., 3., 2., 1., 1., 2., 2.,\n",
       "       1., 3., 5., 1., 4., 3., 1., 2., 1., 1., 1., 1., 3., 2., 2., 1., 1.,\n",
       "       2., 1., 1., 2., 4., 1., 2., 1., 2., 1., 1., 2., 1., 1., 1., 1., 3.,\n",
       "       4., 4., 2., 2., 1., 1., 2., 3., 1., 3., 2., 1., 1., 1., 1., 4., 2.,\n",
       "       1., 1., 1., 1., 4., 1., 1., 2., 3., 1., 1., 3., 1., 2., 1., 2., 1.,\n",
       "       3., 1., 1., 1., 2., 6., 2., 3., 1., 1., 3., 2., 1., 2., 1., 1., 2.,\n",
       "       2., 1., 2., 4., 3., 1., 2., 2., 2., 1., 2., 1., 2., 1., 1., 1., 2.,\n",
       "       2., 2., 1., 2., 4., 2., 3., 1., 4., 4., 1., 3., 1., 3., 4., 3., 2.,\n",
       "       4., 1., 1., 2., 2., 1., 2., 1., 2., 6., 1., 2., 1., 2., 1., 1., 1.,\n",
       "       1., 2., 1., 1., 2., 2., 1., 1., 2., 1., 1., 1., 1., 1., 1., 2., 3.,\n",
       "       4., 1., 1., 1., 1., 1., 3., 1., 1., 1., 3., 1., 1., 3., 2., 5., 1.,\n",
       "       6., 4., 4., 1., 1., 3., 4., 2., 2., 1., 1., 1., 2., 1., 1., 1., 1.,\n",
       "       1., 4., 1., 1., 1., 1., 3., 1., 1., 1., 1., 1., 1., 2., 1., 2., 1.,\n",
       "       1., 1., 2., 1., 2., 1., 1., 2., 2., 2., 1., 1., 1., 1., 1., 1., 2.,\n",
       "       5., 2., 6., 6., 1., 1., 1., 2., 4., 1., 4., 3., 2., 1., 2., 1., 1.,\n",
       "       1., 1., 1., 1., 1., 1., 2., 1., 1., 1., 2., 1., 1., 1., 1., 2., 2.,\n",
       "       2., 2., 1., 1., 4., 2., 1., 2., 3., 3., 1., 2., 1., 1., 1., 2., 1.,\n",
       "       2., 2., 1., 1., 1., 2., 1., 2., 1., 1., 3., 1., 4., 1., 1., 2., 1.,\n",
       "       1., 3., 4., 1., 2., 4., 2., 1., 1., 2., 4., 4., 1., 1., 1., 1., 1.,\n",
       "       2., 1., 2., 1., 2., 1., 1., 1., 1., 3., 1., 1., 4., 2., 2., 1., 2.,\n",
       "       1., 2., 2., 2., 1., 2., 1., 2., 2., 1., 3., 1., 1., 4., 1., 2., 1.,\n",
       "       2., 3., 1., 1., 1.])"
      ]
     },
     "execution_count": 63,
=======
       "array([3., 2., 3., 5., 4., 1., 1., 1., 1., 2., 1., 1., 2., 1., 3., 2., 1.,\n",
       "       1., 1., 1., 1., 1., 4., 2., 2., 2., 1., 2., 4., 2., 1., 1., 1., 2.,\n",
       "       1., 1., 1., 1., 1., 2., 1., 1., 1., 1., 2., 1., 4., 1., 2., 1., 1.,\n",
       "       1., 2., 5., 1., 2., 1., 2., 1., 1., 1., 3., 1., 4., 1., 1., 1., 2.,\n",
       "       1., 1., 1., 1., 1., 1., 4., 2., 1., 4., 1., 1., 3., 4., 1., 2., 1.,\n",
       "       2., 2., 1., 1., 3., 1., 3., 1., 2., 4., 4., 5., 1., 2., 2., 5., 1.,\n",
       "       2., 1., 2., 1., 2., 1., 1., 1., 2., 1., 1., 3., 1., 1., 1., 1., 2.,\n",
       "       1., 1., 1., 1., 3., 1., 3., 1., 1., 1., 1., 1., 3., 1., 2., 4., 2.,\n",
       "       1., 1., 6., 1., 1., 1., 1., 1., 1., 1., 4., 6., 1., 1., 2., 4., 3.,\n",
       "       1., 1., 1., 1., 2., 4., 4., 3., 1., 2., 1., 1., 1., 1., 1., 2., 1.,\n",
       "       2., 1., 1., 2., 1., 2., 2., 1., 2., 4., 1., 4., 1., 2., 5., 2., 2.,\n",
       "       1., 1., 1., 2., 1., 2., 1., 1., 1., 4., 1., 1., 2., 1., 1., 4., 2.,\n",
       "       1., 1., 2., 2., 1., 2., 1., 1., 2., 1., 2., 1., 2., 3., 1., 1., 1.,\n",
       "       1., 1., 4., 3., 1., 1., 1., 1., 2., 2., 1., 2., 1., 2., 1., 2., 1.,\n",
       "       1., 1., 1., 2., 1., 1., 1., 2., 1., 2., 1., 1., 1., 1., 2., 4., 1.,\n",
       "       3., 1., 3., 1., 1., 2., 4., 3., 1., 1., 1., 1., 1., 2., 1., 2., 1.,\n",
       "       1., 1., 1., 4., 3., 1., 1., 3., 1., 1., 2., 1., 1., 2., 2., 1., 1.,\n",
       "       2., 1., 4., 1., 1., 1., 2., 1., 1., 3., 1., 1., 1., 1., 4., 1., 1.,\n",
       "       1., 4., 3., 1., 4., 4., 5., 1., 2., 1., 1., 1., 1., 1., 2., 1., 1.,\n",
       "       2., 6., 1., 1., 2., 1., 1., 1., 1., 2., 1., 1., 2., 2., 1., 4., 3.,\n",
       "       1., 1., 4., 2., 4., 1., 3., 1., 4., 1., 4., 1., 5., 1., 2., 2., 1.,\n",
       "       1., 2., 2., 1., 1., 1., 3., 2., 2., 2., 1., 2., 1., 1., 1., 3., 1.,\n",
       "       1., 1., 1., 1., 1., 1., 2., 5., 1., 2., 4., 3., 1., 3., 3., 2., 2.,\n",
       "       1., 4., 1., 6., 2., 2., 2., 2., 4., 1., 2., 5., 1., 1., 1., 1., 1.,\n",
       "       1., 4., 1., 4., 6., 1., 6., 1., 2., 1., 1., 1., 1., 1., 1., 2., 4.,\n",
       "       1., 1., 1., 1., 3., 1., 1., 2., 2., 1., 1., 1., 1., 1., 1., 1., 2.,\n",
       "       1., 1., 1., 1., 3., 1., 4., 4., 4., 2., 4., 4., 1., 2., 1., 1., 2.,\n",
       "       4., 3., 1., 2., 1., 1., 1., 3., 3., 4., 1., 2., 1., 1., 3., 2., 2.,\n",
       "       1., 1., 1., 1., 3., 1., 1., 2., 1., 2., 1., 1., 1., 1., 1., 1., 3.,\n",
       "       2., 1., 2., 1., 1., 1., 1., 2., 1., 1., 2., 1., 4., 2., 2., 1., 1.,\n",
       "       1., 2., 1., 1., 2., 4., 2., 1., 1., 1., 1., 1., 1., 4., 1., 4., 1.,\n",
       "       4., 1., 1., 1., 1., 2., 1., 2., 3., 2., 2., 1., 1., 1., 1., 1., 2.,\n",
       "       1., 4., 2., 1., 2., 1., 1., 2., 2., 2., 1., 2., 3., 1., 1., 1., 1.,\n",
       "       2., 1., 1., 1., 2., 2., 1., 4., 1., 4., 1., 2., 3., 2., 4., 1., 4.,\n",
       "       1., 1., 1., 1., 4., 2., 4., 2., 1., 2., 1., 1., 2., 1., 3., 1., 1.,\n",
       "       3., 1., 2., 1., 1.])"
=======
       "array([1., 1., 1., 2., 2., 4., 1., 1., 1., 2., 1., 1., 1., 3., 1., 1., 4.,\n",
       "       1., 2., 1., 2., 1., 1., 1., 1., 2., 5., 1., 4., 2., 1., 2., 1., 3.,\n",
       "       1., 3., 1., 1., 1., 1., 1., 2., 1., 1., 3., 1., 1., 1., 3., 2., 3.,\n",
       "       1., 2., 1., 1., 1., 1., 1., 4., 1., 1., 1., 1., 4., 1., 2., 3., 1.,\n",
       "       1., 2., 1., 1., 1., 5., 1., 2., 3., 1., 1., 2., 1., 1., 2., 1., 1.,\n",
       "       3., 1., 1., 4., 1., 2., 1., 1., 1., 2., 3., 1., 1., 1., 2., 1., 1.,\n",
       "       2., 1., 1., 1., 2., 1., 2., 2., 2., 1., 2., 1., 2., 1., 1., 1., 1.,\n",
       "       1., 1., 1., 1., 3., 1., 1., 1., 1., 2., 1., 2., 1., 2., 3., 1., 4.,\n",
       "       1., 1., 1., 2., 1., 4., 1., 1., 2., 1., 1., 2., 4., 1., 3., 2., 1.,\n",
       "       1., 4., 1., 1., 1., 3., 1., 3., 1., 4., 1., 1., 4., 1., 1., 1., 1.,\n",
       "       1., 1., 4., 1., 2., 1., 1., 1., 2., 1., 1., 1., 2., 1., 1., 1., 2.,\n",
       "       1., 1., 1., 2., 1., 2., 1., 1., 1., 1., 1., 1., 1., 1., 1., 1., 1.,\n",
       "       4., 1., 1., 1., 1., 1., 1., 2., 1., 1., 6., 1., 2., 1., 1., 1., 2.,\n",
       "       1., 1., 1., 1., 1., 1., 1., 3., 5., 2., 4., 1., 1., 1., 1., 5., 1.,\n",
       "       1., 1., 1., 1., 1., 2., 5., 2., 1., 1., 1., 2., 1., 2., 1., 2., 2.,\n",
       "       3., 3., 2., 4., 2., 4., 1., 2., 1., 1., 1., 2., 1., 4., 1., 1., 1.,\n",
       "       1., 1., 2., 1., 4., 1., 1., 1., 1., 1., 1., 1., 1., 1., 1., 2., 1.,\n",
       "       4., 3., 4., 1., 2., 4., 3., 1., 1., 2., 1., 1., 2., 2., 4., 1., 2.,\n",
       "       2., 1., 1., 1., 1., 1., 3., 1., 1., 4., 2., 1., 1., 1., 1., 1., 1.,\n",
       "       1., 1., 1., 1., 1., 1., 1., 2., 1., 2., 2., 4., 1., 1., 2., 1., 1.,\n",
       "       1., 2., 1., 3., 1., 2., 2., 4., 1., 4., 1., 1., 1., 3., 1., 2., 1.,\n",
       "       1., 2., 2., 4., 1., 1., 1., 4., 1., 1., 3., 1., 1., 2., 1., 2., 1.,\n",
       "       5., 1., 2., 4., 1., 4., 2., 2., 1., 2., 5., 2., 2., 2., 2., 1., 1.,\n",
       "       2., 1., 3., 1., 1., 1., 3., 2., 1., 1., 4., 1., 1., 1., 2., 2., 1.,\n",
       "       1., 1., 4., 2., 1., 1., 1., 1., 1., 1., 1., 1., 1., 1., 3., 1., 2.,\n",
       "       1., 2., 3., 6., 1., 1., 1., 2., 1., 1., 2., 1., 3., 1., 1., 2., 1.,\n",
       "       1., 1., 1., 1., 4., 1., 2., 2., 1., 1., 2., 2., 2., 2., 1., 4., 1.,\n",
       "       4., 2., 4., 2., 1., 1., 1., 1., 4., 2., 1., 1., 2., 1., 1., 2., 2.,\n",
       "       1., 4., 1., 1., 1., 1., 4., 1., 1., 1., 1., 2., 1., 2., 1., 1., 1.,\n",
       "       2., 1., 2., 6., 1., 3., 2., 2., 2., 1., 1., 2., 1., 1., 1., 1., 2.,\n",
       "       1., 1., 1., 2., 1., 4., 1., 2., 1., 1., 1., 3., 1., 1., 1., 1., 1.,\n",
       "       4., 1., 1., 1., 1., 2., 1., 1., 3., 1., 1., 5., 3., 1., 4., 1., 3.,\n",
       "       1., 4., 2., 1., 1., 1., 2., 3., 1., 1., 1., 2., 3., 1., 1., 2., 2.,\n",
       "       2., 1., 1., 1., 1., 2., 1., 1., 1., 1., 2., 1., 2., 1., 1., 4., 1.,\n",
       "       1., 4., 1., 2., 3., 2., 2., 2., 1., 1., 2., 3., 1., 4., 1., 1., 1.,\n",
       "       1., 1., 3., 1., 1., 1., 1., 4., 1., 4., 1., 1., 1., 2., 2., 1., 1.,\n",
       "       1., 2., 2., 1., 4., 1., 1., 2., 2., 2., 4., 2., 3., 2., 1., 1., 1.,\n",
       "       3., 1., 1., 1., 4., 2., 2., 2., 2., 2., 3., 1., 1., 1., 2., 1., 2.,\n",
       "       1., 4., 1., 1., 1., 3., 2., 2., 2., 3., 1., 1., 2., 1., 1., 4., 1.,\n",
       "       1., 1., 4., 1., 2., 1., 1., 3., 1., 3., 1., 1., 1., 1., 4., 1., 1.,\n",
       "       1., 5., 1., 2., 1., 1., 3., 1., 3., 1., 1., 3., 1., 3., 1., 1., 2.,\n",
       "       1., 1., 1., 1., 2., 1., 2., 1., 4., 1., 1., 2., 1., 1., 1., 1., 2.,\n",
       "       1., 1., 1., 1., 2., 2., 1., 1., 1., 1., 1., 1., 4., 2., 1., 2., 1.,\n",
       "       1., 2., 2., 2., 1., 2., 1., 1., 1., 2., 2., 1., 2., 3., 1., 1., 1.,\n",
       "       1., 1., 3., 1., 4., 1., 1., 2., 2., 1., 1., 1., 1., 1., 1., 1., 1.,\n",
       "       1., 1., 1., 1., 1., 2., 1., 2., 4., 2., 1., 2., 1., 3., 1., 1., 1.,\n",
       "       1., 1., 1., 3., 1., 2., 1., 2., 3., 1., 1., 1., 3., 1., 1., 1., 1.,\n",
       "       1., 1., 1., 1., 3., 1., 1., 1., 1., 3., 1., 1., 1., 1., 1., 1., 1.,\n",
       "       1., 2., 1., 1., 3., 1., 2., 2., 2., 1., 2., 1., 1., 1., 1., 2., 2.,\n",
       "       1., 3., 1., 1., 2., 3., 4., 2., 1., 1., 3., 1., 1., 1., 1., 2., 2.,\n",
       "       1., 1., 1., 1., 1., 2., 2., 1., 1., 1., 1., 1., 1., 1., 3., 1., 1.,\n",
       "       1., 1., 3., 2., 4., 1., 1., 1., 1., 1., 1., 2., 1., 2., 3., 1., 2.,\n",
       "       1., 1., 1., 1., 1., 1., 1., 1., 1., 1., 1., 1., 1., 1., 2., 2., 3.,\n",
       "       4., 1., 2., 1., 1.])"
>>>>>>> new
      ]
     },
     "execution_count": 18,
>>>>>>> 56b924b9eef64f23282d36a3febab8deae55b76a
     "metadata": {},
     "output_type": "execute_result"
    }
   ],
   "source": [
    "predicted_output = mymodel.predict(X_test)\n",
    "predicted_output"
   ]
  },
  {
   "attachments": {},
   "cell_type": "markdown",
   "metadata": {},
   "source": [
    "### **ĐÁNH GIÁ MÔ HÌNH**"
   ]
  },
  {
   "attachments": {},
   "cell_type": "markdown",
   "metadata": {},
   "source": [
    "#### 1. **Confusion Matrix** (ma trận kiểm chứng tính đúng sai giữa true label và predicted label)"
   ]
  },
  {
   "cell_type": "code",
<<<<<<< HEAD
<<<<<<< HEAD
   "execution_count": 64,
=======
   "execution_count": 26,
>>>>>>> 56b924b9eef64f23282d36a3febab8deae55b76a
=======
   "execution_count": 19,
>>>>>>> new
   "metadata": {},
   "outputs": [
    {
     "data": {
      "text/plain": [
<<<<<<< HEAD
<<<<<<< HEAD
       "array([[315,  15,   0,   0,   0,   0],\n",
       "       [ 14, 142,   0,   5,   0,   0],\n",
       "       [  0,   0,  43,   4,   0,   0],\n",
       "       [  0,   5,   0,  42,   0,   0],\n",
       "       [  0,   0,   4,   0,   3,   1],\n",
       "       [  0,   0,   0,   0,   2,   5]], dtype=int64)"
      ]
     },
     "execution_count": 64,
=======
       "array([[329,  10,   0,   0,   0,   0],\n",
       "       [ 17, 125,   0,   5,   0,   0],\n",
       "       [  0,   1,  36,   6,   1,   2],\n",
       "       [  0,   3,   4,  47,   0,   0],\n",
       "       [  0,   0,   2,   0,   5,   0],\n",
       "       [  0,   0,   0,   0,   3,   4]], dtype=int64)"
      ]
     },
     "execution_count": 26,
>>>>>>> 56b924b9eef64f23282d36a3febab8deae55b76a
=======
       "array([[548,   8,   0,   0,   0,   0],\n",
       "       [ 21, 178,   0,   6,   0,   0],\n",
       "       [  0,   0,  63,  12,   1,   0],\n",
       "       [  0,  10,   1,  45,   0,   0],\n",
       "       [  0,   0,   1,   0,   5,   0],\n",
       "       [  0,   0,   1,   0,   3,   3]], dtype=int64)"
      ]
     },
     "execution_count": 19,
>>>>>>> new
     "metadata": {},
     "output_type": "execute_result"
    }
   ],
   "source": [
    "test = confusion_matrix(y_test, predicted_output)\n",
    "test"
   ]
  },
  {
   "cell_type": "code",
<<<<<<< HEAD
<<<<<<< HEAD
   "execution_count": 65,
=======
   "execution_count": 27,
>>>>>>> 56b924b9eef64f23282d36a3febab8deae55b76a
=======
   "execution_count": 20,
>>>>>>> new
   "metadata": {},
   "outputs": [
    {
     "data": {
<<<<<<< HEAD
<<<<<<< HEAD
      "image/png": "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",
=======
      "image/png": "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",
>>>>>>> 56b924b9eef64f23282d36a3febab8deae55b76a
=======
      "image/png": "iVBORw0KGgoAAAANSUhEUgAAAbwAAAFzCAYAAABFDry+AAAAOXRFWHRTb2Z0d2FyZQBNYXRwbG90bGliIHZlcnNpb24zLjYuMiwgaHR0cHM6Ly9tYXRwbG90bGliLm9yZy8o6BhiAAAACXBIWXMAAA9hAAAPYQGoP6dpAABUEElEQVR4nO3deXxM1/vA8c8kkliyySILompJxL5V0hZFiLW2lqolSlFCVUrJtwiqglaVqqXVii5KKVqUNrVE1R5SW6QoYklCEgkhm2R+f/iZdmrLTGYymbnP2+u+Xp1zt+eYxpNz7jn3qNRqtRohhBDCwlmZOgAhhBCiJEjCE0IIoQiS8IQQQiiCJDwhhBCKIAlPCCGEIkjCE0IIoQiS8IQQQiiCJDwhhBCKIAlPCCGEIpQxdQDGoGpfxdQhGNTtradNHYJBWank9ywhdFXWurxBr1ecfyfV0ZcNGEnJsciEJ4QQ4glUKlNHUOIk4QkhhBIpsKNFEp4QQiiRAlt4CszxQgghlEhaeEIIoUTKa+BJwhNCCEVSYJemJDwhhFAiBT7QkoQnhBBKJC08IYQQiqC8fKfERq0QQgglkhaeEEIokZXymniS8IQQQomUl+8k4QkhhCLJoBUhhBCKoLx8JwlPCCEUSYHP8GSUphBCCEWQFp4QQiiR8hp4kvCEEEKRZNCKEEIIRZBneJZBHX0ZdfRl4r/Y9chjQjq8rDnu/pa95azRYxv1Ygjnv95H9paz7F+4iea+jTT7Kjo4szD0PU5/GcOdzWe5+O0BFoyaYbRYCgoK+HThYrp06EZAk2fp1vFFPlvyOWq12mj3LAmrV62hU1BnmjdqQf++Azl+7ISpQyoWS6qPJdUFzLw+qmJsZsoiE55nn8Z49mnM8+N6Pva4zNs3Ncd69mlMtf4BxbpvSIeX2fnh2kfu79O6Gx+NmMr0b+bTZGQn/vz7FL9EfoO7sysA3q4eeLt6MP6z96g3rB2DPxhHx+YvYGtVtlhxPUrUFytZt2Ydk959h/Wb1vHmuDdZ+eVXfPftaqPcryRs2/oLH86Zx4hRI1i9bhW+frUZOXwUaWnppg5NL5ZUH0uqC1hAfVQq/TczZZEJL+XGdVJuXCft5o3HHqdWqzXHpty4zrWMVK39tja2fDB8Mpe/O0zWT3+xf+EmWjcI1DuusN7D+Xzrd0T98j3xiWd4Y8Ek7uTmMCT4FQBOXkjgpRnD2bz/N/5OusjOuL28u2IO1iprve/5OH/G/Unrti/QsnVLvCt70z44iIBnAzh5/KRR7lcSvo76hl4v96JHr+7UqFmDyRHvUrZsWTau32jq0PRiSfWxpLqA5dXHWKZNm4ZKpdLa/Pz8NPtzcnIIDQ3F1dUVe3t7evfuTUpKitY1EhMT6dKlC+XLl6dSpUpMmDCBu3fv6hyLSRNeamoqc+fOpWfPngQGBhIYGEjPnj354IMPuH79ut7XPffVH3wz6ROquns/9jj7chW48M1+Er89yMbpX+BfrbbW/kWjZxLo35RX3h9FgxHtWbt7M9siv6Zm5eo6x2RTxoamtevz25HfNWVqtZrfjvxOoH+TR57nVMFR53sVVcNGDTm4/yAXL1wEIOH0X8QdjeO5ls8a7Z7GlJ+XT/ypeAICWmjKrKysCAhswbG4YyaMTD+WVB9LqgtYSH1KsEuzbt26JCUlabY9e/Zo9o0bN45Nmzaxdu1aYmJiuHr1Kr169dLsLygooEuXLuTl5bF3715WrlxJVFQUU6dO1TkOkyW8Q4cOUbt2bRYuXIiTkxOtWrWiVatWODk5sXDhQvz8/Dh8+PATr5Obm8vNmze5c+cOd+7cISsri5Efh1Pdsyq/z1+PfbkKDz0v4dI5hnz4Nt0jhjBgzptYqazYu2Ajld28AKjq7s1rwX14+b032HPiIH8nXWTeumXsOXGI14L76FxfNycXyliXIeWGdiJPuZGKZ8VKDz3H1bEiU/qP5a46X+f7FcVrrw8muFMHenbtTfOGz9DvpVd5dWA/OnftbJT7GduNjBsUFBTg6uaiVe7q6kpqapqJotKfJdXHkuoCFlIfK5X+m47KlCmDp6enZnNzcwMgMzOTL774go8++oi2bdvStGlTVqxYwd69e9m/fz8Av/76K6dOneKbb76hUaNGdOrUiffee49PP/2UvLw83eLQOXIDGTNmDC+//DJLly5F9Z8+YbVazRtvvMGYMWPYt2/fY68TGRnJ9OnTtQurO3AgIY6L3+6nT+tufLntwWdS++OPsD/+iObz3pOHif9iFyO69Gfqyg+pX92PMtZl+GvFbq3z7GxsNV2lVd29OfXFTs2+MtbW2FjbcOunBE3ZrO8+IfK7RY//y3gIh/L2bJn5FacunsHd1Vnn84vi123RbN2yjVlz36dGzadJOP0XH86eh7u7Oy/26GaUewohSokSfBR35swZvL29KVu2LIGBgURGRuLj40NsbCz5+fkEBQVpjvXz88PHx4d9+/YREBDAvn37qF+/Ph4eHppjgoODGTlyJCdPnqRx48ZFjsNkCe/PP/8kKirqgWQHoFKpGDduXJEqEh4eTlhYmFaZU886ZN6+yV+X/6am91NFiuduwV2OnjtBzcr3jrcvV4G7BXdpOqoTBYWFWsdmZd8G4GpaCo3eCNaU93q+E72f70z/2WM0Zem3MgBIzUznbsFdPCq6a13Lo6IbyTeuaZXZl6vAtlnfcCs7i57TXif9pz+LVAddfTxvAa8NHUzHzvfqUKt2LZKuJrFi+QqzTHgVnStibW1NWqr2oIG0tDTc3FxNFJX+LKk+llQXsJD6FGPwSW5uLrm5uVpldnZ22NnZPXBsixYtiIqKwtfXl6SkJKZPn07Lli05ceIEycnJ2Nra4uzsrHWOh4cHycnJACQnJ2slu/v77+/Thcm6ND09PTl48OAj9x88ePCBSj6MnZ0djo6OWhtWKiqULU8Nr6dISr/2xGvAvf73+k/5kZR27/ijZ09QxroMlZzdOHf1gtZ2v1uyoLBAq/xaRirZeTlaZTf+P+Hl380n9q/jtGv8vOaeKpWKdo2fZ9+pf1qaDuXt+XX2KvLu5vPi1NfIzdf+n8qQcrJzUP2ne8LK2orCQvOclmBja0Md/zoc2H9AU1ZYWMiB/Qdp0KiBCSPTjyXVx5LqAhZSHyv9t8jISJycnLS2yMjIh96mU6dOvPzyyzRo0IDg4GB+/vlnMjIy+P77741exf8yWQtv/PjxDB8+nNjYWNq1a6dJbikpKWzfvp3PP/+cDz/8UK9rB/o3ZfqgtykoLOC7nRsBWPnOx1xJTeZ/X84GYMqAt9gff4SzVy7gbO/IhD5vUM2jCsu3fgfAmSvn+ea39Xz1zse8/dl7HD17AncnV9o1fo5jf8fz88EdOsf10Q+fsfKd+Rz+608OJsTxVs/XqVC2HCt+WQP8k+zK25VjwOw3cSzvgGN5B+71PRg+CbV6oSVffPYlXl6e1KhZg9Pxp/lm5bf06Nnd4PcqKQMHD2BK+FTq1vOnXv16fPPVKrKzs822TpZUH0uqC1hefXTxsJ61h7XuHsbZ2ZnatWtz9uxZ2rdvT15eHhkZGVqtvJSUFDw9PYGHN47uj+K8f0xRmSzhhYaG4ubmxvz581m8eDEFBQUAWFtb07RpU6KioujTR/fBIQDfT17KnhMHCXjzRVIz73U5+FSqTKH6n67JivZOfD5uLp4V3bmRlUnsmeM8O7Y78YlnNMe89mEYk/uPZd7wKVR28yT1Zjr744+yef92/eKK2YS7syszQsbjWdGduHOn6Pi/gZrpEE1q1iegzr0Rm+e++kPr3Oy7t1EbOOlNfPcdFi9cwqz3ZnMj/Qbuldx46eXeDB85zKD3KUkdOwVzI/0Giz9ZQmpqGr5+vixe9imu5tLN9B+WVB9LqgtYQH2K0aX5qO7LosjKyuLcuXMMHDiQpk2bYmNjw/bt2+nduzcACQkJJCYmEhh4bwpYYGAg77//PteuXaNSpXsD/KKjo3F0dMTf31+ne6vUpeC1Gvn5+aSm3vtH383NDRsbm2JdT9W+iiHCKjVubz1t6hAMykplkdM/hTCqstblDXo91bA6ep+r/jy+yMeOHz+ebt26Ua1aNa5evUpERARxcXGcOnUKd3d3Ro4cyc8//0xUVBSOjo6MGXNvDMTevXuBe9MSGjVqhLe3N3PnziU5OZmBAwfy+uuvM2vWLJ3iLhXv0rSxscHLy8vUYQghhHKU0BtTLl++TL9+/UhLS8Pd3Z3nn3+e/fv34+5+bwDf/PnzsbKyonfv3uTm5hIcHMzixYs151tbW7N582ZGjhxJYGAgFSpUICQkhBkzdH/tYqlo4RmatPBKN2nhCaE7g7fw3tCtO/Df1EtPGTCSklMqWnhCCCFKmBm/E1Nf8qu2EEIIRZAWnhBCKJHyGniS8IQQQpEUuACsJDwhhFAiBT7Dk4QnhBBKpLx8JwlPCCGU6GEv7rd0MkpTCCGEIkgLTwghFEiJLTxJeEIIoUAKzHeS8IQQQomsFJjxJOEJIYQCSZemEEIIRVBiwpNRmkIIIRRBWnhCCKFASmzhScITQggFUmC+k4QnhBBKJC08IYQQiiAJz0Lc/PmEqUMwqOjLW00dgkEFV+1i6hAMRo3a1CEYlEqJbxRWKCV+1zJKUwghhCJYZAtPCCHE40mXphBCCEVQYL6ThCeEEEok79IUQgihCNKlKYQQQhGUmPBklKYQQghFkBaeEEIokAIbeJLwhBBCiZTYpSkJTwghFEgSnhBCCEWQhCeEEEIRlJjwZJSmEEIIRZAWnhBCKJACG3iS8IQQQomU2KUpCU8IIRRIEp4QQghFUOLLo2XQihBCCEWQFp4QQiiQAht4kvAeZ8XnUez8bRcXzl/ErqwdDRrVZ8y40TxVvZrmmPVrN7Bty68kxJ/m9u077Nz7Gw6ODsW+95HDR/l6xTfEnzpN6vVUBkW8Sr1n/R9/zo44Yr7fQ+rVNMpWsMO3WW26DOtIBcfyxY7nUc79+TebPttKysVrOLs50e7VF2jWoYlm/47VMZz44xTXLl3HxtaGp/x98J1cl6eqP2W0mFavWsPKL1eSmppGbd/aTHp3IvUb1DPa/YwpJeUaC+Yt4I/f95KTk0NVn6pMf38ades9/v+F0sqSvhsw7/oo8RmedGk+xpHDR3m530usWPUFn362kLv5dxk9/E2y72RrjsnJyeHZ5wN4bdhgg947OzubWr61mPjuhCIdf+HkRdZ88APNOzbl7c/GMODdV7iUcJkfPt6odwzpyTd4J3jyY/an8+WUr6nR4GneWhzK8z2fZd38jSQcPqM55u9jF3i2WwtGfzyCYZGDKSgo4I3XR3LnX3+HhrRt6y98OGceI0aNYPW6Vfj61Wbk8FGkpaUb5X7GdDPzJoP7v0aZMmVYtOwT1m9aR9g743A0wC9UpmBJ3w2Yf31UxfhjrqSF9xifLFug9Xna+1Np36oj8adO06RZYwBeHdgPgMMHYw167+daPstzLZ8t8vEXT12iooczz/cIBMDF04WALs3Z9f3vWscd2HqY33/4g/TkG1T0cOa5HoE8262FXjHu33wIF8+KdBvRCQAPn0pcOHmR39fvxbdZLQBenxWidU6ft3szo28k8adO0bRZU73u+zhfR31Dr5d70aNXdwAmR7zL7pjf2bh+I0OHDTH4/YxpxRdReHp6MGPWdE1Z5SqVTRhR8VjSdwPmXx9p4YnHysrKAsDRydHEkTyomn9VMq/fJP5gAmq1mls3sjj2+0l8m9fWHHNkRxy/frWd4MFBjF/+Jh1fa8+vK3/jcPQRve55MT6RWo1raJXVblqTxPjER56TczsHAEcnJ73u+Tj5efnEn4onIOCfBG5lZUVAYAuOxR0z+P2MLWZHDP71/Bn/1ju0eb4dfXv144e1600dll4s7buxhPqoVCq9N3NVqlt4ly5dIiIigi+//NLUoVBYWMi82fNp2LgBNWvVePIJJeyputXoN/Flvp21hrt5dyksKKROgB89R3fTHBP91Q66Du9I/efrAvdagdcSr3FgyyGatW/yqEs/0q0bWdhXtNcqs69oT86dXPJz87Gxs9HaV1hYyE9Lf6ZRk0bUqlVTj1o+3o2MGxQUFODq5qJV7urqyvm/Lxj8fsZ2+fIV1q5ex4CQ/rw+fAgnTpxk7qwPsLGx4cUe3Z58gVLE0r4bS6uPUpTqhJeens7KlSsfm/Byc3PJzc3VKsuzysXOzs6gscyZ+QHnzv7N8q+WGfS6hpJy8Ro/LtlCUP82+Datxc30W2xZvo31C3/k5bBe5OXkkZaUzrr5G/nh4x815xUWFFK2wj9/V/OGLeTGtQwA1Go1AJO7z9Dsr16vGkPf1+6mLKqNizaTcjGFNd+t1ut8pSksLMS/nj9vjhsDgJ+/H+fOnGPdmnVml/BE6WPGDTW9mTTh/fTTT4/d//fffz/xGpGRkUyfPl2rbNLkifxv6qRixfZvc97/gD0xe/hs5TI8PD0Mdl1D2rkmhqfq+vDCyy0B8HraE9uyNix5eznBIe1RWd37v7v3W93x8a2qda6V9T//5w+ZOZCCu4UAZKbdZNmEL3hrcahm/79bbQ4V7cm6kaV1rawbWZQtb/dA627jok3EHzjNyHmvG+3vsKJzRaytrUlL1R40kJaWhpubq1HuaUzu7m7UqPG0Vln1GtX5LXq7iSLSn6V9N5ZQH3PumtSXSRNejx49UKlUmpbEwzzpSwkPDycsLEyrLM/KMCMA1Wo1c2d9yK7tMSxbsZjKVbwNcl1jyMvJx8pa+5GsldW9z2rUOFZ0wNHVgfSkGzRp2+iR16noUfGf8///em6VH/4DXK2OD6cP/aVVdubIOXzq+Gg+q9Vqfvx0Myf2nmLEB0Nx8XT572UMxsbWhjr+dTiw/wBtg9oA91pJB/Yf5JVX+xrtvsbSsEkjLpy/oFV28cJFvLy9TBNQMVjad2MJ9VFiwjPpoBUvLy/Wr19PYWHhQ7cjR548mMLOzg5HR0etzVDdmXNmfsDWzduYOWcG5StUIDU1jdTUNHJycjTHpKamkXD6Ly4nXgbg7JmzJJz+i8zMzGLd+86dOySc/ouE0/cSSnryDa6eS9J0N2798ldWz12nOd4/wI8Tf5xi36YDpCWlc+HkRX5csoWqvlVwcr03yKb9wHbsXLObPRv3cf1yKknnkzn0Syy7f/hDrxgDujYnLSmdLcu3cS3xOns3HeDY7hO07PXP6NKNizZxZMef9JvUh7Ll7LiVfovU66laf4eGNHDwANav28BPG3/i73N/M3P6LLKzs+nRs7tR7mdMAwb15/ixEyxf9gWJFxP5efNWfli7nr79+pg6NL1Y0ncD5l8fUwxamT17NiqVirfeektTlpOTQ2hoKK6urtjb29O7d29SUlK0zktMTKRLly6UL1+eSpUqMWHCBO7evavz/U3awmvatCmxsbF07/7w/0Ge1PoztnVrfgBgxGsjtcojZk6hW4+uAPywZj2fL1mu2Tcs5I0HjtHHqRPxvDFklObz5mVbAWjavjF9x/fmZvotMq5naPY369CE3Oxc9v50gM2fb6NshbLUbPQ0nYcGa45p0akZtnY2xKzbw5bl27C1s8WzugctexZ9+sO/uXi6MOS9gWxatpU9G/fh5ObIS+N6aKYkAOzbfBCAZRO+0JS9xxxmvD+d7j1f1Ou+j9OxUzA30m+w+JMlpKam4evny+Jln+JqJt1M/1avfl0+WvghC+cv4rMln1O5ijcTJo2nS7fOpg5NL5b03YD516ekG3iHDh1i2bJlNGjQQKt83LhxbNmyhbVr1+Lk5MTo0aPp1asXf/xx7xfxgoICunTpgqenJ3v37iUpKYlBgwZhY2PDrFmzdIpBpTZhRvn999+5ffs2HTt2fOj+27dvc/jwYVq3bq3TdW/lZxggutJjx5VoU4dgUMFVu5g6BINRY7pfyIzBnCcVW7qy1oZ9Y5Lv/If/u1sUCeO26XR8VlYWTZo0YfHixcycOZNGjRrx8ccfk5mZibu7O6tWreKll14C4PTp09SpU4d9+/YREBDA1q1b6dq1K1evXsXD497z/6VLlzJx4kSuX7+Ora1tkeMwaZdmy5YtH5nsACpUqKBzshNCCPFkxenSzM3N5ebNm1rbf0fL/1toaChdunQhKChIqzw2Npb8/Hytcj8/P3x8fNi3bx8A+/bto379+ppkBxAcHMzNmzc5efKkTnXWK+GdO3eOyZMn069fP65duwbA1q1bdb65EEII0yhOwouMjMTJyUlri4yMfOh9Vq9ezZEjRx66Pzk5GVtbW5ydnbXKPTw8SE5O1hzz72R3f//9fbrQOeHFxMRQv359Dhw4wPr16zVvH/nzzz+JiIjQ9XJCCCFMoDgJLzw8nMzMTK0tPDz8gXtcunSJsWPH8u2331K2bFkT1FKbzglv0qRJzJw5k+joaK2+07Zt27J//36DBieEEMI4VCr9t6KOjo+NjeXatWs0adKEMmXKUKZMGWJiYli4cCFlypTBw8ODvLw8MjIytM5LSUnB09MTAE9PzwdGbd7/fP+YotI54R0/fpyePXs+UF6pUiVSU1N1vZwQQggTKIlpCe3ateP48ePExcVptmbNmtG/f3/Nf9vY2LB9+z8vU0hISCAxMZHAwHsvwg8MDOT48eOax2cA0dHRODo64u+v2zJZOk9LcHZ2JikpierVq2uVHz16lMqVzfdN7kIIIQzLwcGBevW01wesUKECrq6umvKhQ4cSFhaGi4sLjo6OjBkzhsDAQAICAgDo0KED/v7+DBw4kLlz55KcnMzkyZMJDQ3Vec61zi28V155hYkTJ5KcnIxKpaKwsJA//viD8ePHM2jQIF0vJ4QQwgRKy2oJ8+fPp2vXrvTu3ZtWrVrh6enJ+vX/rApibW3N5s2bsba2JjAwkAEDBjBo0CBmzJjxmKs+nM7z8PLy8ggNDSUqKoqCggLKlClDQUEBr776KlFRUVhbW+schKHJPLzSTebhlV4yD6/0MvQ8vAaL9X/xw7FRj38Pcmmlc5emra0tn3/+OVOmTOHEiRNkZWXRuHFjatWq9eSThRBClAoKfJWm/q8W8/HxwcfH58kHCiGEKHWU+PJonRPekCGPX7q+NCzWKoQQ4gkk4T3ZjRs3tD7n5+dz4sQJMjIyaNu2rcECE0IIIQxJ54S3YcOGB8oKCwsZOXIkNWrUMEhQQgghjEuJXZoGeXm0lZUVYWFhzJ8/3xCXE0IIYWTFedOKuTLYenjnzp3Ta0E+IYQQJU+JLTydE15YWJjWZ7VaTVJSElu2bCEkJMRggQkhhDAeSXhFcPToUa3PVlZWuLu7M2/evCeO4BRCCFE6SMIrgp07dxojDiGEEMKoDPYMTwghhPlQYAOvaAmvcePGRW7+HjlypFgBCSGEMD7p0nyEHj16GDkMw7Kxsn3yQWbEkl62DJCRl2bqEAzGwcbZ1CEYlLXK9C9/FyVDEt4jREREGDsOIYQQJUgSnhBCCEWQhFcEBQUFzJ8/n++//57ExETy8vK09qenpxssOCGEEMJQdH612PTp0/noo4/o27cvmZmZhIWF0atXL6ysrJg2bZoRQhRCCGFoSny1mM4J79tvv+Xzzz/n7bffpkyZMvTr14/ly5czdepU9u/fb4wYhRBCGJhKpdJ7M1c6J7zk5GTq168PgL29PZmZmQB07dqVLVu2GDY6IYQQRiEJrwiqVKlCUlISADVq1ODXX38F4NChQ9jZ2Rk2OiGEEEYhCa8Ievbsyfbt2wEYM2YMU6ZMoVatWgwaNEjepSmEEGZCic/wijxKc9GiRQwYMIDZs2dryvr27YuPjw/79u2jVq1adOvWzShBCiGEEMWlUqvV6qIc6OTkRH5+Pj179mTo0KG0bdvW2LHpLafgjqlDEI8hb1opveRNK6VXWevyBr3eC2sG6H3urr7fGDCSklPkLs3k5GSWLl3K1atXad++PdWrV+e9997j0qVLxoxPCCGEMSiwT7PICa9cuXIMGjSInTt3cubMGQYOHMgXX3xB9erV6dixI2vXriU/P9+YsQohhDAQGbRSRE8//TQzZszg/PnzbN26FVdXVwYPHkzlypUNHZ8QQggjsFLpv5mrYr1LU6VSUaZMGVQqFWq1Wlp4QghhJsy5paYvvVp4ly5dYsaMGTz99NO0b9+eq1ev8vnnn2vm5wkhhBClTZFbeHl5eaxfv54vv/ySHTt24OXlRUhICEOGDOHpp582ZoxCCCEMzEqBLbwiJzxPT0/u3LlD165d2bRpE8HBwVhZ6dVAFEIIYWJK7NIscsKbPHkyAwcOxN3d3ZjxCCGEKAFKbK4UOeGFhYUZMw4hhBAlSIldmkpM8gaxetUaOgV1pnmjFvTvO5Djx06YOiS9mXNdrqekMvN/kXRr3ZP2LToz+KXXOX0yQbN/xZKVDOzxGsEBXenSsgdhIyZw6ni8CSN+tNjDRxg7ahwdXuhIk7rN2Ll9l2Zffv5dFsxbSJ8efXm22fN0eKEjU8Kncv3addMFrKPYw7GMGTWWoNbtaejfmB2/7TR1SMVmzj87Mg9PFMm2rb/w4Zx5jBg1gtXrVuHrV5uRw0eRlmZ+q72bc11u3bzF6MFjsS5ThrmLIvlq/ReEhr2Bg6OD5pgq1aowdtJoVqz7jEUrPsbT25PxIyeSkZ5husAfISc7m9q+tZg0eeKD+3JyOB1/mtffeJ1Va7/hwwUfcPH8Rd4abT49L9l3svH1rU34lHBTh2IQ5vyzo1RFfpemOTH2uzT79x1I3fp1+d/kSQAUFhbSoW1H+vV/haHDzGvFCFPUxVDv0ly24HOOx51k0YqPi3zO7azbdH6+Ox8tm0vTFk2KHYOx3qXZpG4z5i38kDbtXnjkMSePn2TgKyFsid6Ml7enQe5bUu/SbOjfmPkLP6JtUJsSuZ8xlPTPjqHfpfniT6/rfe5PLy43YCQlR1p4OsrPyyf+VDwBAS00ZVZWVgQEtuBY3DETRqY7c6/LHzH78POvzdTxM+je5iWG9h3Bph8evQhxfn4+m37Ygr19BWrUrlGCkRpHVlYWKpUKB0d7U4eiOOb+swPK7NIs0qAVXQasfPTRR3oHYw5uZNygoKAAVzcXrXJXV1fO/33BNEHpydzrknQ5iR/XbuLlAS8x4PV+nD6RwMK5n2JjY0PHFztojtu7ez8zJs4kJycXVzcXPlw6B+eKTiaMvPhyc3NZ8NEndOwcjL29JLySZu4/O6DM1k6REt7Ro0eLdDF9Mn92djaxsbG4uLjg7++vtS8nJ4fvv/+eQYMGPfL83NxccnNztcrUZQpk9XUFKCxU4+tfm+FvDgWgtl8tzp+7wI/rNmklvMbNG7J8zTIyMzLZvP5npr0zk6XffEJFl4qmCr1Y8vPvMjFsEqjVhE+dZOpwhJlS4ijNIiW8nTuNM5rqr7/+okOHDiQmJqJSqXj++edZvXo1Xl5eAGRmZvLaa689NuFFRkYyffp0rbJ3p/yPyRHvGiXmis4Vsba2Ji1V+8F0Wloabm6uRrmnsZh7XVzdXXiqRjWtsmrVfdj92+9aZeXKlaOKT2Wq+FSmbgN/Xu0WwpYNWxkw9NWSDNcg8vPvMuntSSRdTWbZiiXSujMRc//ZAWVOPDdpq3bixInUq1ePa9eukZCQgIODA8899xyJiYlFvkZ4eDiZmZla24RJ440Ws42tDXX863Bg/wFNWWFhIQf2H6RBowZGu68xmHtd6jWsS+IF7fUYL1+8jIeXx2PPU6sLyc8zvxed3092iRcTWfrFYpydnU0dkmKZ+8+OUum1WsLhw4f5/vvvSUxMJC8vT2vf+vXri3ydvXv38ttvv+Hm5oabmxubNm1i1KhRtGzZkp07d1KhQoUnXsPOzu6B7ktjj9IcOHgAU8KnUreeP/Xq1+Obr1aRnZ1Nj57djXpfYzDnurw8oDehg8fy9fJVtOnQmvgTp9n0w8+MnzIOuNdd/vXnq3juhUBc3VzJzMhkw5ofSb2WygvtW5s4+gfduX2HS4n/JPArl6+QEJ+Ao5MTbu5uvDPuHU7HJ7Dg0/kUFBSQej0VACcnJ2xsbUwVdpHduX2HxH/X78oVTscn4OTkiJe3lwkj0485/+yAdGkWyerVqxk0aBDBwcH8+uuvdOjQgb/++ouUlBR69uyp07Wys7MpU+afEFQqFUuWLGH06NG0bt2aVatW6RpeiejYKZgb6TdY/MkSUlPT8PXzZfGyT3E1k66MfzPnutSp58fMj6bz2cLlfPXZ13hW9mL0hJG079IOACsraxIvXOKXt38lM+Mmjs6O+NWtzcIv51O95lOmDf4hTp08xfDX3tB8/mjufAC6de/KiNDhxOzcDcArvbW7Yj9bsZRmzzQruUD1dPLkKV4fPEzz+cM58wB4sUc33ps1w1Rh6c2cf3YAlJfu9JiH16BBA0aMGEFoaCgODg78+eefVK9enREjRuDl5fXA87THeeaZZxgzZgwDBw58YN/o0aP59ttvuXnzJgUFBbqEaPQWnigeQ83DKw2MNQ/PVEpqHp7QnaHn4fXbOlLvc7/rtMSAkZQcnZ/hnTt3ji5dugBga2vL7du3UalUjBs3js8++0yna/Xs2ZPvvvvuofsWLVpEv379sMB58UIIYXJWKpXem7nSOeFVrFiRW7duAVC5cmVOnLj37riMjAzu3NGtZRUeHs7PP//8yP2LFy+msLBQ1xCFEEI8gRInnuuc8Fq1akV0dDQAL7/8MmPHjmXYsGH069ePdu3aGTxAIYQQ5mvJkiU0aNAAR0dHHB0dCQwMZOvWrZr9OTk5hIaG4urqir29Pb179yYlJUXrGomJiXTp0oXy5ctTqVIlJkyYwN27d3WORedBK4sWLSInJweAd999FxsbG/bu3Uvv3r2ZPHmyzgEIIYQoeSXVNVmlShVmz55NrVq1UKvVrFy5ku7du3P06FHq1q3LuHHj2LJlC2vXrsXJyYnRo0fTq1cv/vjjDwAKCgro0qULnp6e7N27l6SkJAYNGoSNjQ2zZs3SKRZ5ebQocTJopfSSQSull6EHrYT8Olrvc1d2WFSse7u4uPDBBx/w0ksv4e7uzqpVq3jppZcAOH36NHXq1GHfvn0EBASwdetWunbtytWrV/HwuDfHdunSpUycOJHr169ja2tb5Pvq3MJ70qRwHx8fXS8phBCihBWnhfewVzo+bE70fxUUFLB27Vpu375NYGAgsbGx5OfnExQUpDnGz88PHx8fTcLbt28f9evX1yQ7gODgYEaOHMnJkydp3LhxkePWOeE99dRTj31oqesUAiGEECWvOAnvYa90jIiIYNq0aQ89/vjx4wQGBpKTk4O9vT0bNmzA39+fuLg4bG1tH3hrkIeHB8nJyQAkJydrJbv7++/v04XOCe+/L5LOz8/n6NGjfPTRR7z//vu6Xk4IIYQJFGe0ZXh4+AOr6Dyudefr60tcXByZmZmsW7eOkJAQYmJi9L6/vnROeA0bNnygrFmzZnh7e/PBBx/Qq1cvgwQmhBCidCpK9+W/2draUrNmTQCaNm3KoUOHWLBgAX379iUvL4+MjAytVl5KSgqenvcWNfb09OTgwYNa17s/ivP+MUVlsJdH+/r6cujQIUNdTgghhBGZcuJ5YWEhubm5NG3aFBsbG7Zv367Zl5CQQGJiIoGBgQAEBgZy/Phxrl27pjkmOjoaR0fHB5aUexKdW3g3b97U+qxWq0lKSmLatGnUqlVL18sJIYQwgZKaPh4eHk6nTp3w8fHh1q1brFq1il27dvHLL7/g5OTE0KFDCQsLw8XFBUdHR8aMGUNgYCABAQEAdOjQAX9/fwYOHMjcuXNJTk5m8uTJhIaG6rzuqc4Jz9nZ+YG+X7VaTdWqVVm9erWulxNCCGECJTUP79q1awwaNIikpCScnJxo0KABv/zyC+3btwdg/vz5WFlZ0bt3b3JzcwkODmbx4sWa862trdm8eTMjR44kMDCQChUqEBISwowZur9wXOd5eP990GhlZYW7uzs1a9bUWvnAlGQeXukm8/BKL5mHV3oZeh5e6K6wJx/0CJ++8JEBIyk5OmcolUrFs88++0Byu3v3Lrt376ZVq1YGC04IIYQwFJ0HrbRp04b09PQHyjMzM2nTpo1BghJCCGFcSnx5tM4tPLVa/dAKp6WlFWmFciGEEKZnsCH6ZqTICe/+/DqVSsXgwYO1RscUFBRw7Ngxnn32WcNHKIQQwuDMuaWmryInPCcnJ+BeC8/BwYFy5cpp9tna2hIQEMCwYcMMH6EQQgiDM+eFXPVV5IS3YsUK4N67NCdMmED58oYdMSSEEKLkKDHh6dyNO2jQIK5cufJA+ZkzZ7hw4YIhYhJCCCEMTueEN3jwYPbu3ftA+YEDBxg8eLAhYhJCCGFkMkqzCI4ePcpzzz33QHlAQACjR+u/oKB4tEK1ZS255GzrauoQDCYr/+aTDzIj9jaOpg5BlBCrEnu5WOmh18TzW7duPVCemZkpa+EJIYSZMOeWmr507tJs1aoVkZGRWsmtoKCAyMhInn/+eYMGJ4QQwjhMuVqCqejcwpszZw6tWrXC19eXli1bAvD7779z8+ZNduzYYfAAhRBCGJ5KgV2aOrfw/P39OXbsGH369OHatWvcunWLQYMGcfr0aerVq2eMGIUQQohi02t5A29vb2bNmqVVlpGRwaJFi2TgihBCmAF5hqeH7du38+qrr+Ll5UVERIQhYhJCCGFkSnyGp1fCu3TpEjNmzKB69ep06NABgA0bNpCcnGzQ4IQQQhiHCiu9N3NV5Mjz8/NZu3YtwcHB+Pr6EhcXxwcffICVlRWTJ0+mY8eO2NjYGDNWIYQQBqLEFl6Rn+FVrlwZPz8/BgwYwOrVq6lYsSIA/fr1M1pwQgghjEOe4T3G3bt3Na+Vsba2NmZMQgghhMEVOeFdvXqV4cOH89133+Hp6Unv3r3ZsGGDIn9LEEIIc6cqxh9zVeSEV7ZsWfr378+OHTs4fvw4derU4c033+Tu3bu8//77REdHy6vFhBDCTCjxGZ5ew21q1KjBzJkzuXjxIlu2bCE3N5euXbvi4eFh6PiEEEIYgayWoCMrKys6depEp06duH79Ol9//bWh4hJCCGFEVmY8vUBfxUp4/+bu7k5YWJihLieEEMKIzLmlpi/lpXghhBCKZLAWnhBCCPOhxBaeJDwhhFAgJa54rlOXZn5+PjVq1CA+Pt5Y8QghhCgBShylqVPCs7GxIScnx1ixmJXVq9bQKagzzRu1oH/fgRw/dsLUIRVJ7OEjjB01jvYvdKRx3Wbs3L5La79arWbxJ0tp3zqYgCbPMWLoKC5eTDRNsHqIPRzLmFFjCWrdnob+jdnx205Th6SXr7/4lucatubjuZ9oykYPHctzDVtrbXPfm2fCKHVnrj83j2LO9ZF5eEUQGhrKnDlzuHv3rjHiMQvbtv7Ch3PmMWLUCFavW4WvX21GDh9FWlq6qUN7ouzsbGr71iJ88sSH7o/6YiXffbua/0WE89V3UZQrV5bQ4WPIzc0t4Uj1k30nG1/f2oRPCTd1KHqLPxHPj+t+ombtGg/se7F3V37avl6zhY57wwQR6secf24extzrI29aKYJDhw6xfv16fHx8CA4OplevXlqbEnwd9Q29Xu5Fj17dqVGzBpMj3qVs2bJsXL/R1KE90fMtnyN07CjaBrV5YJ9arWbV198xbMRQ2rR9gdq+tXgvcgbXr11/oCVYWj3f6nlGjw2lXVBbU4eilzt37jA9fCYTIybg4OjwwH67smVxdXPVbBXsK5ggSv2Y88/Nw1hafZRA54Tn7OxM7969CQ4OxtvbGycnJ63N0uXn5RN/Kp6AgBaaMisrKwICW3As7pgJIyu+K5evkJqaRouAZzRlDg721GtQj2N/HjdhZMoxb9bHBLYKpHlAs4fuj/45ms6tX2RAr8EsWfAZOdnm8YjB0n5uLKE+ViorvTdzpfMozRUrVhg0gPj4ePbv309gYCB+fn6cPn2aBQsWkJuby4ABA2jb9vG/qefm5j7Q3aYuU4CdnZ1B47zvRsYNCgoKcHVz0Sp3dXXl/N8XjHLPkpKamgaAi5urVrmrqwtp/79PGM9vW7fzV/xfLF+17KH723dqh6eXJ26VXDn7198s+XgZiRcSiZw/s4Qj1Z2l/dxYQn3MefCJvvSelnD9+nUSEhIA8PX1xd3dXedrbNu2je7du2Nvb8+dO3fYsGEDgwYNomHDhhQWFtKhQwd+/fXXxya9yMhIpk+frlX27pT/MTniXZ3jEcJUUpKv8fHcT/h42bxH/rLW/aUXNf9do1YN3NxceXP4OC5fukKVqpVLKlRhIcz5WZy+dG6b3r59myFDhuDl5UWrVq1o1aoV3t7eDB06lDt37uh0rRkzZjBhwgTS0tJYsWIFr776KsOGDSM6Oprt27czYcIEZs+e/dhrhIeHk5mZqbVNmDRe12oVWUXnilhbW5OWqv1gOi0tDbf/tIzMzf340//TmktLS8fVzOtW2iWcSuBG+g2GvDKMVk3a0qpJW44ejmPdqh9o1aTtQ1ci8a9fB4AriVdKOlydWdrPjSXUR0ZpFkFYWBgxMTFs2rSJjIwMMjIy+PHHH4mJieHtt9/W6VonT55k8ODBAPTp04dbt27x0ksvafb379+fY8ce3x9uZ2eHo6Oj1mas7kwAG1sb6vjX4cD+A5qywsJCDuw/SINGDYx235JQuUpl3NxcOXDgkKYsKyuLE8dO0KBhfRNGZvmatmjK1+tWELVmuWbzq+tLh85BRK1Z/tBFl88knAXA1b30/wNraT83llAfJY7S1LlL84cffmDdunW88MILmrLOnTtTrlw5+vTpw5IlS3S63v1+ZCsrK8qWLas18MXBwYHMzExdQzS6gYMHMCV8KnXr+VOvfj2++WoV2dnZ9OjZ3dShPdGd23e4lHhJ8/nK5SskxCfg6OSEl7cnrw7sx/JlX+DjU5XKVSqz+JMluFdyp027F0wXtA7u3L5D4r/rd+UKp+MTcHJyxMvby4SRPV6FCuV5utbTWmXlypXD0dmJp2s9zeVLV4j++TcCWwbg5OTI2TN/s/CDRTRq2vCh0xdKI3P+uXkYS6uPEuic8O7cufPQde8qVaqkc5fmU089xZkzZ6hR494P7L59+/Dx8dHsT0xMxMur9P0j1bFTMDfSb7D4kyWkpqbh6+fL4mWfmkW336mTpxj22j9zt+bNnQ9At+5dmTFrGoOHhpCdncPMabO4desWjZo04tNlC43aajakkydP8frgYZrPH865NzH7xR7deG/WDFOFVWw2NjYcPhDL99+uIyc7h0qe7rwQ1IrBwwaZOrQiM+efm4cx9/qYc9ekvlRqtVqtywnt2rXD1dWVr776irJlywL3JjOHhISQnp7Ob7/9VuRrLV26lKpVq9KlS5eH7v/f//7HtWvXWL58uS4hklOgW+It7QrVlrWSvJXqwe45c5WVf9PUIRiUvY2jqUMQj1DWurxBr7fs1Kd6nzvCP9SAkZQcnRPeiRMnCA4OJjc3l4YNGwLw559/UrZsWX755Rfq1q1rlEB1IQmvdJOEV3pJwiu9DJ3wPju1WO9zh/uPMmAkJUfnLs169epx5swZvv32W06fPg1Av3796N+/P+XKlTN4gEIIIQxPiV2aes3DK1++PMOGDXvygUIIIUolJU48N993xAghhBA6kAVghRBCgZS4AKwkPCGEUCDp0hRCCKEIKpWV3psuIiMjad68OQ4ODlSqVIkePXpo3sN8X05ODqGhobi6umJvb0/v3r1JSUnROiYxMZEuXbpQvnx5KlWqxIQJE3Rel1XvhJeXl8fly5dJTEzU2oQQQpR+Vqj03nQRExNDaGgo+/fvJzo6mvz8fDp06MDt27c1x4wbN45Nmzaxdu1aYmJiuHr1qtb6qgUFBXTp0oW8vDz27t3LypUriYqKYurUqTrFovM8vDNnzjBkyBD27t2rVa5Wq1GpVA99yW1Jk3l4pZvMwyu9ZB5e6WXoeXjfnPlS73MH1Bqi97nXr1+nUqVKxMTE0KpVKzIzM3F3d2fVqlWadymfPn2aOnXqsG/fPgICAti6dStdu3bl6tWrmjd9LV26lIkTJ3L9+nVsbW2LdG+dn+ENHjyYMmXKsHnzZry8vBTZDyyEEEr2sHVI7ezsivQKwvvvR3ZxubeWYGxsLPn5+QQFBWmO8fPzw8fHR5Pw9u3bR/369bVeaxkcHMzIkSM5efIkjRs3LlLcOie8uLg4YmNj8fPz0/VUIYQQpURxVj142DqkERERTJs27bHnFRYW8tZbb/Hcc89Rr149AJKTk7G1tcXZ2VnrWA8PD5KTkzXH/Pcdzvc/3z+mKHROeP7+/qSmpup6mhBCiFKkOL1z4eHhhIWFaZUVpXUXGhrKiRMn2LNnj973Lo4iJbybN/95TjFnzhzeeecdZs2aRf369bGxsdE61tFRngEIIURpV5x5eEXtvvy30aNHs3nzZnbv3k2VKlU05Z6enuTl5ZGRkaHVyktJScHT01NzzMGDB7Wud38U5/1jiqJICc/Z2VnrtwG1Wk27du20jilNg1aEEEI8nq7TC/SlVqsZM2YMGzZsYNeuXVSvXl1rf9OmTbGxsWH79u307t0bgISEBBITEwkMDAQgMDCQ999/n2vXrlGpUiUAoqOjcXR0xN/fv8ixFCnh7dy5s8gXFEIIUfqV1MrloaGhrFq1ih9//BEHBwfNMzcnJyfKlSuHk5MTQ4cOJSwsDBcXFxwdHRkzZgyBgYEEBAQA0KFDB/z9/Rk4cCBz584lOTmZyZMnExoaqlNLU+dpCYmJiVStWvWB/l+1Ws2lS5e0FnA1FZmWULrJtITSS6YllF6Gnpbw/blv9D63T40BRT72Uc8KV6xYweDBg4F7E8/ffvttvvvuO3JzcwkODmbx4sVa3ZUXL15k5MiR7Nq1iwoVKhASEsLs2bMpU6boQ1F0TnjW1tYkJSVpmpX3paWlUalSpVLRpSkJr3SThFd6ScIrvQyd8Nb+/a3e5778dH8DRlJydB6lef9Z3X9lZWVpVkAXQghRupVUl2ZpUuSEd38IqkqlYsqUKZQv/89vGwUFBRw4cIBGjRoZPEAhhBCGp8SXhhQ54R09ehS418I7fvy41qtcbG1tadiwIePHjzd8hEIIIQxOlgd6jPsjNV977TUWLFgg8+1KkCU987I0lvbMS41Oj/RLPSV22xWVtPCKYMWKFcaIQwghhDAqnRNe27ZtH7t/x44degcjhBCiZKgUuByqzgmvYcOGWp/z8/OJi4vjxIkThISEGCwwIYQQxiNdmkUwf/78h5ZPmzaNrKysYgckhBDC+JT4fNNgbdoBAwbw5Zf6LygohBCi5FipVHpv5krnFt6j7Nu3TyaeCyGEmVBiC0/nhNerVy+tz2q1mqSkJA4fPsyUKVMMFpgQQghhSDonPCcnJ63PVlZW+Pr6MmPGDDp06GCwwIQQQhiPDFp5goKCAl577TXq169PxYoVjRWTEEIII1PitASdamxtbU2HDh3IyMgwUjhCCCFKgkql0nszVzqn+Hr16vH3338bIxYhhBAlxAqV3pu50jnhzZw5k/Hjx7N582aSkpK4efOm1iaEEKL0U2ILr8gLwM6YMYO3334bBweHf07+V8Xvr5MnC8AKYb7k5dGll6EXgP3tyha9zw2q3MWAkZScIie8+yudx8fHP/a41q1bGySw4pCEJ4R+JOGVXoZOeNuv/Kz3ue0qdzZgJCWnyKM07+fF0pDQhBBCFI85d03qS6dpCUr8CxJCCEukxGkJOiW82rVrPzHppaenFysgIYQQxmfO78TUl04Jb/r06Q+8aUUIIYQwBzolvFdeeYVKlSoZKxYhhBAlxJIG9BRVkTtx5fmdttWr1tApqDPNG7Wgf9+BHD92wtQh6c2S6hJ7OJYxo8YS1Lo9Df0bs+O3naYOqdgs4ftZsmgpjfybaG09uvR68omlnDl/N0qch1fkhFfE2QuKsG3rL3w4Zx4jRo1g9bpV+PrVZuTwUaSlmd/zS0uqC0D2nWx8fWsTPiXc1KEYhCV9PzVq1uC3mF8124pvvjB1SMVi7t+Nqhh/zFWRE15hYWGJdGeaQ2L9Ouober3cix69ulOjZg0mR7xL2bJl2bh+o6lD05kl1QXg+VbPM3psKO2C2po6FIOwpO/H2toaN3c3zWbuL6A39+9GWnilgJ2d3RMnt5tSfl4+8afiCQhooSmzsrIiILAFx+KOmTAy3VlSXSyRpX0/iYmJtG/dgS4duhE+4V2SriaZOiS9WcJ3Y1WMP+bKYCue6yosLOyh5QUFBcyePRtXV1cAPvroo5IM64luZNygoKAAVzcXrXJXV1fO/33BNEHpyZLqYoks6fup36A+M96fzlPVq5F6PZWliz9jyMChrPtpLRUqVDB1eDqzpO9GSUyW8D7++GMaNmyIs7OzVrlarSY+Pp4KFSoUqemcm5tLbm6u9jXKFGBnZ2fIcIUQxfB8q+c0/13btzb1GtSnc1AXft0WTc/ePUwXmIKZc9ekvkzWNp01axaZmZlMmTKFnTt3ajZra2uioqLYuXMnO3bseOJ1IiMjcXJy0to+mP2h0eKu6FwRa2tr0lK1H0ynpaXh5uZqtPsagyXVxRJZ8vfj6OiAz1M+XLp4ydSh6MUSvhsZtFKCJk2axJo1axg5ciTjx48nPz9fr+uEh4eTmZmptU2YNN7A0f7DxtaGOv51OLD/gKassLCQA/sP0qBRA6Pd1xgsqS6WyJK/nzu373A58TJu7m6mDkUvlvDdKHHQism6NAGaN29ObGwsoaGhNGvWjG+//Vbnv0w7O7sHui+NvVrCwMEDmBI+lbr1/KlXvx7ffLWK7OxsevTsbtT7GoMl1QXu/UOamPhPq+HKlSucjk/AyckRL28vE0amH0v5fj6aO59WbVrh5e3F9WvXWbJoKdbWVnTs0tHUoenN3L8bc26p6cukCQ/A3t6elStXsnr1aoKCgkrFenpP0rFTMDfSb7D4kyWkpqbh6+fL4mWf4momXRn/Zkl1ATh58hSvDx6m+fzhnHkAvNijG+/NmmGqsPRmKd9PSkoK4ePDycjIpKJLRRo3acRX363ExcV8pyaY+3ejxIRX5PXwSsLly5eJjY0lKCioWCO3ZD08IfQj6+GVXoZeD+/w9T/0PreZ+3NPPqgUMnkL79+qVKlClSpVTB2GEEJYPjN+FqevUpXwhBBClAxLav0WlSQ8IYRQIHMebakvSXhCCKFA0sITQgihCEpMeOb7FlAhhBBCB9LCE0IIBZJneEIIIRRBiV2akvCEEEKBJOEJIYRQBOnSFEIIoQhKbOHJKE0hhBBGs3v3brp164a3tzcqlYqNGzdq7Ver1UydOhUvLy/KlStHUFAQZ86c0TomPT2d/v374+joiLOzM0OHDiUrK0vnWCThCSGEApXUeni3b9+mYcOGfPrppw/dP3fuXBYuXMjSpUs5cOAAFSpUIDg4mJycHM0x/fv35+TJk0RHR7N582Z2797N8OHDda9zaVotwVBktQQh9COrJZRehl4tIT7jT73PrePcUK/zVCoVGzZsoEePHsC91p23tzdvv/0248ffW7g7MzMTDw8PoqKieOWVV4iPj8ff359Dhw7RrFkzALZt20bnzp25fPky3t7eRb6/tPCEEEKBVMX4Yyjnz58nOTmZoKAgTZmTkxMtWrRg3759AOzbtw9nZ2dNsgMICgrCysqKAwcOPHDNx5FBK0IIoUDFGaWZm5tLbm6uVpmdnR12dnY6XSc5ORkADw8PrXIPDw/NvuTkZCpVqqS1v0yZMri4uGiOKSpp4QkhhAIVp4UXGRmJk5OT1hYZGWnqKj2RtPCEEELoJDw8nLCwMK0yXVt3AJ6engCkpKTg5eWlKU9JSaFRo0aaY65du6Z13t27d0lPT9ecX1TSwhNCCAUqTgvPzs4OR0dHrU2fhFe9enU8PT3Zvn27puzmzZscOHCAwMBAAAIDA8nIyCA2NlZzzI4dOygsLKRFixY63U9aeEIIoUAl9aaVrKwszp49q/l8/vx54uLicHFxwcfHh7feeouZM2dSq1YtqlevzpQpU/D29taM5KxTpw4dO3Zk2LBhLF26lPz8fEaPHs0rr7yi0whNkGkJQoh/sbRpCZaknHUFg17v7M14vc+t6VinyMfu2rWLNm3aPFAeEhJCVFQUarWaiIgIPvvsMzIyMnj++edZvHgxtWvX1hybnp7O6NGj2bRpE1ZWVvTu3ZuFCxdib2+vU9yS8IQQGpLwSi9DJ7xzt07rfW4NBz8DRlJypEtTCCEUyJIm5ReVDFoRQgihCNLCE0IIBVJiC08SnhBCKJCshyeEEEIRpIUnhBBCESThCSGEUAQldmnKKE0hhBCKIC08IYRQIOnSFEIIoQhK7NKUhCeEEAokLTwhhBAKIQlPCCGEAigv3ckoTSGEEAohLTwhhFAgGbQihBBCISThCSGEUADlpTtJeEIIoVDKS3kyaEVPq1etoVNQZ5o3akH/vgM5fuyEqUPSmyXVJfZwLGNGjSWodXsa+jdmx287TR1SsVnC9/P96rW83KMPzzVvyXPNWzKoXwh7dv9h6rD0Zgn1UalUem/mShKeHrZt/YUP58xjxKgRrF63Cl+/2owcPoq0tHRTh6YzS6oLQPadbHx9axM+JdzUoRiEpXw/Hh6VeHPcm6xa+y2r1n5D8xbNeWv0OM6eOWfq0PRiafVRCpVarVabOghDyym4Y9Tr9+87kLr16/K/yZMAKCwspEPbjvTr/wpDhw0x6r0NzZLq8l8N/Rszf+FHtA1qY+pQ9FbS34+akvvnoFXAC4yb8BY9e/cosXsak7HrU866gkGvdy3nqt7nVirrbcBISo608HSUn5dP/Kl4AgJaaMqsrKwICGzBsbhjJoxMd5ZUF0tkqd9PQUEB237+hezsbBo0bGDqcIrNXOujKsYfcyWDVnR0I+MGBQUFuLq5aJW7urpy/u8LpglKT5ZUF0tkad/Pmb/OMKjfYPLy8ihXvhwfLZxHjZpPmzosvZl7fcw5cemrVCW827dv8/3333P27Fm8vLzo168frq6ujz0nNzeX3NxcrTJ1mQLs7OyMGaoQQkdPPfUUa9Z/R1ZWFr/9sp2p/5vK8pXLzSpJ/Jul1UcJTNql6e/vT3r6vYfvly5dol69eowbN47o6GgiIiLw9/fn/Pnzj71GZGQkTk5OWtsHsz80WswVnStibW1NWqr2oIG0tDTc3B6fnEsbS6qLJbK078fG1gafaj741/XnzbAx1PatzaqvV5k6LL2Ze31klGYJO336NHfv3gUgPDwcb29vLl68yMGDB7l48SINGjTg3Xfffew1wsPDyczM1NomTBpvtJhtbG2o41+HA/sPaMoKCws5sP8gDRqZT/89WFZdLJGlfz+F6kLy8vNNHYbBWFp9LFGp6dLct28fS5cuxcnJCQB7e3umT5/OK6+88tjz7OzsHui+NPYozYGDBzAlfCp16/lTr349vvlqFdnZ2fTo2d2o9zUGS6oLwJ3bd0hMvKT5fOXKFU7HJ+Dk5IiXt5cJI9OPpXw/Cz/6hOdaPYunlxd3bt9m6+ZtHD4Yy+LPPzV1aHqxtPoohckT3v3mcU5ODl5e2v8gVa5cmevXr5sirMfq2CmYG+k3WPzJElJT0/D182Xxsk9xNcNuJkuqC8DJk6d4ffAwzecP58wD4MUe3Xhv1gxThaU3S/l+0tPTmTxpKqnXU7F3sKd27Vos/vxTAp8NMHVoerGE+ihx0IpJ5+FZWVlRr149ypQpw5kzZ4iKiqJ3796a/bt37+bVV1/l8uXLOl3X2C08ISxVSc7DE7ox9Dy89Fz9GxMudu4GjKTkmLSFFxERofXZ3t5e6/OmTZto2bJlSYYkhBCKoLz2nbxpRQjxL9LCK70M3cLLyEvV+1xnWzcDRlJy5E0rQgghFMHkg1aEEEKYgvI6NSXhCSGEAikv3UnCE0IIhVJeypOEJ4QQCmTOrwjTlwxaEUIIoQiS8IQQQiiCdGkKIYQCKfHVYpLwhBBCkSThCSGEUADlpTtJeEIIoUgySlMIIYSwUNLCE0IIRVJeC08SnhBCKJDy0p0kPCGEUCjlpTx5hieEEAqkUqn03vTx6aef8tRTT1G2bFlatGjBwYMHDVyjJ5OEJ4QQwqjWrFlDWFgYERERHDlyhIYNGxIcHMy1a9dKNA5Z8VwIoSErnpdehl7xPLvgtt7n6hpLixYtaN68OYsWLQKgsLCQqlWrMmbMGCZNmqR3HLqSFp4QQiiQqhh/cnNzuXnzptaWm5v70Pvk5eURGxtLUFCQpszKyoqgoCD27dtXUtW9Ry30kpOTo46IiFDn5OSYOhSDsKT6WFJd1GqpT2lmSXXRRUREhBrQ2iIiIh567JUrV9SAeu/evVrlEyZMUD/zzDMlEO0/LLJLsyTcvHkTJycnMjMzcXR0NHU4xWZJ9bGkuoDUpzSzpLroIjc394EWnZ2dHXZ2dg8ce/XqVSpXrszevXsJDAzUlL/zzjvExMRw4MABo8d7n0xLEEIIoZNHJbeHcXNzw9rampSUFK3ylJQUPD09jRHeI8kzPCGEEEZja2tL06ZN2b59u6assLCQ7du3a7X4SoK08IQQQhhVWFgYISEhNGvWjGeeeYaPP/6Y27dv89prr5VoHJLw9GRnZ0dERESRm/WlnSXVx5LqAlKf0syS6mJMffv25fr160ydOpXk5GQaNWrEtm3b8PDwKNE4ZNCKEEIIRZBneEIIIRRBEp4QQghFkIQnhBBCESThCSGEUARJeHoqDUtdGMLu3bvp1q0b3t7eqFQqNm7caOqQ9BYZGUnz5s1xcHCgUqVK9OjRg4SEBFOHpbclS5bQoEEDHB0dcXR0JDAwkK1bt5o6LIOYPXs2KpWKt956y9Sh6GXatGkPLJnj5+dn6rDEE0jC00NpWerCEG7fvk3Dhg359NNPTR1KscXExBAaGsr+/fuJjo4mPz+fDh06cPu2/m+FN6UqVaowe/ZsYmNjOXz4MG3btqV79+6cPHnS1KEVy6FDh1i2bBkNGjQwdSjFUrduXZKSkjTbnj17TB2SeJISfXOnhXjmmWfUoaGhms8FBQVqb29vdWRkpAmjKj5AvWHDBlOHYTDXrl1TA+qYmBhTh2IwFStWVC9fvtzUYejt1q1b6lq1aqmjo6PVrVu3Vo8dO9bUIeklIiJC3bBhQ1OHIXQkLTwdlaqlLsRjZWZmAuDi4mLiSIqvoKCA1atXc/v27RJ/HZMhhYaG0qVLF62fH3N15swZvL29efrpp+nfvz+JiYmmDkk8gbxpRUepqakUFBQ88IYADw8PTp8+baKoxH8VFhby1ltv8dxzz1GvXj1Th6O348ePExgYSE5ODvb29mzYsAF/f39Th6WX1atXc+TIEQ4dOmTqUIqtRYsWREVF4evrS1JSEtOnT6dly5acOHECBwcHU4cnHkESnrBIoaGhnDhxwuyfq/j6+hIXF0dmZibr1q0jJCSEmJgYs0t6ly5dYuzYsURHR1O2bFlTh1NsnTp10vx3gwYNaNGiBdWqVeP7779n6NChJoxMPI4kPB2VpqUuxMONHj2azZs3s3v3bqpUqWLqcIrF1taWmjVrAtC0aVMOHTrEggULWLZsmYkj001sbCzXrl2jSZMmmrKCggJ2797NokWLyM3Nxdra2oQRFo+zszO1a9fm7Nmzpg5FPIY8w9NRaVrqQmhTq9WMHj2aDRs2sGPHDqpXr27qkAyusLDwgYU3zUG7du04fvw4cXFxmq1Zs2b079+fuLg4s052AFlZWZw7dw4vLy9ThyIeQ1p4eigtS10YQlZWltZvpefPnycuLg4XFxd8fHxMGJnuQkNDWbVqFT/++CMODg4kJycD4OTkRLly5Uwcne7Cw8Pp1KkTPj4+3Lp1i1WrVrFr1y5++eUXU4emMwcHhweepVaoUAFXV1ezfMY6fvx4unXrRrVq1bh69SoRERFYW1vTr18/U4cmHsfUw0TN1SeffKL28fFR29raqp955hn1/v37TR2SXnbu3KkGHthCQkJMHZrOHlYPQL1ixQpTh6aXIUOGqKtVq6a2tbVVu7u7q9u1a6f+9ddfTR2WwZjztIS+ffuqvby81La2turKlSur+/btqz579qypwxJPIMsDCSGEUAR5hieEEEIRJOEJIYRQBEl4QgghFEESnhBCCEWQhCeEEEIRJOEJIYRQBEl4QgghFEESnrBIgwcPpkePHprPL7zwgklW1961axcqlYqMjAyj3sfcV6sXoiRIwhMlZvDgwahUKlQqlealyDNmzODu3btGv/f69et57733inRsSSWpvLw83NzcmD179kP3v/fee3h4eJCfn2/UOIRQCkl4okR17NiRpKQkzpw5w9tvv820adP44IMPHnpsXl6ewe7r4uJS6tYps7W1ZcCAAaxYseKBfWq1mqioKAYNGoSNjY0JohPC8kjCEyXKzs4OT09PqlWrxsiRIwkKCuKnn34C/umGfP/99/H29sbX1xe4t5Zanz59cHZ2xsXFhe7du3PhwgXNNQsKCggLC8PZ2RlXV1feeecd/vvGvP92aebm5jJx4kSqVq2KnZ0dNWvW5IsvvuDChQu0adMGgIoVK6JSqRg8eDBwb6WCyMhIqlevTrly5WjYsCHr1q3Tus/PP/9M7dq1KVeuHG3atNGK82GGDh3KX3/99cC6fTExMfz9998MHTqUQ4cO0b59e9zc3HBycqJ169YcOXLkkdd8WAs1Li4OlUqlFc+ePXto2bIl5cqVo2rVqrz55pvcvn37sfEKYc4k4QmTKleunFZLbvv27SQkJBAdHc3mzZvJz88nODgYBwcHfv/9d/744w/s7e3p2LGj5rx58+YRFRXFl19+yZ49e0hPT2fDhg2Pve+gQYP47rvvWLhwIfHx8Sxbtgx7e3uqVq3KDz/8AEBCQgJJSUksWLAAgMjISL766iuWLl3KyZMnGTduHAMGDCAmJga4l5h79epFt27diIuL4/XXX2fSpEmPjaN+/fo0b96cL7/8Uqt8xYoVPPvss/j5+XHr1i1CQkLYs2cP+/fvp1atWnTu3Jlbt27p9pf9L+fOnaNjx4707t2bY8eOsWbNGvbs2cPo0aP1vqYQpZ5p310tlCQkJETdvXt3tVqtVhcWFqqjo6PVdnZ26vHjx2v2e3h4qHNzczXnfP3112pfX191YWGhpiw3N1ddrlw59S+//KJWq9VqLy8v9dy5czX78/Pz1VWqVNHcS63WfjN/QkKCGlBHR0c/NM77K0jcuHFDU5aTk6MuX768eu/evVrHDh06VN2vXz+1Wq1Wh4eHq/39/bX2T5w48YFr/dfSpUvV9vb26lu3bqnVarX65s2b6vLly6uXL1/+0OMLCgrUDg4O6k2bNmnKAPWGDRseGf/Ro0fVgPr8+fOauIcPH6513d9//11tZWWlzs7OfmSsQpgzaeGJErV582bs7e0pW7YsnTp1om/fvkybNk2zv379+tja2mo+//nnn5w9exYHBwfs7e2xt7fHxcWFnJwczp07R2ZmJklJSbRo0UJzTpkyZWjWrNkjY7i/4Gjr1q2LHPfZs2e5c+cO7du318Rhb2/PV199xblz5wCIj4/XigMo0qLA/fr1o6CggO+//x6ANWvWYGVlRd++fQFISUlh2LBh1KpVCycnJxwdHcnKyiIxMbHI8f/Xn3/+SVRUlFZdgoODKSws5Pz583pfV4jSTBaAFSWqTZs2LFmyBFtbW7y9vSlTRvt/wQoVKmh9zsrKomnTpnz77bcPXMvd3V2vGPRZDDYrKwuALVu2ULlyZa19dnZ2esVxn6OjIy+99BIrVqxgyJAhrFixgj59+mBvbw9ASEgIaWlpLFiwgGrVqmFnZ0dgYOAjB/VYWd37PVb9r+eY/x3pmZWVxYgRI3jzzTcfON/cFv4Voqgk4YkSVaFCBWrWrFnk45s0acKaNWuoVKkSjo6ODz3Gy8uLAwcO0KpVKwDu3r1LbGwsTZo0eejx9evXp7CwkJiYGIKCgh7Yf7+FWVBQoCnz9/fHzs6OxMTER7YM69SpoxmAc9/+/fufXEnuDV554YUX2Lx5M3v37tUaufrHH3+wePFiOnfuDNx7VpiamvrIa93/RSApKYmKFSsC91q1/9akSRNOnTql03chhLmTLk1RqvXv3x83Nze6d+/O77//zvnz59m1axdvvvkmly9fBmDs2LHMnj2bjRs3cvr0aUaNGvXYOXRPPfUUISEhDBkyhI0bN2queb9LsVq1aqhUKjZv3sz169fJysrCwcGB8ePHM27cOFauXMm5c+c4cuQIn3zyCStXrgTgjTfe4MyZM0yYMIGEhARWrVpFVFRUkerZqlUratasyaBBg/Dz8+PZZ5/V7KtVqxZff/018fHxHDhwgP79+z+2lVqzZk2qVq3KtGnTOHPmDFu2bGHevHlax0ycOJG9e/cyevRo4uLiOHPmDD/++KMMWhEWTRKeKNXKly/P7t278fHxoVevXtSpU4ehQ4eSk5OjafG9/fbbDBw4kJCQEAIDA3FwcKBnz56Pve6SJUt46aWXGDVqFH5+fgwbNkwzJL9y5cpMnz6dSZMm4eHhoUkC7733HlOmTCEyMpI6derQsWNHtmzZQvXq1YF7XYE//PADGzdupGHDhixdupRZs2YVqZ4qlYohQ4Zw48YNhgwZorXviy++4MaNGzRp0oSBAwfy5ptvUqlSpUdey8bGhu+++47Tp0/ToEED5syZw8yZM7WOadCgATExMfz111+0bNmSxo0bM3XqVLy9vYsUrxDmSKVW/2fCkhBCCGGBpIUnhBBCESThCSGEUARJeEIIIRRBEp4QQghFkIQnhBBCESThCSGEUARJeEIIIRRBEp4QQghFkIQnhBBCESThCSGEUARJeEIIIRRBEp4QQghF+D+ku4Y4UE1IXgAAAABJRU5ErkJggg==",
>>>>>>> new
      "text/plain": [
       "<Figure size 500x400 with 2 Axes>"
      ]
     },
     "metadata": {},
     "output_type": "display_data"
    }
   ],
   "source": [
    "plt.figure(figsize = (5,4))\n",
    "sns.heatmap(test, annot = True, cmap = 'Greens')\n",
    "plt.xlabel('Predicted Value')\n",
    "plt.ylabel('Truth or Actual Value')\n",
    "plt.show()"
   ]
  },
  {
   "attachments": {},
   "cell_type": "markdown",
   "metadata": {},
   "source": [
    "#### 2. Các thông số đánh giá: Accuracy, Precision, Recall"
   ]
  },
  {
   "attachments": {},
   "cell_type": "markdown",
   "metadata": {},
   "source": [
    " Độ so khớp của mô hình với dữ liệu (%)"
   ]
  },
  {
   "cell_type": "code",
<<<<<<< HEAD
<<<<<<< HEAD
   "execution_count": 66,
=======
   "execution_count": 28,
>>>>>>> 56b924b9eef64f23282d36a3febab8deae55b76a
=======
   "execution_count": 21,
>>>>>>> new
   "metadata": {},
   "outputs": [
    {
     "name": "stdout",
     "output_type": "stream",
     "text": [
<<<<<<< HEAD
<<<<<<< HEAD
      "Accuracy: 0.9166666666666666\n"
=======
      "Accuracy: 0.91\n"
>>>>>>> 56b924b9eef64f23282d36a3febab8deae55b76a
=======
      "Accuracy: 0.9293598233995585\n"
>>>>>>> new
     ]
    }
   ],
   "source": [
    "print(\"Accuracy:\", metrics.accuracy_score(y_test, predicted_output))"
   ]
  },
  {
   "attachments": {},
   "cell_type": "markdown",
   "metadata": {},
   "source": [
    "Với confusion matrix ở trên do ở đây ta thực hiên phân lớp tới 6 loại label khác nhau, nên việc tính toán các giá trị TP FP TN FN có vẻ khá tốn thời gian nên chúng ta sẽ sử dụng hàm classification_report để tính toán ra được giá trị precision, recall tương ứng với từng label."
   ]
  },
  {
   "cell_type": "code",
<<<<<<< HEAD
<<<<<<< HEAD
   "execution_count": 67,
=======
   "execution_count": 29,
>>>>>>> 56b924b9eef64f23282d36a3febab8deae55b76a
=======
   "execution_count": 22,
>>>>>>> new
   "metadata": {},
   "outputs": [
    {
     "name": "stdout",
     "output_type": "stream",
     "text": [
      "              precision    recall  f1-score   support\n",
      "\n",
<<<<<<< HEAD
<<<<<<< HEAD
      "         1.0       0.96      0.95      0.96       330\n",
      "         2.0       0.88      0.88      0.88       161\n",
      "         3.0       0.91      0.91      0.91        47\n",
      "         4.0       0.82      0.89      0.86        47\n",
      "         5.0       0.60      0.38      0.46         8\n",
      "         6.0       0.83      0.71      0.77         7\n",
      "\n",
      "    accuracy                           0.92       600\n",
      "   macro avg       0.83      0.79      0.81       600\n",
      "weighted avg       0.92      0.92      0.92       600\n",
=======
      "         1.0       0.95      0.97      0.96       339\n",
      "         2.0       0.90      0.85      0.87       147\n",
      "         3.0       0.86      0.78      0.82        46\n",
      "         4.0       0.81      0.87      0.84        54\n",
      "         5.0       0.56      0.71      0.63         7\n",
      "         6.0       0.67      0.57      0.62         7\n",
      "\n",
      "    accuracy                           0.91       600\n",
      "   macro avg       0.79      0.79      0.79       600\n",
      "weighted avg       0.91      0.91      0.91       600\n",
>>>>>>> 56b924b9eef64f23282d36a3febab8deae55b76a
=======
      "         1.0       0.96      0.99      0.97       556\n",
      "         2.0       0.91      0.87      0.89       205\n",
      "         3.0       0.95      0.83      0.89        76\n",
      "         4.0       0.71      0.80      0.76        56\n",
      "         5.0       0.56      0.83      0.67         6\n",
      "         6.0       1.00      0.43      0.60         7\n",
      "\n",
      "    accuracy                           0.93       906\n",
      "   macro avg       0.85      0.79      0.80       906\n",
      "weighted avg       0.93      0.93      0.93       906\n",
>>>>>>> new
      "\n"
     ]
    }
   ],
   "source": [
    "#Precision Recall\n",
    "print(metrics.classification_report(y_test, predicted_output)) "
   ]
  },
  {
   "attachments": {},
   "cell_type": "markdown",
   "metadata": {},
   "source": [
    "**NHẬN XÉT:**\n",
    "\n",
    "Với mô hình được sử dụng ở trên có vẻ accuracy mang lại có vẻ khá cao và chính xác, nhưng không thuộc vào trường hợp overfitting"
   ]
  },
  {
   "attachments": {},
   "cell_type": "markdown",
   "metadata": {},
   "source": [
    "# SO SÁNH 2 MÔ HÌNH\n"
   ]
  },
  {
   "attachments": {},
   "cell_type": "markdown",
   "metadata": {},
   "source": [
    "Cả 2 mô hình đều là phương pháp học có giám sát **(Supervised Learning)**.\n",
    "\n",
    "- **Random Forests** là một phương pháp thống kê mô hình hóa bằng máy (machine learning statistic) dùng để phục vụ các mục đích phân loại, tính hồi quy và các nhiệm vụ khác bằng cách xây dựng nhiều cây quyết định (Decision tree).\n",
    "- **Logistic Regression** là thuật toán đơn giản nhưng lại rất hiệu quả trong bài toán phân loại (Classification), là một phương pháp phân tích thống kê được sử dụng để dự đoán giá trị dữ liệu dựa trên các quan sát trước đó của tập dữ liệu.\n"
   ]
  },
  {
   "attachments": {},
   "cell_type": "markdown",
   "metadata": {},
   "source": [
    "Sử dụng **Confusion Matrix** để đánh giá sẽ giúp có cái nhìn rõ hơn về việc các điểm dữ liệu được phân loại đúng/sai như thế nào. Cả 2 mô hình đều sử dụng Confusion matrix nhằm giúp ta so sánh dễ hơn tính hiệu quả của 2 mô hình với bài toán."
   ]
  },
  {
   "cell_type": "code",
   "execution_count": 23,
   "metadata": {},
   "outputs": [
    {
     "name": "stdout",
     "output_type": "stream",
     "text": [
      "Random Forest: \n",
      "              precision    recall  f1-score   support\n",
      "\n",
      "         1.0       1.00      1.00      1.00       556\n",
      "         2.0       0.99      1.00      1.00       205\n",
      "         3.0       0.95      1.00      0.97        76\n",
      "         4.0       1.00      0.96      0.98        56\n",
      "         5.0       0.50      0.50      0.50         6\n",
      "         6.0       1.00      0.43      0.60         7\n",
      "\n",
      "    accuracy                           0.99       906\n",
      "   macro avg       0.91      0.82      0.84       906\n",
      "weighted avg       0.99      0.99      0.99       906\n",
      "\n",
      "Logistic Regression: \n",
      "              precision    recall  f1-score   support\n",
      "\n",
      "         1.0       0.96      0.99      0.97       556\n",
      "         2.0       0.91      0.87      0.89       205\n",
      "         3.0       0.95      0.83      0.89        76\n",
      "         4.0       0.71      0.80      0.76        56\n",
      "         5.0       0.56      0.83      0.67         6\n",
      "         6.0       1.00      0.43      0.60         7\n",
      "\n",
      "    accuracy                           0.93       906\n",
      "   macro avg       0.85      0.79      0.80       906\n",
      "weighted avg       0.93      0.93      0.93       906\n",
      "\n"
     ]
    }
   ],
   "source": [
    "#Precision Recall\n",
    "#Random Forest\n",
    "print(\"Random Forest: \")\n",
    "print(metrics.classification_report(y_test, y_pred)) \n",
    "\n",
    "#Logistic Regression\n",
    "print(\"Logistic Regression: \")\n",
    "print(metrics.classification_report(y_test, predicted_output)) "
   ]
  },
  {
   "attachments": {},
   "cell_type": "markdown",
   "metadata": {},
   "source": [
    "Sau khi đánh giá mô hình trên tập dự liệu test thì độ chính xác (Accuracy) của mô hình Logistic Regression thấp hơn Random Forest khoảng 8%. Về hệ số dự đoán (Precision), mô hình Random forest đều dự đoán chính xác hơn Logistic Regression ở từng label. Tương tự, Random Forest cũng có độ bao phủ (Recall), giá trị trung bình điều hòa giữa Recall và Precision (Fl-score) đều cao hơn mô hình Logistic Regression."
   ]
  },
  {
   "attachments": {},
   "cell_type": "markdown",
   "metadata": {},
   "source": [
    "**Tại sao trong bài toán này mô hình Random Forest lại hiệu quả hơn mô hình Logistic Regression ?**"
   ]
  },
  {
   "attachments": {},
   "cell_type": "markdown",
   "metadata": {},
   "source": [
    " - Random Forest cho thấy hiệu quả hơn so với thuật toán phân loại thường được sử dụng vì có khả năng tìm ra thuộc tính nào quan trọng hơn so với những thuộc tính khác.Trên thực tế, nó còn có thể chỉ ra rằng một số thuộc tính là không có tác dụng trong cây quyết định. Còn về Logistic Regression có các thuộc tính không có mối quan hệ lẫn nhau.\n",
    " - Nói như thế không phải mô hình Logistic Regression không hiệu quả mà nó còn phụ thuộc vào dữ liệu, bài toán mà ta cần thực hiện cũng như phương pháp đánh giá mô hình ta chọn.\n",
    " \n",
    " **=> Ở bài toán này, dùng mô hình Random Forest sẽ hiệu quả hơn Logistic Regression.**"
   ]
  },
  {
   "attachments": {},
   "cell_type": "markdown",
   "metadata": {},
   "source": [
    "Tuy nhiên, với độ accuracy là rất cao ~0.99 thì ta có thể đoán ra được mô hình Random Forest đang bị **Over Fitting**. Do đó ta cần nhiều tập test và train để kiểm tra thêm mô hình có thật sự chính xác hay không."
   ]
  }
 ],
 "metadata": {
  "kernelspec": {
   "display_name": "Python 3",
   "language": "python",
   "name": "python3"
  },
  "language_info": {
   "codemirror_mode": {
    "name": "ipython",
    "version": 3
   },
   "file_extension": ".py",
   "mimetype": "text/x-python",
   "name": "python",
   "nbconvert_exporter": "python",
   "pygments_lexer": "ipython3",
<<<<<<< HEAD
<<<<<<< HEAD
   "version": "3.10.9 (tags/v3.10.9:1dd9be6, Dec  6 2022, 20:01:21) [MSC v.1934 64 bit (AMD64)]"
=======
   "version": "3.10.1"
>>>>>>> 56b924b9eef64f23282d36a3febab8deae55b76a
=======
   "version": "3.10.9"
>>>>>>> new
  },
  "orig_nbformat": 4,
  "vscode": {
   "interpreter": {
    "hash": "65a440aeac0c89e2af7569e0aa53b64434c4b69eb6285e2b0d174d9bca190d54"
   }
  }
 },
 "nbformat": 4,
 "nbformat_minor": 2
}
