{
 "cells": [
  {
   "attachments": {},
   "cell_type": "markdown",
   "metadata": {},
   "source": [
    "## Mô hình Logistic Regression"
   ]
  },
  {
   "cell_type": "code",
   "execution_count": null,
   "metadata": {},
   "outputs": [],
   "source": [
    "import pandas as pd\n",
    "import numpy as np\n",
    "import warnings\n",
    "import matplotlib.pyplot as plt\n",
    "\n",
    "from sklearn import linear_model\n",
    "from sklearn.impute import SimpleImputer\n",
    "from sklearn.linear_model import LogisticRegression\n",
    "from sklearn.model_selection import train_test_split"
   ]
  },
  {
   "cell_type": "code",
   "execution_count": null,
   "metadata": {},
   "outputs": [
    {
     "data": {
      "text/html": [
       "<div>\n",
       "<style scoped>\n",
       "    .dataframe tbody tr th:only-of-type {\n",
       "        vertical-align: middle;\n",
       "    }\n",
       "\n",
       "    .dataframe tbody tr th {\n",
       "        vertical-align: top;\n",
       "    }\n",
       "\n",
       "    .dataframe thead th {\n",
       "        text-align: right;\n",
       "    }\n",
       "</style>\n",
       "<table border=\"1\" class=\"dataframe\">\n",
       "  <thead>\n",
       "    <tr style=\"text-align: right;\">\n",
       "      <th></th>\n",
       "      <th>Thời tiết</th>\n",
       "      <th>Nhiệt độ</th>\n",
       "      <th>Độ ẩm</th>\n",
       "      <th>Gió</th>\n",
       "      <th>Áp suất</th>\n",
       "      <th>PM2.5</th>\n",
       "      <th>PM10</th>\n",
       "      <th>O3</th>\n",
       "      <th>NO2</th>\n",
       "      <th>SO2</th>\n",
       "      <th>CO</th>\n",
       "      <th>target</th>\n",
       "    </tr>\n",
       "  </thead>\n",
       "  <tbody>\n",
       "    <tr>\n",
       "      <th>0</th>\n",
       "      <td>Trời quang</td>\n",
       "      <td>11°C</td>\n",
       "      <td>52%</td>\n",
       "      <td>8.8 km/h</td>\n",
       "      <td>1017 mbar</td>\n",
       "      <td>61.3</td>\n",
       "      <td>185.3</td>\n",
       "      <td>2</td>\n",
       "      <td>52.2</td>\n",
       "      <td>10.4</td>\n",
       "      <td>1160.0</td>\n",
       "      <td>Không lành mạnh</td>\n",
       "    </tr>\n",
       "    <tr>\n",
       "      <th>1</th>\n",
       "      <td>Trời quang</td>\n",
       "      <td>12°C</td>\n",
       "      <td>44%</td>\n",
       "      <td>9.4 km/h</td>\n",
       "      <td>1016 mbar</td>\n",
       "      <td>139.2</td>\n",
       "      <td>245.5</td>\n",
       "      <td>4.5</td>\n",
       "      <td>44.6</td>\n",
       "      <td>8.8</td>\n",
       "      <td>1150.0</td>\n",
       "      <td>Không lành mạnh</td>\n",
       "    </tr>\n",
       "    <tr>\n",
       "      <th>2</th>\n",
       "      <td>Nhiều mây</td>\n",
       "      <td>-4°C</td>\n",
       "      <td>45%</td>\n",
       "      <td>5 km/h</td>\n",
       "      <td>1036 mbar</td>\n",
       "      <td>157</td>\n",
       "      <td>416.5</td>\n",
       "      <td>9</td>\n",
       "      <td>59</td>\n",
       "      <td>27.5</td>\n",
       "      <td>NaN</td>\n",
       "      <td>Rất không lành mạnh</td>\n",
       "    </tr>\n",
       "    <tr>\n",
       "      <th>3</th>\n",
       "      <td>Sương mù</td>\n",
       "      <td>12°C</td>\n",
       "      <td>87%</td>\n",
       "      <td>7.4 km/h</td>\n",
       "      <td>1016 mbar</td>\n",
       "      <td>123.9</td>\n",
       "      <td>222.3</td>\n",
       "      <td>23</td>\n",
       "      <td>54.8</td>\n",
       "      <td>NaN</td>\n",
       "      <td>NaN</td>\n",
       "      <td>Không lành mạnh</td>\n",
       "    </tr>\n",
       "    <tr>\n",
       "      <th>4</th>\n",
       "      <td>Trời quang</td>\n",
       "      <td>12°C</td>\n",
       "      <td>56%</td>\n",
       "      <td>7.1 km/h</td>\n",
       "      <td>1016 mbar</td>\n",
       "      <td>83.3*</td>\n",
       "      <td>NaN</td>\n",
       "      <td>NaN</td>\n",
       "      <td>NaN</td>\n",
       "      <td>NaN</td>\n",
       "      <td>NaN</td>\n",
       "      <td>Không lành mạnh</td>\n",
       "    </tr>\n",
       "  </tbody>\n",
       "</table>\n",
       "</div>"
      ],
      "text/plain": [
       "    Thời tiết Nhiệt độ Độ ẩm       Gió    Áp suất  PM2.5   PM10   O3   NO2   \\\n",
       "0  Trời quang     11°C   52%  8.8 km/h  1017 mbar    61.3  185.3    2  52.2   \n",
       "1  Trời quang     12°C   44%  9.4 km/h  1016 mbar   139.2  245.5  4.5  44.6   \n",
       "2   Nhiều mây     -4°C   45%    5 km/h  1036 mbar     157  416.5    9    59   \n",
       "3    Sương mù     12°C   87%  7.4 km/h  1016 mbar   123.9  222.3   23  54.8   \n",
       "4  Trời quang     12°C   56%  7.1 km/h  1016 mbar   83.3*    NaN  NaN   NaN   \n",
       "\n",
       "   SO2      CO                target  \n",
       "0  10.4  1160.0      Không lành mạnh  \n",
       "1   8.8  1150.0      Không lành mạnh  \n",
       "2  27.5     NaN  Rất không lành mạnh  \n",
       "3   NaN     NaN      Không lành mạnh  \n",
       "4   NaN     NaN      Không lành mạnh  "
      ]
     },
     "execution_count": 66,
     "metadata": {},
     "output_type": "execute_result"
    }
   ],
   "source": [
    "from os import walk\n",
    "filenames = next(walk('./data/data'), (None, None, []))[2]  # [] if no file\n",
    "filename = filenames[-1]\n",
    "df = pd.read_csv(f'./data/data/{filename}')\n",
    "df.head()"
   ]
  },
  {
   "attachments": {},
   "cell_type": "markdown",
   "metadata": {},
   "source": [
    "### Chuyển các string thành số\n"
   ]
  },
  {
   "cell_type": "code",
   "execution_count": null,
   "metadata": {},
   "outputs": [
    {
     "data": {
      "text/html": [
       "<div>\n",
       "<style scoped>\n",
       "    .dataframe tbody tr th:only-of-type {\n",
       "        vertical-align: middle;\n",
       "    }\n",
       "\n",
       "    .dataframe tbody tr th {\n",
       "        vertical-align: top;\n",
       "    }\n",
       "\n",
       "    .dataframe thead th {\n",
       "        text-align: right;\n",
       "    }\n",
       "</style>\n",
       "<table border=\"1\" class=\"dataframe\">\n",
       "  <thead>\n",
       "    <tr style=\"text-align: right;\">\n",
       "      <th></th>\n",
       "      <th>Thời tiết</th>\n",
       "      <th>Nhiệt độ</th>\n",
       "      <th>Độ ẩm</th>\n",
       "      <th>Gió</th>\n",
       "      <th>Áp suất</th>\n",
       "      <th>PM2.5</th>\n",
       "      <th>PM10</th>\n",
       "      <th>O3</th>\n",
       "      <th>NO2</th>\n",
       "      <th>SO2</th>\n",
       "      <th>CO</th>\n",
       "      <th>target</th>\n",
       "    </tr>\n",
       "  </thead>\n",
       "  <tbody>\n",
       "    <tr>\n",
       "      <th>0</th>\n",
       "      <td>1</td>\n",
       "      <td>11°C</td>\n",
       "      <td>52%</td>\n",
       "      <td>8.8 km/h</td>\n",
       "      <td>1017 mbar</td>\n",
       "      <td>61.3</td>\n",
       "      <td>185.3</td>\n",
       "      <td>2</td>\n",
       "      <td>52.2</td>\n",
       "      <td>10.4</td>\n",
       "      <td>1160.0</td>\n",
       "      <td>2</td>\n",
       "    </tr>\n",
       "    <tr>\n",
       "      <th>1</th>\n",
       "      <td>1</td>\n",
       "      <td>12°C</td>\n",
       "      <td>44%</td>\n",
       "      <td>9.4 km/h</td>\n",
       "      <td>1016 mbar</td>\n",
       "      <td>139.2</td>\n",
       "      <td>245.5</td>\n",
       "      <td>4.5</td>\n",
       "      <td>44.6</td>\n",
       "      <td>8.8</td>\n",
       "      <td>1150.0</td>\n",
       "      <td>2</td>\n",
       "    </tr>\n",
       "    <tr>\n",
       "      <th>2</th>\n",
       "      <td>0</td>\n",
       "      <td>-4°C</td>\n",
       "      <td>45%</td>\n",
       "      <td>5 km/h</td>\n",
       "      <td>1036 mbar</td>\n",
       "      <td>157</td>\n",
       "      <td>416.5</td>\n",
       "      <td>9</td>\n",
       "      <td>59</td>\n",
       "      <td>27.5</td>\n",
       "      <td>NaN</td>\n",
       "      <td>4</td>\n",
       "    </tr>\n",
       "    <tr>\n",
       "      <th>3</th>\n",
       "      <td>4</td>\n",
       "      <td>12°C</td>\n",
       "      <td>87%</td>\n",
       "      <td>7.4 km/h</td>\n",
       "      <td>1016 mbar</td>\n",
       "      <td>123.9</td>\n",
       "      <td>222.3</td>\n",
       "      <td>23</td>\n",
       "      <td>54.8</td>\n",
       "      <td>NaN</td>\n",
       "      <td>NaN</td>\n",
       "      <td>2</td>\n",
       "    </tr>\n",
       "    <tr>\n",
       "      <th>4</th>\n",
       "      <td>1</td>\n",
       "      <td>12°C</td>\n",
       "      <td>56%</td>\n",
       "      <td>7.1 km/h</td>\n",
       "      <td>1016 mbar</td>\n",
       "      <td>83.3*</td>\n",
       "      <td>NaN</td>\n",
       "      <td>NaN</td>\n",
       "      <td>NaN</td>\n",
       "      <td>NaN</td>\n",
       "      <td>NaN</td>\n",
       "      <td>2</td>\n",
       "    </tr>\n",
       "  </tbody>\n",
       "</table>\n",
       "</div>"
      ],
      "text/plain": [
       "   Thời tiết Nhiệt độ Độ ẩm       Gió    Áp suất  PM2.5   PM10   O3   NO2   \\\n",
       "0          1     11°C   52%  8.8 km/h  1017 mbar    61.3  185.3    2  52.2   \n",
       "1          1     12°C   44%  9.4 km/h  1016 mbar   139.2  245.5  4.5  44.6   \n",
       "2          0     -4°C   45%    5 km/h  1036 mbar     157  416.5    9    59   \n",
       "3          4     12°C   87%  7.4 km/h  1016 mbar   123.9  222.3   23  54.8   \n",
       "4          1     12°C   56%  7.1 km/h  1016 mbar   83.3*    NaN  NaN   NaN   \n",
       "\n",
       "   SO2      CO   target  \n",
       "0  10.4  1160.0       2  \n",
       "1   8.8  1150.0       2  \n",
       "2  27.5     NaN       4  \n",
       "3   NaN     NaN       2  \n",
       "4   NaN     NaN       2  "
      ]
     },
     "execution_count": 67,
     "metadata": {},
     "output_type": "execute_result"
    }
   ],
   "source": [
    "weather = ['Nhiều mây', 'Trời quang', 'Mưa', 'Mây rải rác', 'Sương mù', 'Ít mây', 'Tuyết', 'Mưa rào', 'Giông bão']\n",
    "target = ['Tốt', 'Trung bình', 'Không lành mạnh', 'Không lành mạnh cho các nhóm nhạy cảm', \n",
    "          'Rất không lành mạnh', 'Nguy hiểm']\n",
    "df = df.replace(weather, np.arange(len(weather)))\n",
    "df = df.replace(target, np.arange(len(target)))\n",
    "df.head()"
   ]
  },
  {
   "cell_type": "code",
   "execution_count": null,
   "metadata": {},
   "outputs": [],
   "source": [
    "with warnings.catch_warnings():\n",
    "    warnings.simplefilter(\"ignore\")\n",
    "    df['Nhiệt độ'] = df['Nhiệt độ'].str.replace('°C', '')\n",
    "    df['Độ ẩm'] = df['Độ ẩm'].str.replace('%', '')\n",
    "    df['Gió'] = df['Gió'].str.replace(' km/h', '')\n",
    "    df['Áp suất'] = df['Áp suất'].str.replace(' mbar', '')\n",
    "    df[' PM2.5 '] = df[' PM2.5 '].str.replace('*', '')\n",
    "    df[' PM10 '] = df[' PM10 '].str.replace('*', '')\n",
    "    df[' O3 '] = df[' O3 '].str.replace('*', '')\n",
    "    df[' NO2 '] = df[' NO2 '].str.replace('*', '')\n",
    "    df[' SO2 '] = df[' SO2 '].str.replace('*', '')\n",
    "\n",
    "df = df.astype(np.float64)\n",
    "df.dtypes"
   ]
  },
  {
   "cell_type": "code",
   "execution_count": null,
   "metadata": {},
   "outputs": [
    {
     "data": {
      "text/plain": [
       "Thời tiết    0\n",
       "Nhiệt độ     0\n",
       "Độ ẩm        0\n",
       "Gió          0\n",
       "Áp suất      0\n",
       " PM2.5       0\n",
       " PM10        0\n",
       " O3          0\n",
       " NO2         0\n",
       " SO2         0\n",
       " CO          0\n",
       "target       0\n",
       "dtype: int64"
      ]
     },
     "execution_count": 71,
     "metadata": {},
     "output_type": "execute_result"
    }
   ],
   "source": [
    "X = df.iloc[:, :-1]\n",
    "Y = df['target']\n",
    "\n",
    "imputer = SimpleImputer(missing_values = np.nan, strategy = 'mean')\n",
    "imputer = imputer.fit(X)\n",
    "X = imputer.transform(X)"
   ]
  },
  {
   "cell_type": "code",
   "execution_count": null,
   "metadata": {},
   "outputs": [],
   "source": [
    "X_train, X_test, y_train, y_test = train_test_split(X, Y, test_size = 0.3)"
   ]
  },
  {
   "cell_type": "code",
   "execution_count": null,
   "metadata": {},
   "outputs": [
    {
     "name": "stderr",
     "output_type": "stream",
     "text": [
      "d:\\anaconda3\\envs\\min_ds-env\\lib\\site-packages\\sklearn\\linear_model\\_logistic.py:763: ConvergenceWarning: lbfgs failed to converge (status=1):\n",
      "STOP: TOTAL NO. of ITERATIONS REACHED LIMIT.\n",
      "\n",
      "Increase the number of iterations (max_iter) or scale the data as shown in:\n",
      "    https://scikit-learn.org/stable/modules/preprocessing.html\n",
      "Please also refer to the documentation for alternative solver options:\n",
      "    https://scikit-learn.org/stable/modules/linear_model.html#logistic-regression\n",
      "  n_iter_i = _check_optimize_result(\n"
     ]
    },
    {
     "data": {
      "text/plain": [
       "LogisticRegression(max_iter=120)"
      ]
     },
     "execution_count": 73,
     "metadata": {},
     "output_type": "execute_result"
    }
   ],
   "source": [
    "mymodel = linear_model.LogisticRegression(max_iter = 120)\n",
    "mymodel.fit(X_train,y_train)"
   ]
  },
  {
   "cell_type": "code",
   "execution_count": null,
   "metadata": {},
   "outputs": [
    {
     "data": {
      "text/plain": [
       "0.934640522875817"
      ]
     },
     "execution_count": 74,
     "metadata": {},
     "output_type": "execute_result"
    }
   ],
   "source": [
    "mymodel.score(X_test, y_test)"
   ]
  },
  {
   "cell_type": "code",
   "execution_count": null,
   "metadata": {},
   "outputs": [
    {
     "data": {
      "text/plain": [
       "array([0., 1., 1., 0., 1., 0., 2., 0., 0., 1., 0., 0., 1., 1., 0., 0., 0.,\n",
       "       0., 0., 3., 0., 0., 0., 0., 0., 0., 0., 1., 0., 0., 0., 0., 0., 0.,\n",
       "       0., 2., 0., 1., 0., 0., 0., 0., 0., 0., 0., 0., 3., 3., 1., 0., 1.,\n",
       "       0., 0., 2., 0., 2., 2., 1., 1., 0., 0., 3., 0., 0., 0., 0., 0., 0.,\n",
       "       3., 0., 1., 1., 1., 2., 1., 0., 2., 0., 0., 0., 1., 0., 2., 3., 0.,\n",
       "       1., 0., 0., 0., 0., 1., 2., 0., 0., 0., 1., 0., 1., 1., 0., 0., 0.,\n",
       "       0., 0., 2., 0., 0., 1., 0., 0., 1., 1., 0., 0., 0., 0., 0., 0., 0.,\n",
       "       0., 2., 1., 0., 0., 0., 2., 0., 0., 0., 1., 1., 2., 0., 0., 0., 0.,\n",
       "       1., 0., 0., 1., 1., 0., 0., 0., 0., 0., 0., 0., 0., 0., 3., 0., 1.,\n",
       "       1., 0., 0., 2., 2., 0., 0., 1., 0., 0., 0., 1., 0., 0., 0., 0., 0.,\n",
       "       3., 2., 0., 0., 2., 2., 2., 0., 0., 1., 0., 1., 0., 0., 0., 0., 0.,\n",
       "       0., 0., 0., 0., 0., 0., 1., 0., 0., 0., 0., 1., 1., 0., 0., 1., 0.,\n",
       "       0., 0., 0., 3., 0., 0., 0., 0., 0., 0., 1., 0., 0., 0., 1., 0., 1.,\n",
       "       0., 0., 0., 0., 0., 0., 0., 1., 0., 0., 0., 1., 1., 0., 1., 1., 0.,\n",
       "       0., 1., 0., 0., 0., 0., 2., 3., 0., 0., 0., 2., 0., 1., 0., 0., 0.,\n",
       "       3., 0., 0., 1., 1., 0., 0., 0., 1., 3., 0., 1., 0., 1., 0., 0., 0.,\n",
       "       1., 0., 0., 0., 0., 2., 0., 3., 1., 0., 0., 0., 0., 0., 0., 0., 0.,\n",
       "       0., 0., 0., 0., 4., 0., 2., 1., 0., 0., 2., 1., 0., 0., 1., 3., 0.])"
      ]
     },
     "execution_count": 75,
     "metadata": {},
     "output_type": "execute_result"
    }
   ],
   "source": [
    "predicted_output = mymodel.predict(X_test)\n",
    "predicted_output"
   ]
  },
  {
   "attachments": {},
   "cell_type": "markdown",
   "metadata": {},
   "source": [
    "## Đánh giá mô hình"
   ]
  },
  {
   "cell_type": "code",
   "execution_count": null,
   "metadata": {},
   "outputs": [
    {
     "data": {
      "text/plain": [
       "array([[201,   4,   0,   0,   0,   0],\n",
       "       [  5,  51,   0,   1,   0,   0],\n",
       "       [  0,   1,  23,   2,   0,   0],\n",
       "       [  0,   5,   0,  11,   0,   0],\n",
       "       [  0,   0,   1,   0,   0,   0],\n",
       "       [  0,   0,   0,   0,   1,   0]], dtype=int64)"
      ]
     },
     "execution_count": 76,
     "metadata": {},
     "output_type": "execute_result"
    }
   ],
   "source": [
    "from sklearn.metrics import confusion_matrix\n",
    "cm = confusion_matrix(y_test, predicted_output)\n",
    "cm"
   ]
  },
  {
   "cell_type": "code",
   "execution_count": null,
   "metadata": {},
   "outputs": [
    {
     "data": {
      "text/plain": [
       "Text(33.22222222222222, 0.5, 'Truth or Actual Value')"
      ]
     },
     "execution_count": 77,
     "metadata": {},
     "output_type": "execute_result"
    },
    {
     "data": {
      "image/png": "[encoded data removed]",
      "text/plain": [
       "<Figure size 500x400 with 2 Axes>"
      ]
     },
     "metadata": {},
     "output_type": "display_data"
    }
   ],
   "source": [
    "import seaborn as sn\n",
    "from matplotlib import pyplot as plt\n",
    "plt.figure(figsize = (5,4))\n",
    "sn.heatmap(cm, annot=True)\n",
    "plt.xlabel('Predicted Value')\n",
    "plt.ylabel('Truth or Actual Value')"
   ]
  }
 ],
 "metadata": {
  "kernelspec": {
   "display_name": "Python 3",
   "language": "python",
   "name": "python3"
  },
  "language_info": {
   "codemirror_mode": {
    "name": "ipython",
    "version": 3
   },
   "file_extension": ".py",
   "mimetype": "text/x-python",
   "name": "python",
   "nbconvert_exporter": "python",
   "pygments_lexer": "ipython3",
   "version": "3.10.9 (tags/v3.10.9:1dd9be6, Dec  6 2022, 20:01:21) [MSC v.1934 64 bit (AMD64)]"
  },
  "orig_nbformat": 4,
  "vscode": {
   "interpreter": {
    "hash": "65a440aeac0c89e2af7569e0aa53b64434c4b69eb6285e2b0d174d9bca190d54"
   }
  }
 },
 "nbformat": 4,
 "nbformat_minor": 2
}
