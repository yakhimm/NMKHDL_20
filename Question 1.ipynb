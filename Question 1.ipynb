{
 "cells": [
  {
   "cell_type": "markdown",
   "id": "4fa87cde",
   "metadata": {},
   "source": [
    "# CÂU 1"
   ]
  },
  {
   "cell_type": "markdown",
   "id": "6f90fa74",
   "metadata": {},
   "source": [
    "*Câu hỏi:* Đâu là top 5 thành phố có mật độ ô nhiễm cao nhất, thấp nhất trong 5 năm 2017 - 2021? Với mỗi thành phố cao nhất, thấp nhất trong năm 2021 mật độ ô nhiễm biến đổi như thế nào theo các tháng? Thử giải thích"
   ]
  },
  {
   "cell_type": "markdown",
   "id": "7d661a72",
   "metadata": {},
   "source": [
    "*Ý nghĩa:* Nhằm xác định được những thành phố nào đã đạt được mức độ ô nhiễm đáng báo động vô cùng trong những năm vừa qua, cũng như những quốc gia đã giữ được sự trong sạch của không khí. Thông qua đó có thể biểu diễn được cụ thể quá trình biến đổi chất lượng không khí trong suốt 12 tháng của năm gần đây nhất, để xem thử có sự biến động nào đặc biệt xảy ra đối với 2 thành phố cao nhất và thấp nhất không."
   ]
  },
  {
   "cell_type": "markdown",
   "id": "4faa5909",
   "metadata": {},
   "source": [
    "***Đọc dữ liệu và xử lý để trả lời câu hỏi***"
   ]
  },
  {
   "cell_type": "code",
   "execution_count": 1,
   "id": "ee0ce5af",
   "metadata": {},
   "outputs": [],
   "source": [
    "#import thư viện cần thiết\n",
    "import pandas as pd\n",
    "import numpy as np\n",
    "import matplotlib.pyplot as plt"
   ]
  },
  {
   "cell_type": "code",
   "execution_count": 2,
   "id": "1c79ad1a",
   "metadata": {},
   "outputs": [
    {
     "data": {
      "text/html": [
       "<div>\n",
       "<style scoped>\n",
       "    .dataframe tbody tr th:only-of-type {\n",
       "        vertical-align: middle;\n",
       "    }\n",
       "\n",
       "    .dataframe tbody tr th {\n",
       "        vertical-align: top;\n",
       "    }\n",
       "\n",
       "    .dataframe thead th {\n",
       "        text-align: right;\n",
       "    }\n",
       "</style>\n",
       "<table border=\"1\" class=\"dataframe\">\n",
       "  <thead>\n",
       "    <tr style=\"text-align: right;\">\n",
       "      <th></th>\n",
       "      <th>Rank</th>\n",
       "      <th>City</th>\n",
       "      <th>Country</th>\n",
       "      <th>Year_2021</th>\n",
       "      <th>Jan</th>\n",
       "      <th>Feb</th>\n",
       "      <th>Mar</th>\n",
       "      <th>Apr</th>\n",
       "      <th>May</th>\n",
       "      <th>Jun</th>\n",
       "      <th>Jul</th>\n",
       "      <th>Aug</th>\n",
       "      <th>Sep</th>\n",
       "      <th>Oct</th>\n",
       "      <th>Nov</th>\n",
       "      <th>Dec</th>\n",
       "      <th>Year_2020</th>\n",
       "      <th>Year_2019</th>\n",
       "      <th>Year_2018</th>\n",
       "      <th>Year_2017</th>\n",
       "    </tr>\n",
       "  </thead>\n",
       "  <tbody>\n",
       "    <tr>\n",
       "      <th>0</th>\n",
       "      <td>1</td>\n",
       "      <td>Bhiwadi</td>\n",
       "      <td>India</td>\n",
       "      <td>106.2</td>\n",
       "      <td>145.8</td>\n",
       "      <td>129.8</td>\n",
       "      <td>120.2</td>\n",
       "      <td>125.7</td>\n",
       "      <td>86.5</td>\n",
       "      <td>95.9</td>\n",
       "      <td>55.6</td>\n",
       "      <td>55.4</td>\n",
       "      <td>37.1</td>\n",
       "      <td>91.1</td>\n",
       "      <td>188.6</td>\n",
       "      <td>136.6</td>\n",
       "      <td>95.5</td>\n",
       "      <td>83.4</td>\n",
       "      <td>125.4</td>\n",
       "      <td>NaN</td>\n",
       "    </tr>\n",
       "    <tr>\n",
       "      <th>1</th>\n",
       "      <td>2</td>\n",
       "      <td>Ghaziabad</td>\n",
       "      <td>India</td>\n",
       "      <td>102.0</td>\n",
       "      <td>199.9</td>\n",
       "      <td>172.2</td>\n",
       "      <td>97.8</td>\n",
       "      <td>86.3</td>\n",
       "      <td>52.9</td>\n",
       "      <td>47.2</td>\n",
       "      <td>35.3</td>\n",
       "      <td>37.6</td>\n",
       "      <td>30.8</td>\n",
       "      <td>89.7</td>\n",
       "      <td>218.3</td>\n",
       "      <td>163.0</td>\n",
       "      <td>106.6</td>\n",
       "      <td>110.2</td>\n",
       "      <td>135.2</td>\n",
       "      <td>144.6</td>\n",
       "    </tr>\n",
       "    <tr>\n",
       "      <th>2</th>\n",
       "      <td>3</td>\n",
       "      <td>Hotan</td>\n",
       "      <td>China</td>\n",
       "      <td>101.5</td>\n",
       "      <td>NaN</td>\n",
       "      <td>NaN</td>\n",
       "      <td>158.0</td>\n",
       "      <td>91.1</td>\n",
       "      <td>167.4</td>\n",
       "      <td>57.4</td>\n",
       "      <td>70.9</td>\n",
       "      <td>93.2</td>\n",
       "      <td>79.3</td>\n",
       "      <td>126.1</td>\n",
       "      <td>111.5</td>\n",
       "      <td>62.6</td>\n",
       "      <td>110.2</td>\n",
       "      <td>110.1</td>\n",
       "      <td>116.0</td>\n",
       "      <td>91.9</td>\n",
       "    </tr>\n",
       "    <tr>\n",
       "      <th>3</th>\n",
       "      <td>4</td>\n",
       "      <td>Delhi</td>\n",
       "      <td>India</td>\n",
       "      <td>96.4</td>\n",
       "      <td>183.7</td>\n",
       "      <td>142.2</td>\n",
       "      <td>80.5</td>\n",
       "      <td>72.9</td>\n",
       "      <td>47.4</td>\n",
       "      <td>47.1</td>\n",
       "      <td>35.6</td>\n",
       "      <td>36.9</td>\n",
       "      <td>30.2</td>\n",
       "      <td>73.7</td>\n",
       "      <td>224.1</td>\n",
       "      <td>186.4</td>\n",
       "      <td>84.1</td>\n",
       "      <td>98.6</td>\n",
       "      <td>113.5</td>\n",
       "      <td>108.2</td>\n",
       "    </tr>\n",
       "    <tr>\n",
       "      <th>4</th>\n",
       "      <td>5</td>\n",
       "      <td>Jaunpur</td>\n",
       "      <td>India</td>\n",
       "      <td>95.3</td>\n",
       "      <td>182.2</td>\n",
       "      <td>143.5</td>\n",
       "      <td>91.0</td>\n",
       "      <td>70.0</td>\n",
       "      <td>51.1</td>\n",
       "      <td>40.7</td>\n",
       "      <td>33.5</td>\n",
       "      <td>34.2</td>\n",
       "      <td>36.8</td>\n",
       "      <td>75.7</td>\n",
       "      <td>196.0</td>\n",
       "      <td>195.7</td>\n",
       "      <td>NaN</td>\n",
       "      <td>NaN</td>\n",
       "      <td>NaN</td>\n",
       "      <td>NaN</td>\n",
       "    </tr>\n",
       "  </tbody>\n",
       "</table>\n",
       "</div>"
      ],
      "text/plain": [
       "   Rank       City Country  Year_2021    Jan    Feb    Mar    Apr    May  \\\n",
       "0     1    Bhiwadi   India      106.2  145.8  129.8  120.2  125.7   86.5   \n",
       "1     2  Ghaziabad   India      102.0  199.9  172.2   97.8   86.3   52.9   \n",
       "2     3      Hotan   China      101.5    NaN    NaN  158.0   91.1  167.4   \n",
       "3     4      Delhi   India       96.4  183.7  142.2   80.5   72.9   47.4   \n",
       "4     5    Jaunpur   India       95.3  182.2  143.5   91.0   70.0   51.1   \n",
       "\n",
       "    Jun   Jul   Aug   Sep    Oct    Nov    Dec  Year_2020  Year_2019  \\\n",
       "0  95.9  55.6  55.4  37.1   91.1  188.6  136.6       95.5       83.4   \n",
       "1  47.2  35.3  37.6  30.8   89.7  218.3  163.0      106.6      110.2   \n",
       "2  57.4  70.9  93.2  79.3  126.1  111.5   62.6      110.2      110.1   \n",
       "3  47.1  35.6  36.9  30.2   73.7  224.1  186.4       84.1       98.6   \n",
       "4  40.7  33.5  34.2  36.8   75.7  196.0  195.7        NaN        NaN   \n",
       "\n",
       "   Year_2018  Year_2017  \n",
       "0      125.4        NaN  \n",
       "1      135.2      144.6  \n",
       "2      116.0       91.9  \n",
       "3      113.5      108.2  \n",
       "4        NaN        NaN  "
      ]
     },
     "execution_count": 2,
     "metadata": {},
     "output_type": "execute_result"
    }
   ],
   "source": [
    "path = './air_quality/dataset/airdata6years.csv'\n",
    "df = pd.read_csv(path)\n",
    "\n",
    "df = df.drop('Unnamed: 0', axis = 1)\n",
    "df.head()"
   ]
  },
  {
   "cell_type": "markdown",
   "id": "644e483e",
   "metadata": {},
   "source": [
    "Đưa ra bảng thống kê và vẽ biểu đồ thể hiện biến động"
   ]
  },
  {
   "cell_type": "markdown",
   "id": "2e113675",
   "metadata": {},
   "source": [
    "***1/ Thống kê thành phố có tỷ lệ ô nhiễm cao nhất, thấp nhất***"
   ]
  },
  {
   "cell_type": "markdown",
   "id": "f0656e3c",
   "metadata": {},
   "source": [
    "Vì mỗi cột số liệu đều chứa giá trị nan nên sẽ thực hiện thay các giá trị này bằng trung vị (median) ở cell bên dưới. Do số lượng giá trị nan tương đối nhiều nên việc thay bằng giá trị median có tính hợp lý hơn là 0 hoặc mean vì sẽ ảnh hưởng tới dữ liệu"
   ]
  },
  {
   "cell_type": "code",
   "execution_count": 3,
   "id": "51c4e28d",
   "metadata": {},
   "outputs": [],
   "source": [
    "#Liệt kê những cột kiểu dữ liệu số trong df\n",
    "numberic_cols = ['Year_2021', 'Jan', 'Feb', 'Mar', 'Apr', 'May', 'Jun', 'Jul', 'Aug', 'Sep', 'Oct', 'Nov', 'Dec',\n",
    "                'Year_2020', 'Year_2019', 'Year_2018', 'Year_2017']\n",
    "\n",
    "#Lặp những cột số để thay đổi nan bằng median\n",
    "for i in numberic_cols:\n",
    "    med = df[i].median() #giá trị median của mỗi cột\n",
    "    df[i] = df[i].fillna(med)"
   ]
  },
  {
   "cell_type": "markdown",
   "id": "021e9098",
   "metadata": {},
   "source": [
    "*Định nghĩa hàm tìm cần thiết:*"
   ]
  },
  {
   "cell_type": "code",
   "execution_count": 4,
   "id": "62053cc1",
   "metadata": {},
   "outputs": [],
   "source": [
    "#Hàm tìm top 5 thành phố có giá trị lớn nhất\n",
    "def findMax5City(df, year):\n",
    "    year_col = f'Year_{year}'\n",
    "    \n",
    "    index = df[year_col].sort_values(ascending = False)[:5].index #Vị trí 5 thành phố cao nhất\n",
    "    \n",
    "    city = df['City'].loc[index].values #5 thành phố cao nhất\n",
    "    \n",
    "    #Danh sách để trả về series, gồm năm và 5 thành phố\n",
    "    lst = np.insert(city, 0, year)\n",
    "    \n",
    "    return pd.Series(lst)\n",
    "\n",
    "#Hàm tìm top 5 thành phố có giá trị nhỏ nhất\n",
    "def findMin5City(df, year):\n",
    "    year_col = f'Year_{year}'\n",
    "    \n",
    "    index = df[year_col].sort_values(ascending = True)[:5].index #Vị trí 5 thành phố nhỏ nhất\n",
    "    \n",
    "    city = df['City'].loc[index].values #5 thành phố nhỏ nhất\n",
    "    \n",
    "    #Danh sách để trả về series, gồm năm và 5 thành phố\n",
    "    lst = np.insert(city, 0, year)\n",
    "    \n",
    "    return pd.Series(lst)"
   ]
  },
  {
   "cell_type": "markdown",
   "id": "d529d251",
   "metadata": {},
   "source": [
    "*Lập 2 bảng thống kê:*"
   ]
  },
  {
   "cell_type": "code",
   "execution_count": 5,
   "id": "b2cfd34e",
   "metadata": {},
   "outputs": [
    {
     "name": "stdout",
     "output_type": "stream",
     "text": [
      "TOP 5 MIN CITY\n",
      "            Top 1         Top 2      Top 3        Top 4        Top 5\n",
      "Year                                                                \n",
      "2017    Bredkalen       Judbury  Emu River  Bream Creak       Exeter\n",
      "2018      Judbury     Emu River  St Helens   Oak Harbor   Mornington\n",
      "2019  Kailua-Kona  Captain Cook     Waimea    St Helens    Emu River\n",
      "2020       Waimea       Judbury  St Helens    Emu River  Kailua-Kona\n",
      "2021          Chu     St Helens    Judbury    Emu River   Mornington\n",
      "\n",
      "\n",
      "TOP 5 MAX CITY\n",
      "          Top 1      Top 2        Top 3      Top 4    Top 5\n",
      "Year                                                       \n",
      "2017   Gurugram  Ghaziabad        Noida     Lahore     Jind\n",
      "2018   Gurugram  Ghaziabad   Faisalabad  Faridabad  Bhiwadi\n",
      "2019  Ghaziabad      Hotan   Faisalabad      Delhi    Noida\n",
      "2020      Hotan  Ghaziabad  Bulandshahr    Bhiwadi    Noida\n",
      "2021    Bhiwadi  Ghaziabad        Hotan      Delhi  Jaunpur\n"
     ]
    }
   ],
   "source": [
    "#Danh sách các năm\n",
    "years = [2017, 2018, 2019, 2020, 2021]\n",
    "years = np.array(years)\n",
    "\n",
    "#Danh sách các series để tạo thành bảng \n",
    "lst_min_value = []\n",
    "lst_max_value = []\n",
    "\n",
    "### Min\n",
    "for i in years: #Lặp qua từng năm\n",
    "    lst_min_value.append(findMin5City(df, i))\n",
    "\n",
    "#Tạo mmin_df và đổi tên cột\n",
    "min_df = pd.DataFrame(lst_min_value)\n",
    "\n",
    "min_df = min_df.rename(columns = {0 : 'Year', 1 : 'Top 1', 2 : 'Top 2', 3 : 'Top 3', 4 : 'Top 4', 5 : 'Top 5'})\n",
    "\n",
    "min_df = min_df.set_index('Year')\n",
    "\n",
    "print('TOP 5 MIN CITY')\n",
    "print(min_df)\n",
    "print('\\n')\n",
    "\n",
    "\n",
    "### Max\n",
    "for i in years: #Lặp qua từng năm\n",
    "    lst_max_value.append(findMax5City(df, i))\n",
    "\n",
    "#Tạo mmin_df và đổi tên cột\n",
    "max_df = pd.DataFrame(lst_max_value)\n",
    "\n",
    "max_df = max_df.rename(columns = {0 : 'Year', 1 : 'Top 1', 2 : 'Top 2', 3 : 'Top 3', 4 : 'Top 4', 5 : 'Top 5'})\n",
    "\n",
    "max_df = max_df.set_index('Year')\n",
    "\n",
    "print('TOP 5 MAX CITY')\n",
    "print(max_df)\n"
   ]
  },
  {
   "cell_type": "markdown",
   "id": "449be46e",
   "metadata": {},
   "source": [
    "Dựa vào bảng trên ta có thể thấy  vào năm 2021 Bhiwadi là thành phố ô nhiễm nhất và Chu là thành phố ít ô nhiễm nhất. Vì vậy ta sẽ lần lượt vẽ biểu đồ đường qua các tháng để thể hiện sự biến động ô nhiễm theo thời gian của 2 thành phố này."
   ]
  },
  {
   "cell_type": "markdown",
   "id": "653e9654",
   "metadata": {},
   "source": [
    "***Vẽ biểu đồ đường thể hiện sự biến đổi ở Bhiwadi, Chu***"
   ]
  },
  {
   "cell_type": "markdown",
   "id": "2bc02bb6",
   "metadata": {},
   "source": [
    "*Ta sử dụng biểu đồ đường để thể hiện vì đây là biểu đồ trực quan tốt nhất cho được sự tăng giảm giá trị trên một khoảng thời gian nào đó, giúp người nhìn có thể nắm rõ được sự biến đổi đó hơn khi so với các loại biểu đồ khác*"
   ]
  },
  {
   "cell_type": "code",
   "execution_count": 6,
   "id": "0837f665",
   "metadata": {},
   "outputs": [
    {
     "data": {
      "image/png": "[encoded data removed]",
      "text/plain": [
       "<Figure size 1500x500 with 2 Axes>"
      ]
     },
     "metadata": {},
     "output_type": "display_data"
    }
   ],
   "source": [
    "months = ['Jan', 'Feb', 'Mar', 'Apr', 'May', 'Jun', 'Jul', 'Aug', 'Sep', 'Oct', 'Nov', 'Dec'] #Các tháng\n",
    "\n",
    "plt.subplots(figsize=(15, 5))\n",
    "\n",
    "# Bhiwadi\n",
    "values1 = df.loc[df['City'] == 'Bhiwadi'][months].values[0] #Giá trị ứng với mỗi tháng\n",
    "\n",
    "#Vẽ biểu đồ đường\n",
    "plt.subplot(1, 2, 1)\n",
    "plt.plot(months, values1, marker = 'o')\n",
    "\n",
    "#Customize chart\n",
    "plt.title('Biểu đồ sự thay đổi mật độ ô nhiễm theo tháng của Bhiwadi')\n",
    "plt.xlabel('Tháng', fontsize = 10)\n",
    "plt.ylabel('Giá trị',fontsize = 10)\n",
    "\n",
    "# Chu\n",
    "values2 = df.loc[df['City'] == 'Chu'][months].values[0] #Giá trị ứng với mỗi tháng\n",
    "\n",
    "#Vẽ biểu đồ đường\n",
    "plt.subplot(1, 2, 2)\n",
    "plt.plot(months, values2, marker = 'o')\n",
    "\n",
    "#Customize chart\n",
    "plt.title('Biểu đồ sự thay đổi mật độ ô nhiễm theo tháng của Chu')\n",
    "plt.xlabel('Tháng', fontsize = 10)\n",
    "plt.ylabel('Giá trị',fontsize = 10)\n",
    "\n",
    "plt.tight_layout()\n",
    "plt.show()"
   ]
  },
  {
   "cell_type": "markdown",
   "id": "2682dc31",
   "metadata": {},
   "source": [
    "***Nhận xét về biểu đồ***"
   ]
  },
  {
   "cell_type": "markdown",
   "id": "1b953ffa",
   "metadata": {},
   "source": [
    "2 biểu đồ trên ở cột giá trị đã cho thấy sự chênh lệch rất nhiều giữa 2 khoảng độ đo giá trị ô nhiễm giữa thành phố ô nhiễm nhất và sạch nhất.\\\n",
    "Chu có giá trị ô nhiễm tăng vào tháng 2, 3 và 8 nhưng giá trị tăng không đáng kể (0.1) nên chúng ta có thể bỏ qua việc giải thích biến động.\\\n",
    "Bhiwadi có sự biến đổi giá trị ô nhiễm tăng mạnh vào tháng 11 so với tháng khác trong năm nên ở đây có thể thử giải thích tại sao có sự biến động này."
   ]
  },
  {
   "cell_type": "markdown",
   "id": "700d545a",
   "metadata": {},
   "source": [
    "**Giải thích:** Theo như sự tìm hiểu, vào tháng 11 ở Ấn độ (India) thường có nhiều lễ hội và ngày lễ được diễn ra, chính vì thế có khả năng trong những ngày lễ này các hoạt động phong tục truyền thống được tổ chức đã có những hoạt động làm hàm lượng nhiều loại chất khí gây hại cho môi trường từ đó làm giảm đi chất lượng không khí sạch, tăng chỉ số ô nhiễm lên một cách nhanh chóng."
   ]
  }
 ],
 "metadata": {
  "kernelspec": {
   "display_name": "Python 3 (ipykernel)",
   "language": "python",
   "name": "python3"
  },
  "language_info": {
   "codemirror_mode": {
    "name": "ipython",
    "version": 3
   },
   "file_extension": ".py",
   "mimetype": "text/x-python",
   "name": "python",
   "nbconvert_exporter": "python",
   "pygments_lexer": "ipython3",
   "version": "3.8.8"
  }
 },
 "nbformat": 4,
 "nbformat_minor": 5
}
